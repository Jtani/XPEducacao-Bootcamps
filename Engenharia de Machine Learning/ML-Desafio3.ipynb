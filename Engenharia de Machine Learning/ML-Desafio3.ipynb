{
 "cells": [
  {
   "cell_type": "markdown",
   "id": "31ccb4b7-20c2-4bef-a674-cee01faca37d",
   "metadata": {},
   "source": [
    "# Engenharia de Machine Learning - XP Educação - Desafio 3 - nov/2022\n"
   ]
  },
  {
   "cell_type": "markdown",
   "id": "e102f2a0-a159-4178-89f1-4ebc707f33f5",
   "metadata": {},
   "source": [
    "## Objetivos\n",
    "Exercitar os seguintes conceitos trabalhados no Módulo:\n",
    "- Neste desafio, vamos trabalhar os conceitos vistos sobre métricas de desempenho, técnicas\n",
    "de validação e sintonia de hiperparâmetros.\n",
    "- Também vamos olhar para o fluxo completo de seleção de um modelo de aprendizado.\n",
    "\n",
    "Dataset: https://www.openml.org/search?type=data&sort=runs&id=1480&status=active"
   ]
  },
  {
   "cell_type": "markdown",
   "id": "5df764b3-bbdb-4271-9c75-81fa9f5f2b53",
   "metadata": {},
   "source": [
    "## Carregando as bibliotecas e o dataset"
   ]
  },
  {
   "cell_type": "code",
   "execution_count": 35,
   "id": "3c7efefc-91e2-4946-ba83-827113a45eee",
   "metadata": {},
   "outputs": [],
   "source": [
    "import pandas as pd\n",
    "from sklearn.model_selection import train_test_split\n",
    "\n",
    "from sklearn.ensemble import RandomForestClassifier\n",
    "from sklearn.svm import SVC\n",
    "from sklearn.neural_network import MLPClassifier\n",
    "from sklearn.preprocessing import MinMaxScaler\n",
    "from sklearn.metrics import confusion_matrix, accuracy_score, f1_score, make_scorer, roc_auc_score\n",
    "from sklearn import metrics\n",
    "\n",
    "from sklearn.model_selection import StratifiedKFold\n",
    "from sklearn.model_selection import RandomizedSearchCV\n",
    "from scipy.stats import uniform\n",
    "from scipy.stats import randint\n"
   ]
  },
  {
   "cell_type": "code",
   "execution_count": 36,
   "id": "bf6c85fe-6508-490e-a267-cf9f407c0225",
   "metadata": {},
   "outputs": [
    {
     "data": {
      "text/html": [
       "<div>\n",
       "<style scoped>\n",
       "    .dataframe tbody tr th:only-of-type {\n",
       "        vertical-align: middle;\n",
       "    }\n",
       "\n",
       "    .dataframe tbody tr th {\n",
       "        vertical-align: top;\n",
       "    }\n",
       "\n",
       "    .dataframe thead th {\n",
       "        text-align: right;\n",
       "    }\n",
       "</style>\n",
       "<table border=\"1\" class=\"dataframe\">\n",
       "  <thead>\n",
       "    <tr style=\"text-align: right;\">\n",
       "      <th></th>\n",
       "      <th>V1</th>\n",
       "      <th>V2</th>\n",
       "      <th>V3</th>\n",
       "      <th>V4</th>\n",
       "      <th>V5</th>\n",
       "      <th>V6</th>\n",
       "      <th>V7</th>\n",
       "      <th>V8</th>\n",
       "      <th>V9</th>\n",
       "      <th>V10</th>\n",
       "      <th>Class</th>\n",
       "    </tr>\n",
       "    <tr>\n",
       "      <th>id</th>\n",
       "      <th></th>\n",
       "      <th></th>\n",
       "      <th></th>\n",
       "      <th></th>\n",
       "      <th></th>\n",
       "      <th></th>\n",
       "      <th></th>\n",
       "      <th></th>\n",
       "      <th></th>\n",
       "      <th></th>\n",
       "      <th></th>\n",
       "    </tr>\n",
       "  </thead>\n",
       "  <tbody>\n",
       "    <tr>\n",
       "      <th>1</th>\n",
       "      <td>65</td>\n",
       "      <td>Female</td>\n",
       "      <td>0.7</td>\n",
       "      <td>0.1</td>\n",
       "      <td>187</td>\n",
       "      <td>16</td>\n",
       "      <td>18</td>\n",
       "      <td>6.8</td>\n",
       "      <td>3.3</td>\n",
       "      <td>0.90</td>\n",
       "      <td>1</td>\n",
       "    </tr>\n",
       "    <tr>\n",
       "      <th>2</th>\n",
       "      <td>62</td>\n",
       "      <td>Male</td>\n",
       "      <td>10.9</td>\n",
       "      <td>5.5</td>\n",
       "      <td>699</td>\n",
       "      <td>64</td>\n",
       "      <td>100</td>\n",
       "      <td>7.5</td>\n",
       "      <td>3.2</td>\n",
       "      <td>0.74</td>\n",
       "      <td>1</td>\n",
       "    </tr>\n",
       "    <tr>\n",
       "      <th>3</th>\n",
       "      <td>62</td>\n",
       "      <td>Male</td>\n",
       "      <td>7.3</td>\n",
       "      <td>4.1</td>\n",
       "      <td>490</td>\n",
       "      <td>60</td>\n",
       "      <td>68</td>\n",
       "      <td>7.0</td>\n",
       "      <td>3.3</td>\n",
       "      <td>0.89</td>\n",
       "      <td>1</td>\n",
       "    </tr>\n",
       "    <tr>\n",
       "      <th>4</th>\n",
       "      <td>58</td>\n",
       "      <td>Male</td>\n",
       "      <td>1.0</td>\n",
       "      <td>0.4</td>\n",
       "      <td>182</td>\n",
       "      <td>14</td>\n",
       "      <td>20</td>\n",
       "      <td>6.8</td>\n",
       "      <td>3.4</td>\n",
       "      <td>1.00</td>\n",
       "      <td>1</td>\n",
       "    </tr>\n",
       "    <tr>\n",
       "      <th>5</th>\n",
       "      <td>72</td>\n",
       "      <td>Male</td>\n",
       "      <td>3.9</td>\n",
       "      <td>2.0</td>\n",
       "      <td>195</td>\n",
       "      <td>27</td>\n",
       "      <td>59</td>\n",
       "      <td>7.3</td>\n",
       "      <td>2.4</td>\n",
       "      <td>0.40</td>\n",
       "      <td>1</td>\n",
       "    </tr>\n",
       "  </tbody>\n",
       "</table>\n",
       "</div>"
      ],
      "text/plain": [
       "    V1      V2    V3   V4   V5  V6   V7   V8   V9   V10  Class\n",
       "id                                                            \n",
       "1   65  Female   0.7  0.1  187  16   18  6.8  3.3  0.90      1\n",
       "2   62    Male  10.9  5.5  699  64  100  7.5  3.2  0.74      1\n",
       "3   62    Male   7.3  4.1  490  60   68  7.0  3.3  0.89      1\n",
       "4   58    Male   1.0  0.4  182  14   20  6.8  3.4  1.00      1\n",
       "5   72    Male   3.9  2.0  195  27   59  7.3  2.4  0.40      1"
      ]
     },
     "execution_count": 36,
     "metadata": {},
     "output_type": "execute_result"
    }
   ],
   "source": [
    "# carregando o dataset\n",
    "df = pd.read_csv(\"ilpd.csv\", index_col='id') # Temos uma coluna 'id' e vamos usá-la como index do dataframe\n",
    "df.head()"
   ]
  },
  {
   "cell_type": "code",
   "execution_count": 37,
   "id": "f2522dc0-ea76-4f69-aea9-e0f5cab91c6a",
   "metadata": {},
   "outputs": [
    {
     "data": {
      "text/html": [
       "<div>\n",
       "<style scoped>\n",
       "    .dataframe tbody tr th:only-of-type {\n",
       "        vertical-align: middle;\n",
       "    }\n",
       "\n",
       "    .dataframe tbody tr th {\n",
       "        vertical-align: top;\n",
       "    }\n",
       "\n",
       "    .dataframe thead th {\n",
       "        text-align: right;\n",
       "    }\n",
       "</style>\n",
       "<table border=\"1\" class=\"dataframe\">\n",
       "  <thead>\n",
       "    <tr style=\"text-align: right;\">\n",
       "      <th></th>\n",
       "      <th>V1</th>\n",
       "      <th>V2</th>\n",
       "      <th>V3</th>\n",
       "      <th>V4</th>\n",
       "      <th>V5</th>\n",
       "      <th>V6</th>\n",
       "      <th>V7</th>\n",
       "      <th>V8</th>\n",
       "      <th>V9</th>\n",
       "      <th>V10</th>\n",
       "      <th>Class</th>\n",
       "    </tr>\n",
       "    <tr>\n",
       "      <th>id</th>\n",
       "      <th></th>\n",
       "      <th></th>\n",
       "      <th></th>\n",
       "      <th></th>\n",
       "      <th></th>\n",
       "      <th></th>\n",
       "      <th></th>\n",
       "      <th></th>\n",
       "      <th></th>\n",
       "      <th></th>\n",
       "      <th></th>\n",
       "    </tr>\n",
       "  </thead>\n",
       "  <tbody>\n",
       "    <tr>\n",
       "      <th>579</th>\n",
       "      <td>60</td>\n",
       "      <td>Male</td>\n",
       "      <td>0.5</td>\n",
       "      <td>0.1</td>\n",
       "      <td>500</td>\n",
       "      <td>20</td>\n",
       "      <td>34</td>\n",
       "      <td>5.9</td>\n",
       "      <td>1.6</td>\n",
       "      <td>0.37</td>\n",
       "      <td>2</td>\n",
       "    </tr>\n",
       "    <tr>\n",
       "      <th>580</th>\n",
       "      <td>40</td>\n",
       "      <td>Male</td>\n",
       "      <td>0.6</td>\n",
       "      <td>0.1</td>\n",
       "      <td>98</td>\n",
       "      <td>35</td>\n",
       "      <td>31</td>\n",
       "      <td>6.0</td>\n",
       "      <td>3.2</td>\n",
       "      <td>1.10</td>\n",
       "      <td>1</td>\n",
       "    </tr>\n",
       "    <tr>\n",
       "      <th>581</th>\n",
       "      <td>52</td>\n",
       "      <td>Male</td>\n",
       "      <td>0.8</td>\n",
       "      <td>0.2</td>\n",
       "      <td>245</td>\n",
       "      <td>48</td>\n",
       "      <td>49</td>\n",
       "      <td>6.4</td>\n",
       "      <td>3.2</td>\n",
       "      <td>1.00</td>\n",
       "      <td>1</td>\n",
       "    </tr>\n",
       "    <tr>\n",
       "      <th>582</th>\n",
       "      <td>31</td>\n",
       "      <td>Male</td>\n",
       "      <td>1.3</td>\n",
       "      <td>0.5</td>\n",
       "      <td>184</td>\n",
       "      <td>29</td>\n",
       "      <td>32</td>\n",
       "      <td>6.8</td>\n",
       "      <td>3.4</td>\n",
       "      <td>1.00</td>\n",
       "      <td>1</td>\n",
       "    </tr>\n",
       "    <tr>\n",
       "      <th>583</th>\n",
       "      <td>38</td>\n",
       "      <td>Male</td>\n",
       "      <td>1.0</td>\n",
       "      <td>0.3</td>\n",
       "      <td>216</td>\n",
       "      <td>21</td>\n",
       "      <td>24</td>\n",
       "      <td>7.3</td>\n",
       "      <td>4.4</td>\n",
       "      <td>1.50</td>\n",
       "      <td>2</td>\n",
       "    </tr>\n",
       "  </tbody>\n",
       "</table>\n",
       "</div>"
      ],
      "text/plain": [
       "     V1    V2   V3   V4   V5  V6  V7   V8   V9   V10  Class\n",
       "id                                                         \n",
       "579  60  Male  0.5  0.1  500  20  34  5.9  1.6  0.37      2\n",
       "580  40  Male  0.6  0.1   98  35  31  6.0  3.2  1.10      1\n",
       "581  52  Male  0.8  0.2  245  48  49  6.4  3.2  1.00      1\n",
       "582  31  Male  1.3  0.5  184  29  32  6.8  3.4  1.00      1\n",
       "583  38  Male  1.0  0.3  216  21  24  7.3  4.4  1.50      2"
      ]
     },
     "execution_count": 37,
     "metadata": {},
     "output_type": "execute_result"
    }
   ],
   "source": [
    "df.tail()"
   ]
  },
  {
   "cell_type": "markdown",
   "id": "05079b62-45da-4d5b-a15a-bdb22fbd325d",
   "metadata": {
    "tags": []
   },
   "source": [
    "## 1) O objetivo dessa base é avaliar se uma pessoa vai ser um paciente hepático ou não. A feature que determina a classe nessa base é a “V7”.\n"
   ]
  },
  {
   "cell_type": "markdown",
   "id": "8562c12b-14e6-4390-af8c-924adefd2b7b",
   "metadata": {},
   "source": [
    "### Resposta: Falso, a feature V7 é de Sgot Aspartate Aminotransferase segundo a descrição no site e a feature Class é a que determina a classe"
   ]
  },
  {
   "cell_type": "markdown",
   "id": "5b0f9345-1dc6-4a3b-b0ca-826798f79145",
   "metadata": {},
   "source": [
    "## 2) Sobre as informações de número de features e amostras, marque a alternativa CORRETA. \n"
   ]
  },
  {
   "cell_type": "code",
   "execution_count": 38,
   "id": "68384b88-11a4-4edb-b63f-9c6e00815e80",
   "metadata": {},
   "outputs": [
    {
     "data": {
      "text/plain": [
       "(583, 11)"
      ]
     },
     "execution_count": 38,
     "metadata": {},
     "output_type": "execute_result"
    }
   ],
   "source": [
    "df.shape"
   ]
  },
  {
   "cell_type": "code",
   "execution_count": 39,
   "id": "7492e836-e3fb-4f64-b80b-0cb34c7738b8",
   "metadata": {},
   "outputs": [
    {
     "name": "stdout",
     "output_type": "stream",
     "text": [
      "<class 'pandas.core.frame.DataFrame'>\n",
      "Int64Index: 583 entries, 1 to 583\n",
      "Data columns (total 11 columns):\n",
      " #   Column  Non-Null Count  Dtype  \n",
      "---  ------  --------------  -----  \n",
      " 0   V1      583 non-null    int64  \n",
      " 1   V2      583 non-null    object \n",
      " 2   V3      583 non-null    float64\n",
      " 3   V4      583 non-null    float64\n",
      " 4   V5      583 non-null    int64  \n",
      " 5   V6      583 non-null    int64  \n",
      " 6   V7      583 non-null    int64  \n",
      " 7   V8      583 non-null    float64\n",
      " 8   V9      583 non-null    float64\n",
      " 9   V10     583 non-null    float64\n",
      " 10  Class   583 non-null    int64  \n",
      "dtypes: float64(5), int64(5), object(1)\n",
      "memory usage: 54.7+ KB\n"
     ]
    }
   ],
   "source": [
    "df.info()"
   ]
  },
  {
   "cell_type": "markdown",
   "id": "18b7b846-29af-4992-87ae-b0f9497dcba0",
   "metadata": {},
   "source": [
    "### Resposta: 583 amostras e 11 features incluindo o atributo classe"
   ]
  },
  {
   "cell_type": "markdown",
   "id": "904d92bf-a079-4dce-a432-fba3759a2cee",
   "metadata": {},
   "source": [
    "## 3) Essa base conta com 3 atributos categóricos. Precisamos fazer o pré processamento desses atributos para que todos sejam numéricos.\n"
   ]
  },
  {
   "cell_type": "markdown",
   "id": "f6d20f20-a5da-4c62-8ce5-956a3bebfd15",
   "metadata": {},
   "source": [
    "#### Temos 2 atributos categóricos: V2 e Class apesar de ser numérico "
   ]
  },
  {
   "cell_type": "markdown",
   "id": "9ac5aa5d-e9cc-423a-bd56-913909e02d15",
   "metadata": {},
   "source": [
    "### Resposta: Falso, apenas 2 atributos categóricos"
   ]
  },
  {
   "cell_type": "markdown",
   "id": "7d8ae318-1ed1-4be5-b706-ed00195651ec",
   "metadata": {},
   "source": [
    "## 4) A base não tem dados faltantes. \n"
   ]
  },
  {
   "cell_type": "code",
   "execution_count": 40,
   "id": "67ec2d40-aec0-44da-bd19-dd1586227064",
   "metadata": {},
   "outputs": [
    {
     "data": {
      "text/plain": [
       "V1       0\n",
       "V2       0\n",
       "V3       0\n",
       "V4       0\n",
       "V5       0\n",
       "V6       0\n",
       "V7       0\n",
       "V8       0\n",
       "V9       0\n",
       "V10      0\n",
       "Class    0\n",
       "dtype: int64"
      ]
     },
     "execution_count": 40,
     "metadata": {},
     "output_type": "execute_result"
    }
   ],
   "source": [
    "df.isnull().sum()"
   ]
  },
  {
   "cell_type": "code",
   "execution_count": 41,
   "id": "5773f01d-0c54-47ae-99d4-1daaac8ab644",
   "metadata": {},
   "outputs": [
    {
     "data": {
      "text/plain": [
       "V1       0\n",
       "V2       0\n",
       "V3       0\n",
       "V4       0\n",
       "V5       0\n",
       "V6       0\n",
       "V7       0\n",
       "V8       0\n",
       "V9       0\n",
       "V10      0\n",
       "Class    0\n",
       "dtype: int64"
      ]
     },
     "execution_count": 41,
     "metadata": {},
     "output_type": "execute_result"
    }
   ],
   "source": [
    "df.isna().sum()"
   ]
  },
  {
   "cell_type": "markdown",
   "id": "7c9842cd-7e5a-4adb-bd6a-3ea0cce73f19",
   "metadata": {},
   "source": [
    "### Resposta: Verdadeiro"
   ]
  },
  {
   "cell_type": "markdown",
   "id": "5ab385c0-24ee-4e7a-b582-261a9030c9fd",
   "metadata": {},
   "source": [
    "## 5) Sobre o best_score_ encontrado durante a otimização do SVC, marque a alternativa CORRETA. \n"
   ]
  },
  {
   "cell_type": "code",
   "execution_count": 42,
   "id": "049bb636-da66-44c6-b7ed-de7f3b8b12be",
   "metadata": {},
   "outputs": [
    {
     "data": {
      "text/plain": [
       "array(['Female', 'Male'], dtype=object)"
      ]
     },
     "execution_count": 42,
     "metadata": {},
     "output_type": "execute_result"
    }
   ],
   "source": [
    "# Analisando a variável V2\n",
    "df['V2'].unique()"
   ]
  },
  {
   "cell_type": "code",
   "execution_count": 43,
   "id": "2ca70332-177c-48a1-90e2-05179535fd44",
   "metadata": {},
   "outputs": [
    {
     "data": {
      "text/html": [
       "<div>\n",
       "<style scoped>\n",
       "    .dataframe tbody tr th:only-of-type {\n",
       "        vertical-align: middle;\n",
       "    }\n",
       "\n",
       "    .dataframe tbody tr th {\n",
       "        vertical-align: top;\n",
       "    }\n",
       "\n",
       "    .dataframe thead th {\n",
       "        text-align: right;\n",
       "    }\n",
       "</style>\n",
       "<table border=\"1\" class=\"dataframe\">\n",
       "  <thead>\n",
       "    <tr style=\"text-align: right;\">\n",
       "      <th></th>\n",
       "      <th>V1</th>\n",
       "      <th>V2</th>\n",
       "      <th>V3</th>\n",
       "      <th>V4</th>\n",
       "      <th>V5</th>\n",
       "      <th>V6</th>\n",
       "      <th>V7</th>\n",
       "      <th>V8</th>\n",
       "      <th>V9</th>\n",
       "      <th>V10</th>\n",
       "      <th>Class</th>\n",
       "    </tr>\n",
       "    <tr>\n",
       "      <th>id</th>\n",
       "      <th></th>\n",
       "      <th></th>\n",
       "      <th></th>\n",
       "      <th></th>\n",
       "      <th></th>\n",
       "      <th></th>\n",
       "      <th></th>\n",
       "      <th></th>\n",
       "      <th></th>\n",
       "      <th></th>\n",
       "      <th></th>\n",
       "    </tr>\n",
       "  </thead>\n",
       "  <tbody>\n",
       "    <tr>\n",
       "      <th>1</th>\n",
       "      <td>65</td>\n",
       "      <td>0</td>\n",
       "      <td>0.7</td>\n",
       "      <td>0.1</td>\n",
       "      <td>187</td>\n",
       "      <td>16</td>\n",
       "      <td>18</td>\n",
       "      <td>6.8</td>\n",
       "      <td>3.3</td>\n",
       "      <td>0.90</td>\n",
       "      <td>1</td>\n",
       "    </tr>\n",
       "    <tr>\n",
       "      <th>2</th>\n",
       "      <td>62</td>\n",
       "      <td>1</td>\n",
       "      <td>10.9</td>\n",
       "      <td>5.5</td>\n",
       "      <td>699</td>\n",
       "      <td>64</td>\n",
       "      <td>100</td>\n",
       "      <td>7.5</td>\n",
       "      <td>3.2</td>\n",
       "      <td>0.74</td>\n",
       "      <td>1</td>\n",
       "    </tr>\n",
       "    <tr>\n",
       "      <th>3</th>\n",
       "      <td>62</td>\n",
       "      <td>1</td>\n",
       "      <td>7.3</td>\n",
       "      <td>4.1</td>\n",
       "      <td>490</td>\n",
       "      <td>60</td>\n",
       "      <td>68</td>\n",
       "      <td>7.0</td>\n",
       "      <td>3.3</td>\n",
       "      <td>0.89</td>\n",
       "      <td>1</td>\n",
       "    </tr>\n",
       "    <tr>\n",
       "      <th>4</th>\n",
       "      <td>58</td>\n",
       "      <td>1</td>\n",
       "      <td>1.0</td>\n",
       "      <td>0.4</td>\n",
       "      <td>182</td>\n",
       "      <td>14</td>\n",
       "      <td>20</td>\n",
       "      <td>6.8</td>\n",
       "      <td>3.4</td>\n",
       "      <td>1.00</td>\n",
       "      <td>1</td>\n",
       "    </tr>\n",
       "    <tr>\n",
       "      <th>5</th>\n",
       "      <td>72</td>\n",
       "      <td>1</td>\n",
       "      <td>3.9</td>\n",
       "      <td>2.0</td>\n",
       "      <td>195</td>\n",
       "      <td>27</td>\n",
       "      <td>59</td>\n",
       "      <td>7.3</td>\n",
       "      <td>2.4</td>\n",
       "      <td>0.40</td>\n",
       "      <td>1</td>\n",
       "    </tr>\n",
       "  </tbody>\n",
       "</table>\n",
       "</div>"
      ],
      "text/plain": [
       "    V1  V2    V3   V4   V5  V6   V7   V8   V9   V10  Class\n",
       "id                                                        \n",
       "1   65   0   0.7  0.1  187  16   18  6.8  3.3  0.90      1\n",
       "2   62   1  10.9  5.5  699  64  100  7.5  3.2  0.74      1\n",
       "3   62   1   7.3  4.1  490  60   68  7.0  3.3  0.89      1\n",
       "4   58   1   1.0  0.4  182  14   20  6.8  3.4  1.00      1\n",
       "5   72   1   3.9  2.0  195  27   59  7.3  2.4  0.40      1"
      ]
     },
     "execution_count": 43,
     "metadata": {},
     "output_type": "execute_result"
    }
   ],
   "source": [
    "#criando um dicionario de dados para o mapeamento\n",
    "name_to_class = {'Female': 0, 'Male': 1}\n",
    "\n",
    "#substituindo os valores categóricos pelo mapeamento\n",
    "# Female: 0 , Male = 1\n",
    "df['V2'] = df['V2'].map(name_to_class)\n",
    "\n",
    "#check\n",
    "df.head(5)"
   ]
  },
  {
   "cell_type": "code",
   "execution_count": 44,
   "id": "6d22d387-2a18-407b-b57c-bc7ac4ecf952",
   "metadata": {},
   "outputs": [],
   "source": [
    "# Separando a variável alvo\n",
    "x = df.drop('Class', axis = 1)\n",
    "y = df['Class']"
   ]
  },
  {
   "cell_type": "markdown",
   "id": "472f2996-ec36-460d-8186-3a0b0e002de2",
   "metadata": {},
   "source": [
    "##### Separando os dados em treinamento e teste"
   ]
  },
  {
   "cell_type": "code",
   "execution_count": 45,
   "id": "658b3269-2e61-4f2e-858e-11915edf0a48",
   "metadata": {},
   "outputs": [],
   "source": [
    "# aplicando a funcao train_test_split para separar os conjuntos de treino e \n",
    "# teste segundo uma porcentagem de separação definida. \n",
    "x_train, x_test, y_train, y_test = train_test_split(x, y, test_size = 0.3, random_state = 5762)"
   ]
  },
  {
   "cell_type": "markdown",
   "id": "2b884677-e9ee-4b48-847c-0b2b418d1b64",
   "metadata": {},
   "source": [
    "### Random Search"
   ]
  },
  {
   "cell_type": "code",
   "execution_count": 46,
   "id": "47d0d641-65a8-4293-b590-5ad2325ddad6",
   "metadata": {},
   "outputs": [
    {
     "data": {
      "text/plain": [
       "RandomizedSearchCV(cv=StratifiedKFold(n_splits=10, random_state=None, shuffle=False),\n",
       "                   estimator=SVC(), n_iter=5,\n",
       "                   param_distributions={'C': <scipy.stats._distn_infrastructure.rv_frozen object at 0x0000025443DDAB00>,\n",
       "                                        'kernel': ['sigmoid', 'poly', 'rbf']},\n",
       "                   random_state=5762, scoring=make_scorer(f1_score))"
      ]
     },
     "execution_count": 46,
     "metadata": {},
     "output_type": "execute_result"
    }
   ],
   "source": [
    "#definindo o tipo de validacao cruzada e o numero de folds\n",
    "cv_strat = StratifiedKFold(n_splits = 10)\n",
    "\n",
    "#definindo a estrategia de score a partir da metrica f1\n",
    "f1 = make_scorer(f1_score)\n",
    "\n",
    "#definindo hiperparâmetros\n",
    "distributions = dict(kernel = ['sigmoid', 'poly', 'rbf'], \n",
    "                     C = uniform(loc=1, scale=10))\n",
    "\n",
    "#instânciando meu classificador\n",
    "classifier = SVC()\n",
    "\n",
    "#instanciando e modelando o grid search com os hiperparametros e a validação definidas.\n",
    "random_cv = RandomizedSearchCV(classifier, distributions, cv = cv_strat, scoring = f1, random_state = 5762, n_iter = 5)\n",
    "random_cv.fit(x, y)"
   ]
  },
  {
   "cell_type": "code",
   "execution_count": 47,
   "id": "fa15e0da-d952-4a48-a857-58c8bfa93b47",
   "metadata": {},
   "outputs": [
    {
     "name": "stdout",
     "output_type": "stream",
     "text": [
      "Resumo de todos os resultados encontrados:\n",
      "\n",
      " {'mean_fit_time': array([0.49055359, 0.34823775, 0.01406317, 0.2690455 , 0.01562612]), 'std_fit_time': array([2.34117809e-01, 1.97063408e-01, 4.68772279e-03, 1.76536595e-01,\n",
      "       1.57807167e-06]), 'mean_score_time': array([0.00236268, 0.00425673, 0.00468798, 0.00216284, 0.00312531]), 'std_score_time': array([0.00469419, 0.00561861, 0.007161  , 0.00464151, 0.00625062]), 'param_C': masked_array(data=[9.070941686647695, 3.996689355015553, 2.96908678529896,\n",
      "                   3.038065179879575, 6.043494590721352],\n",
      "             mask=[False, False, False, False, False],\n",
      "       fill_value='?',\n",
      "            dtype=object), 'param_kernel': masked_array(data=['poly', 'poly', 'rbf', 'poly', 'rbf'],\n",
      "             mask=[False, False, False, False, False],\n",
      "       fill_value='?',\n",
      "            dtype=object), 'params': [{'C': 9.070941686647695, 'kernel': 'poly'}, {'C': 3.996689355015553, 'kernel': 'poly'}, {'C': 2.96908678529896, 'kernel': 'rbf'}, {'C': 3.038065179879575, 'kernel': 'poly'}, {'C': 6.043494590721352, 'kernel': 'rbf'}], 'split0_test_score': array([0.80808081, 0.83168317, 0.83168317, 0.83168317, 0.83168317]), 'split1_test_score': array([0.83168317, 0.83168317, 0.83168317, 0.83168317, 0.83168317]), 'split2_test_score': array([0.83168317, 0.83168317, 0.83168317, 0.83168317, 0.83168317]), 'split3_test_score': array([0.84, 0.84, 0.84, 0.84, 0.84]), 'split4_test_score': array([0.84, 0.84, 0.84, 0.84, 0.84]), 'split5_test_score': array([0.84, 0.84, 0.84, 0.84, 0.84]), 'split6_test_score': array([0.82828283, 0.82828283, 0.82828283, 0.82828283, 0.82828283]), 'split7_test_score': array([0.82828283, 0.82828283, 0.82828283, 0.82828283, 0.82828283]), 'split8_test_score': array([0.82828283, 0.82828283, 0.82828283, 0.82828283, 0.82828283]), 'split9_test_score': array([0.82828283, 0.82828283, 0.82828283, 0.82828283, 0.82828283]), 'mean_test_score': array([0.83045785, 0.83281808, 0.83281808, 0.83281808, 0.83281808]), 'std_test_score': array([0.00892085, 0.00490793, 0.00490793, 0.00490793, 0.00490793]), 'rank_test_score': array([5, 1, 1, 1, 1])}\n"
     ]
    }
   ],
   "source": [
    "#vamos olhar para todos os resultados encontrados!\n",
    "print('Resumo de todos os resultados encontrados:\\n\\n', random_cv.cv_results_)"
   ]
  },
  {
   "cell_type": "code",
   "execution_count": 48,
   "id": "48cd097e-6d43-4fce-bf44-f9795fd4b6e7",
   "metadata": {},
   "outputs": [
    {
     "name": "stdout",
     "output_type": "stream",
     "text": [
      "Melhor resultado f1: 0.832818081808181\n",
      "\n",
      "\n",
      "Melhor configuração de hiperparâmetros: {'C': 3.996689355015553, 'kernel': 'poly'}\n",
      "\n",
      "\n",
      "Configurações de todos os hiperparâmetros do melhor estimado encontrado pelo GridSearch: \n",
      " SVC(C=3.996689355015553, kernel='poly')\n"
     ]
    }
   ],
   "source": [
    "#vamos olhar para os melhores resultados encontrados pelo Grid Search\n",
    "print('Melhor resultado f1:', random_cv.best_score_)\n",
    "print('\\n\\nMelhor configuração de hiperparâmetros:', random_cv.best_params_)\n",
    "print( '\\n\\nConfigurações de todos os hiperparâmetros do melhor estimado encontrado pelo GridSearch: \\n', random_cv.best_estimator_)"
   ]
  },
  {
   "cell_type": "markdown",
   "id": "c5f342ba-d0af-4857-be1c-369a284b5758",
   "metadata": {},
   "source": [
    "### Resposta: O valor da f1 encontrado foi aproximadamente 0.83"
   ]
  },
  {
   "cell_type": "markdown",
   "id": "61257d4f-f72d-41ab-9bea-aa728c988038",
   "metadata": {},
   "source": [
    "## 6) O best_params_ encontrado durante a otimização do SVC indica que a melhor combinação de parâmetros usa um kernel RBF. \n"
   ]
  },
  {
   "cell_type": "code",
   "execution_count": 51,
   "id": "cf608506-59cd-4a9d-a3f8-66f4773f42d3",
   "metadata": {},
   "outputs": [
    {
     "name": "stdout",
     "output_type": "stream",
     "text": [
      "\n",
      "\n",
      "Melhor configuração de hiperparâmetros: {'C': 3.996689355015553, 'kernel': 'poly'}\n"
     ]
    }
   ],
   "source": [
    "print('\\n\\nMelhor configuração de hiperparâmetros:', random_cv.best_params_)"
   ]
  },
  {
   "cell_type": "markdown",
   "id": "a001c8d2-a12d-47a0-8782-1ae8a04ebdd4",
   "metadata": {},
   "source": [
    "### Resposta: Falso, o melhor é o kernel Polinomial"
   ]
  },
  {
   "cell_type": "markdown",
   "id": "8fc21731-3b93-4208-9bff-62f72a036dd2",
   "metadata": {},
   "source": [
    "## 7) O best_params_ encontrado durante a otimização do SVC indica que C encontrado é aproximadamente 5. \n"
   ]
  },
  {
   "cell_type": "markdown",
   "id": "42e32761-e50f-433b-8e31-5fa7b56dc4f2",
   "metadata": {},
   "source": [
    "### Resposta: Falso, é aproximadamente 4"
   ]
  },
  {
   "cell_type": "markdown",
   "id": "5607af8a-1323-4b7a-97dd-a2b967b33d11",
   "metadata": {},
   "source": [
    "## 8) A melhor combinação de best_params_ encontrado durante a otimização do SVC é: \n"
   ]
  },
  {
   "cell_type": "markdown",
   "id": "68d2440d-95cd-4689-907a-60c0e7fcc54b",
   "metadata": {},
   "source": [
    "### Resposta: Kernel Poly com C = 3.996"
   ]
  },
  {
   "cell_type": "markdown",
   "id": "cb57b42f-20e7-4925-a73a-011572d54ae4",
   "metadata": {},
   "source": [
    "## 9) Sobre o best_score_ encontrado durante a otimização do Random Forest, marque a alternativa CORRETA. \n"
   ]
  },
  {
   "cell_type": "code",
   "execution_count": 49,
   "id": "93b274a4-3451-4fc7-aba8-01330775b4c9",
   "metadata": {},
   "outputs": [
    {
     "data": {
      "text/plain": [
       "RandomizedSearchCV(cv=StratifiedKFold(n_splits=10, random_state=None, shuffle=False),\n",
       "                   estimator=RandomForestClassifier(random_state=5762),\n",
       "                   n_iter=5,\n",
       "                   param_distributions={'bootstrap': [True, False],\n",
       "                                        'criterion': ['gini', 'entropy'],\n",
       "                                        'n_estimators': <scipy.stats._distn_infrastructure.rv_frozen object at 0x0000025443DDA680>},\n",
       "                   random_state=5762, scoring=make_scorer(f1_score))"
      ]
     },
     "execution_count": 49,
     "metadata": {},
     "output_type": "execute_result"
    }
   ],
   "source": [
    "#definindo o tipo de validacao cruzada e o numero de folds\n",
    "cv_strat = StratifiedKFold(n_splits = 10)\n",
    "\n",
    "#definindo a estrategia de score a partir da metrica f1\n",
    "f1 = make_scorer(f1_score)\n",
    "\n",
    "#definindo hiperparâmetros\n",
    "distributions2 = dict(n_estimators = randint(10, 1000),\n",
    "                      bootstrap = [True, False],\n",
    "                      criterion = ['gini', 'entropy'])\n",
    "\n",
    "#instânciando meu classificador\n",
    "classifier2 = RandomForestClassifier(random_state = 5762)\n",
    "\n",
    "#instanciando e modelando o grid search com os hiperparametros e a validação definidas.\n",
    "random_cv2 = RandomizedSearchCV(classifier2, distributions2, cv = cv_strat, scoring = f1, random_state = 5762, n_iter = 5)\n",
    "random_cv2.fit(x, y)"
   ]
  },
  {
   "cell_type": "code",
   "execution_count": 50,
   "id": "04ee85d6-d5fc-49dc-abd5-663e525882e8",
   "metadata": {},
   "outputs": [
    {
     "name": "stdout",
     "output_type": "stream",
     "text": [
      "Melhor resultado f1: 0.7984322518413547\n",
      "\n",
      "\n",
      "Melhor configuração de hiperparâmetros: {'bootstrap': True, 'criterion': 'gini', 'n_estimators': 488}\n",
      "\n",
      "\n",
      "Configurações de todos os hiperparâmetros do melhor estimado encontrado pelo GridSearch: \n",
      " RandomForestClassifier(n_estimators=488, random_state=5762)\n"
     ]
    }
   ],
   "source": [
    "#vamos olhar para os melhores resultados encontrados pelo Grid Search\n",
    "print('Melhor resultado f1:', random_cv2.best_score_)\n",
    "print('\\n\\nMelhor configuração de hiperparâmetros:', random_cv2.best_params_)\n",
    "print( '\\n\\nConfigurações de todos os hiperparâmetros do melhor estimado encontrado pelo GridSearch: \\n', random_cv2.best_estimator_)"
   ]
  },
  {
   "cell_type": "markdown",
   "id": "395888e4-d804-4dac-8b82-11e706131507",
   "metadata": {},
   "source": [
    "### Resposta: O valor da f1 encontrado foi aproximadamente 0.80"
   ]
  },
  {
   "cell_type": "markdown",
   "id": "ff5e9801-29f8-478b-a855-996ecae6d7a5",
   "metadata": {},
   "source": [
    "## 10) O best_params_ encontrado durante a otimização do Random Forest indica que a melhor combinação de parâmetros usa Boostrap True. \n"
   ]
  },
  {
   "cell_type": "markdown",
   "id": "eced60e6-14a6-414e-adcc-1cba64193f4d",
   "metadata": {},
   "source": [
    "### Resposta: Verdadeiro"
   ]
  },
  {
   "cell_type": "markdown",
   "id": "f285e298-030e-4e42-b228-5fbca777bbaf",
   "metadata": {},
   "source": [
    "## 11) O best_params_ encontrado durante a otimização do Random Forest indica que a melhor combinação de parâmetros usa Criterion Entropy. \n"
   ]
  },
  {
   "cell_type": "markdown",
   "id": "f9da0f9f-fb15-4ddd-86a9-1c2f07ef1e2e",
   "metadata": {},
   "source": [
    "### Resposta: Falso, o melhor critério é o \"Gini\""
   ]
  },
  {
   "cell_type": "markdown",
   "id": "060d3fcb-df9c-4315-88fd-12d0142b8d67",
   "metadata": {},
   "source": [
    "## 12) O best_params_ encontrado durante a otimização do Random Forest indica que a melhor combinação de parâmetros conta com quantos estimadores? "
   ]
  },
  {
   "cell_type": "code",
   "execution_count": 53,
   "id": "a0aa7891-271a-4806-a468-bcd88ba01b8c",
   "metadata": {},
   "outputs": [
    {
     "name": "stdout",
     "output_type": "stream",
     "text": [
      "\n",
      "\n",
      "Melhor configuração de hiperparâmetros: {'bootstrap': True, 'criterion': 'gini', 'n_estimators': 488}\n"
     ]
    }
   ],
   "source": [
    "print('\\n\\nMelhor configuração de hiperparâmetros:', random_cv2.best_params_)"
   ]
  },
  {
   "cell_type": "markdown",
   "id": "da7faff0-edfb-46fa-845b-54826d6f9292",
   "metadata": {},
   "source": [
    "### Resposta: n_estimators: 488"
   ]
  },
  {
   "cell_type": "markdown",
   "id": "c70afa80-18f3-4872-8c35-087303cee925",
   "metadata": {},
   "source": [
    "## 13) Suponha que nossas duas opções para solução do problema sejam o SVC e o Random Forest que foram modelados anteriormente. Além disso, não é possível rodar o experimento novamente com outros parâmetros. Marque a alternativa que justifica de forma CORRETA a escolha do modelo mais adequado."
   ]
  },
  {
   "cell_type": "code",
   "execution_count": 54,
   "id": "3102efbd-989c-42ca-8370-9e9495e98bae",
   "metadata": {},
   "outputs": [
    {
     "name": "stdout",
     "output_type": "stream",
     "text": [
      "Melhor resultado f1 para SVC: 0.832818081808181\n",
      "Melhor resultado f1 para Random Forest: 0.7984322518413547\n"
     ]
    }
   ],
   "source": [
    "print('Melhor resultado f1 para SVC:', random_cv.best_score_)\n",
    "print('Melhor resultado f1 para Random Forest:', random_cv2.best_score_)\n"
   ]
  },
  {
   "cell_type": "markdown",
   "id": "db4f22cd-c468-4d2a-b712-99297b3b7b90",
   "metadata": {},
   "source": [
    "### Resposta: O SVC é o modelo que deveria ser escolhido já que ele apresenta uma f1 maior"
   ]
  },
  {
   "cell_type": "markdown",
   "id": "4f1d55b8-a24a-43c5-9c71-6d9cbd636371",
   "metadata": {},
   "source": [
    "## 14)  Como os dois modelos apresentaram resultados semelhantes de f1, podemos entender que a capacidade de generalização dos modelos deve ser semelhante na prática. Nesse caso, não faz sentido a análise de outras métricas para validação dos modelos. \n"
   ]
  },
  {
   "cell_type": "markdown",
   "id": "14384c78-9f59-4960-8044-ff9a714c7e46",
   "metadata": {},
   "source": [
    "### Resposta: Falso"
   ]
  },
  {
   "cell_type": "markdown",
   "id": "f85a28d0-2a82-47e2-8672-ce065b6da438",
   "metadata": {},
   "source": [
    "## 15) Os modelos treinados apresentam resultados de f1 semelhantes por se tratarem de modelos com estrutura de implementação semelhantes, são ambos modelos de árvores de decisão. Nesse caso, sempre que treinarmos um modelo de árvore, a tendência é que o resultado de f1 seja próximo aos encontrados nesse desafio"
   ]
  },
  {
   "cell_type": "markdown",
   "id": "f30023d7-ea32-47e6-86dc-a92a1d4f2375",
   "metadata": {},
   "source": [
    "### Resposta: Falso"
   ]
  },
  {
   "cell_type": "code",
   "execution_count": null,
   "id": "7f947087-f0de-4c8d-b2c7-2b5383014675",
   "metadata": {},
   "outputs": [],
   "source": []
  }
 ],
 "metadata": {
  "kernelspec": {
   "display_name": "Python 3 (ipykernel)",
   "language": "python",
   "name": "python3"
  },
  "language_info": {
   "codemirror_mode": {
    "name": "ipython",
    "version": 3
   },
   "file_extension": ".py",
   "mimetype": "text/x-python",
   "name": "python",
   "nbconvert_exporter": "python",
   "pygments_lexer": "ipython3",
   "version": "3.10.4"
  }
 },
 "nbformat": 4,
 "nbformat_minor": 5
}
