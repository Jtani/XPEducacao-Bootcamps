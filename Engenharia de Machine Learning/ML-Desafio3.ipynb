{
 "cells": [
  {
   "cell_type": "markdown",
   "id": "31ccb4b7-20c2-4bef-a674-cee01faca37d",
   "metadata": {},
   "source": [
    "# Engenharia de Machine Learning - XP Educação - Desafio 3 - nov/2022\n"
   ]
  },
  {
   "cell_type": "markdown",
   "id": "e102f2a0-a159-4178-89f1-4ebc707f33f5",
   "metadata": {},
   "source": [
    "## Objetivos\n",
    "Exercitar os seguintes conceitos trabalhados no Módulo:\n",
    "- Neste desafio, vamos trabalhar os conceitos vistos sobre métricas de desempenho, técnicas\n",
    "de validação e sintonia de hiperparâmetros.\n",
    "- Também vamos olhar para o fluxo completo de seleção de um modelo de aprendizado.\n",
    "\n",
    "Dataset: https://www.openml.org/search?type=data&sort=runs&id=1480&status=active"
   ]
  },
  {
   "cell_type": "markdown",
   "id": "5df764b3-bbdb-4271-9c75-81fa9f5f2b53",
   "metadata": {},
   "source": [
    "## Carregando as bibliotecas e o dataset"
   ]
  },
  {
   "cell_type": "code",
   "execution_count": 2,
   "id": "3c7efefc-91e2-4946-ba83-827113a45eee",
   "metadata": {},
   "outputs": [],
   "source": [
    "import pandas as pd\n",
    "from sklearn.model_selection import train_test_split\n",
    "from sklearn.neighbors import KNeighborsClassifier\n",
    "from sklearn.tree import DecisionTreeClassifier\n",
    "from sklearn.ensemble import RandomForestClassifier\n",
    "from sklearn.svm import SVC\n",
    "from sklearn.neural_network import MLPClassifier\n",
    "from sklearn.preprocessing import MinMaxScaler\n",
    "from sklearn.metrics import accuracy_score"
   ]
  },
  {
   "cell_type": "code",
   "execution_count": 13,
   "id": "bf6c85fe-6508-490e-a267-cf9f407c0225",
   "metadata": {},
   "outputs": [
    {
     "data": {
      "text/html": [
       "<div>\n",
       "<style scoped>\n",
       "    .dataframe tbody tr th:only-of-type {\n",
       "        vertical-align: middle;\n",
       "    }\n",
       "\n",
       "    .dataframe tbody tr th {\n",
       "        vertical-align: top;\n",
       "    }\n",
       "\n",
       "    .dataframe thead th {\n",
       "        text-align: right;\n",
       "    }\n",
       "</style>\n",
       "<table border=\"1\" class=\"dataframe\">\n",
       "  <thead>\n",
       "    <tr style=\"text-align: right;\">\n",
       "      <th></th>\n",
       "      <th>V1</th>\n",
       "      <th>V2</th>\n",
       "      <th>V3</th>\n",
       "      <th>V4</th>\n",
       "      <th>V5</th>\n",
       "      <th>V6</th>\n",
       "      <th>V7</th>\n",
       "      <th>V8</th>\n",
       "      <th>V9</th>\n",
       "      <th>V10</th>\n",
       "      <th>Class</th>\n",
       "    </tr>\n",
       "    <tr>\n",
       "      <th>id</th>\n",
       "      <th></th>\n",
       "      <th></th>\n",
       "      <th></th>\n",
       "      <th></th>\n",
       "      <th></th>\n",
       "      <th></th>\n",
       "      <th></th>\n",
       "      <th></th>\n",
       "      <th></th>\n",
       "      <th></th>\n",
       "      <th></th>\n",
       "    </tr>\n",
       "  </thead>\n",
       "  <tbody>\n",
       "    <tr>\n",
       "      <th>1</th>\n",
       "      <td>65</td>\n",
       "      <td>Female</td>\n",
       "      <td>0.7</td>\n",
       "      <td>0.1</td>\n",
       "      <td>187</td>\n",
       "      <td>16</td>\n",
       "      <td>18</td>\n",
       "      <td>6.8</td>\n",
       "      <td>3.3</td>\n",
       "      <td>0.90</td>\n",
       "      <td>1</td>\n",
       "    </tr>\n",
       "    <tr>\n",
       "      <th>2</th>\n",
       "      <td>62</td>\n",
       "      <td>Male</td>\n",
       "      <td>10.9</td>\n",
       "      <td>5.5</td>\n",
       "      <td>699</td>\n",
       "      <td>64</td>\n",
       "      <td>100</td>\n",
       "      <td>7.5</td>\n",
       "      <td>3.2</td>\n",
       "      <td>0.74</td>\n",
       "      <td>1</td>\n",
       "    </tr>\n",
       "    <tr>\n",
       "      <th>3</th>\n",
       "      <td>62</td>\n",
       "      <td>Male</td>\n",
       "      <td>7.3</td>\n",
       "      <td>4.1</td>\n",
       "      <td>490</td>\n",
       "      <td>60</td>\n",
       "      <td>68</td>\n",
       "      <td>7.0</td>\n",
       "      <td>3.3</td>\n",
       "      <td>0.89</td>\n",
       "      <td>1</td>\n",
       "    </tr>\n",
       "    <tr>\n",
       "      <th>4</th>\n",
       "      <td>58</td>\n",
       "      <td>Male</td>\n",
       "      <td>1.0</td>\n",
       "      <td>0.4</td>\n",
       "      <td>182</td>\n",
       "      <td>14</td>\n",
       "      <td>20</td>\n",
       "      <td>6.8</td>\n",
       "      <td>3.4</td>\n",
       "      <td>1.00</td>\n",
       "      <td>1</td>\n",
       "    </tr>\n",
       "    <tr>\n",
       "      <th>5</th>\n",
       "      <td>72</td>\n",
       "      <td>Male</td>\n",
       "      <td>3.9</td>\n",
       "      <td>2.0</td>\n",
       "      <td>195</td>\n",
       "      <td>27</td>\n",
       "      <td>59</td>\n",
       "      <td>7.3</td>\n",
       "      <td>2.4</td>\n",
       "      <td>0.40</td>\n",
       "      <td>1</td>\n",
       "    </tr>\n",
       "  </tbody>\n",
       "</table>\n",
       "</div>"
      ],
      "text/plain": [
       "    V1      V2    V3   V4   V5  V6   V7   V8   V9   V10  Class\n",
       "id                                                            \n",
       "1   65  Female   0.7  0.1  187  16   18  6.8  3.3  0.90      1\n",
       "2   62    Male  10.9  5.5  699  64  100  7.5  3.2  0.74      1\n",
       "3   62    Male   7.3  4.1  490  60   68  7.0  3.3  0.89      1\n",
       "4   58    Male   1.0  0.4  182  14   20  6.8  3.4  1.00      1\n",
       "5   72    Male   3.9  2.0  195  27   59  7.3  2.4  0.40      1"
      ]
     },
     "execution_count": 13,
     "metadata": {},
     "output_type": "execute_result"
    }
   ],
   "source": [
    "# carregando o dataset\n",
    "df = pd.read_csv(\"ilpd.csv\", index_col='id') # Temos uma coluna 'id' e vamos usá-la como index do dataframe\n",
    "df.head()"
   ]
  },
  {
   "cell_type": "code",
   "execution_count": 14,
   "id": "f2522dc0-ea76-4f69-aea9-e0f5cab91c6a",
   "metadata": {},
   "outputs": [
    {
     "data": {
      "text/html": [
       "<div>\n",
       "<style scoped>\n",
       "    .dataframe tbody tr th:only-of-type {\n",
       "        vertical-align: middle;\n",
       "    }\n",
       "\n",
       "    .dataframe tbody tr th {\n",
       "        vertical-align: top;\n",
       "    }\n",
       "\n",
       "    .dataframe thead th {\n",
       "        text-align: right;\n",
       "    }\n",
       "</style>\n",
       "<table border=\"1\" class=\"dataframe\">\n",
       "  <thead>\n",
       "    <tr style=\"text-align: right;\">\n",
       "      <th></th>\n",
       "      <th>V1</th>\n",
       "      <th>V2</th>\n",
       "      <th>V3</th>\n",
       "      <th>V4</th>\n",
       "      <th>V5</th>\n",
       "      <th>V6</th>\n",
       "      <th>V7</th>\n",
       "      <th>V8</th>\n",
       "      <th>V9</th>\n",
       "      <th>V10</th>\n",
       "      <th>Class</th>\n",
       "    </tr>\n",
       "    <tr>\n",
       "      <th>id</th>\n",
       "      <th></th>\n",
       "      <th></th>\n",
       "      <th></th>\n",
       "      <th></th>\n",
       "      <th></th>\n",
       "      <th></th>\n",
       "      <th></th>\n",
       "      <th></th>\n",
       "      <th></th>\n",
       "      <th></th>\n",
       "      <th></th>\n",
       "    </tr>\n",
       "  </thead>\n",
       "  <tbody>\n",
       "    <tr>\n",
       "      <th>579</th>\n",
       "      <td>60</td>\n",
       "      <td>Male</td>\n",
       "      <td>0.5</td>\n",
       "      <td>0.1</td>\n",
       "      <td>500</td>\n",
       "      <td>20</td>\n",
       "      <td>34</td>\n",
       "      <td>5.9</td>\n",
       "      <td>1.6</td>\n",
       "      <td>0.37</td>\n",
       "      <td>2</td>\n",
       "    </tr>\n",
       "    <tr>\n",
       "      <th>580</th>\n",
       "      <td>40</td>\n",
       "      <td>Male</td>\n",
       "      <td>0.6</td>\n",
       "      <td>0.1</td>\n",
       "      <td>98</td>\n",
       "      <td>35</td>\n",
       "      <td>31</td>\n",
       "      <td>6.0</td>\n",
       "      <td>3.2</td>\n",
       "      <td>1.10</td>\n",
       "      <td>1</td>\n",
       "    </tr>\n",
       "    <tr>\n",
       "      <th>581</th>\n",
       "      <td>52</td>\n",
       "      <td>Male</td>\n",
       "      <td>0.8</td>\n",
       "      <td>0.2</td>\n",
       "      <td>245</td>\n",
       "      <td>48</td>\n",
       "      <td>49</td>\n",
       "      <td>6.4</td>\n",
       "      <td>3.2</td>\n",
       "      <td>1.00</td>\n",
       "      <td>1</td>\n",
       "    </tr>\n",
       "    <tr>\n",
       "      <th>582</th>\n",
       "      <td>31</td>\n",
       "      <td>Male</td>\n",
       "      <td>1.3</td>\n",
       "      <td>0.5</td>\n",
       "      <td>184</td>\n",
       "      <td>29</td>\n",
       "      <td>32</td>\n",
       "      <td>6.8</td>\n",
       "      <td>3.4</td>\n",
       "      <td>1.00</td>\n",
       "      <td>1</td>\n",
       "    </tr>\n",
       "    <tr>\n",
       "      <th>583</th>\n",
       "      <td>38</td>\n",
       "      <td>Male</td>\n",
       "      <td>1.0</td>\n",
       "      <td>0.3</td>\n",
       "      <td>216</td>\n",
       "      <td>21</td>\n",
       "      <td>24</td>\n",
       "      <td>7.3</td>\n",
       "      <td>4.4</td>\n",
       "      <td>1.50</td>\n",
       "      <td>2</td>\n",
       "    </tr>\n",
       "  </tbody>\n",
       "</table>\n",
       "</div>"
      ],
      "text/plain": [
       "     V1    V2   V3   V4   V5  V6  V7   V8   V9   V10  Class\n",
       "id                                                         \n",
       "579  60  Male  0.5  0.1  500  20  34  5.9  1.6  0.37      2\n",
       "580  40  Male  0.6  0.1   98  35  31  6.0  3.2  1.10      1\n",
       "581  52  Male  0.8  0.2  245  48  49  6.4  3.2  1.00      1\n",
       "582  31  Male  1.3  0.5  184  29  32  6.8  3.4  1.00      1\n",
       "583  38  Male  1.0  0.3  216  21  24  7.3  4.4  1.50      2"
      ]
     },
     "execution_count": 14,
     "metadata": {},
     "output_type": "execute_result"
    }
   ],
   "source": [
    "df.tail()"
   ]
  },
  {
   "cell_type": "markdown",
   "id": "05079b62-45da-4d5b-a15a-bdb22fbd325d",
   "metadata": {
    "tags": []
   },
   "source": [
    "## 1) O objetivo dessa base é avaliar se uma pessoa vai ser um paciente hepático ou não. A feature que determina a classe nessa base é a “V7”.\n"
   ]
  },
  {
   "cell_type": "markdown",
   "id": "8562c12b-14e6-4390-af8c-924adefd2b7b",
   "metadata": {},
   "source": [
    "### Resposta: Falso, a feature V7 é de Sgot Aspartate Aminotransferase segundo a descrição no site e a feature Class é a que determina a classe"
   ]
  },
  {
   "cell_type": "markdown",
   "id": "5b0f9345-1dc6-4a3b-b0ca-826798f79145",
   "metadata": {},
   "source": [
    "## 2) Sobre as informações de número de features e amostras, marque a alternativa CORRETA. \n"
   ]
  },
  {
   "cell_type": "code",
   "execution_count": 16,
   "id": "68384b88-11a4-4edb-b63f-9c6e00815e80",
   "metadata": {},
   "outputs": [
    {
     "data": {
      "text/plain": [
       "(583, 11)"
      ]
     },
     "execution_count": 16,
     "metadata": {},
     "output_type": "execute_result"
    }
   ],
   "source": [
    "df.shape"
   ]
  },
  {
   "cell_type": "code",
   "execution_count": 17,
   "id": "7492e836-e3fb-4f64-b80b-0cb34c7738b8",
   "metadata": {},
   "outputs": [
    {
     "name": "stdout",
     "output_type": "stream",
     "text": [
      "<class 'pandas.core.frame.DataFrame'>\n",
      "Int64Index: 583 entries, 1 to 583\n",
      "Data columns (total 11 columns):\n",
      " #   Column  Non-Null Count  Dtype  \n",
      "---  ------  --------------  -----  \n",
      " 0   V1      583 non-null    int64  \n",
      " 1   V2      583 non-null    object \n",
      " 2   V3      583 non-null    float64\n",
      " 3   V4      583 non-null    float64\n",
      " 4   V5      583 non-null    int64  \n",
      " 5   V6      583 non-null    int64  \n",
      " 6   V7      583 non-null    int64  \n",
      " 7   V8      583 non-null    float64\n",
      " 8   V9      583 non-null    float64\n",
      " 9   V10     583 non-null    float64\n",
      " 10  Class   583 non-null    int64  \n",
      "dtypes: float64(5), int64(5), object(1)\n",
      "memory usage: 54.7+ KB\n"
     ]
    }
   ],
   "source": [
    "df.info()"
   ]
  },
  {
   "cell_type": "markdown",
   "id": "18b7b846-29af-4992-87ae-b0f9497dcba0",
   "metadata": {},
   "source": [
    "### Resposta: 583 amostras e 11 features incluindo o atributo classe"
   ]
  },
  {
   "cell_type": "markdown",
   "id": "904d92bf-a079-4dce-a432-fba3759a2cee",
   "metadata": {},
   "source": [
    "## 3) Essa base conta com 3 atributos categóricos. Precisamos fazer o pré processamento desses atributos para que todos sejam numéricos.\n"
   ]
  },
  {
   "cell_type": "markdown",
   "id": "f6d20f20-a5da-4c62-8ce5-956a3bebfd15",
   "metadata": {},
   "source": [
    "#### Temos 2 atributos categóricos: V2 e Class apesar de ser numérico "
   ]
  },
  {
   "cell_type": "markdown",
   "id": "9ac5aa5d-e9cc-423a-bd56-913909e02d15",
   "metadata": {},
   "source": [
    "### Resposta: Falso, apenas 2 atributos categóricos"
   ]
  },
  {
   "cell_type": "markdown",
   "id": "7d8ae318-1ed1-4be5-b706-ed00195651ec",
   "metadata": {},
   "source": [
    "## 4) A base não tem dados faltantes. \n"
   ]
  },
  {
   "cell_type": "code",
   "execution_count": 18,
   "id": "67ec2d40-aec0-44da-bd19-dd1586227064",
   "metadata": {},
   "outputs": [
    {
     "data": {
      "text/plain": [
       "V1       0\n",
       "V2       0\n",
       "V3       0\n",
       "V4       0\n",
       "V5       0\n",
       "V6       0\n",
       "V7       0\n",
       "V8       0\n",
       "V9       0\n",
       "V10      0\n",
       "Class    0\n",
       "dtype: int64"
      ]
     },
     "execution_count": 18,
     "metadata": {},
     "output_type": "execute_result"
    }
   ],
   "source": [
    "df.isnull().sum()"
   ]
  },
  {
   "cell_type": "code",
   "execution_count": 19,
   "id": "5773f01d-0c54-47ae-99d4-1daaac8ab644",
   "metadata": {},
   "outputs": [
    {
     "data": {
      "text/plain": [
       "V1       0\n",
       "V2       0\n",
       "V3       0\n",
       "V4       0\n",
       "V5       0\n",
       "V6       0\n",
       "V7       0\n",
       "V8       0\n",
       "V9       0\n",
       "V10      0\n",
       "Class    0\n",
       "dtype: int64"
      ]
     },
     "execution_count": 19,
     "metadata": {},
     "output_type": "execute_result"
    }
   ],
   "source": [
    "df.isna().sum()"
   ]
  },
  {
   "cell_type": "markdown",
   "id": "7c9842cd-7e5a-4adb-bd6a-3ea0cce73f19",
   "metadata": {},
   "source": [
    "### Resposta: Verdadeiro"
   ]
  },
  {
   "cell_type": "markdown",
   "id": "5ab385c0-24ee-4e7a-b582-261a9030c9fd",
   "metadata": {},
   "source": [
    "## 5) Sobre o best_score_ encontrado durante a otimização do SVC, marque a alternativa CORRETA. \n"
   ]
  },
  {
   "cell_type": "code",
   "execution_count": null,
   "id": "049bb636-da66-44c6-b7ed-de7f3b8b12be",
   "metadata": {},
   "outputs": [],
   "source": []
  }
 ],
 "metadata": {
  "kernelspec": {
   "display_name": "Python 3 (ipykernel)",
   "language": "python",
   "name": "python3"
  },
  "language_info": {
   "codemirror_mode": {
    "name": "ipython",
    "version": 3
   },
   "file_extension": ".py",
   "mimetype": "text/x-python",
   "name": "python",
   "nbconvert_exporter": "python",
   "pygments_lexer": "ipython3",
   "version": "3.10.4"
  }
 },
 "nbformat": 4,
 "nbformat_minor": 5
}
