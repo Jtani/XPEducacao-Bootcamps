{
 "cells": [
  {
   "cell_type": "markdown",
   "id": "90f19ba2-2a7a-490e-96d3-562d44853b2b",
   "metadata": {},
   "source": [
    "# Engenharia de Machine Learning - XP Educação - Trabalho Prático 3 - out/2022"
   ]
  },
  {
   "cell_type": "markdown",
   "id": "e31c3587-80ff-4529-be9a-9bdb216b0d87",
   "metadata": {},
   "source": [
    "## Carregando as bibliotecas"
   ]
  },
  {
   "cell_type": "code",
   "execution_count": 50,
   "id": "f10b744f-0c79-4a27-89da-c9aa2a2a7078",
   "metadata": {},
   "outputs": [],
   "source": [
    "import pandas as pd\n",
    "import numpy as np\n",
    "import matplotlib.pyplot as plt #bibloteca para plotar graficos\n",
    "\n",
    "from sklearn.model_selection import train_test_split\n",
    "from sklearn.linear_model import LinearRegression\n",
    "from sklearn import metrics"
   ]
  },
  {
   "cell_type": "code",
   "execution_count": 8,
   "id": "06477fb2-6dd3-4cde-ac18-2a91674ae72f",
   "metadata": {},
   "outputs": [],
   "source": [
    "# carregando o dataset\n",
    "dfblood = pd.read_csv(\"bloodtransf.csv\")\n",
    "dfdiabetes = pd.read_csv(\"diabetes_numeric.csv\")\n",
    "dfwine = pd.read_csv(\"wine.csv\")"
   ]
  },
  {
   "cell_type": "markdown",
   "id": "2f1cb2ed-1374-42dc-8ef0-94455e276d8a",
   "metadata": {
    "tags": []
   },
   "source": [
    "## Tarefa de Regressão Linear \n",
    "- Dataset: diabetes_numeric.csv"
   ]
  },
  {
   "cell_type": "code",
   "execution_count": 35,
   "id": "2e0164d5-e7fa-42ba-8058-11cfa9866295",
   "metadata": {},
   "outputs": [
    {
     "name": "stdout",
     "output_type": "stream",
     "text": [
      "(43, 3)\n"
     ]
    },
    {
     "data": {
      "text/html": [
       "<div>\n",
       "<style scoped>\n",
       "    .dataframe tbody tr th:only-of-type {\n",
       "        vertical-align: middle;\n",
       "    }\n",
       "\n",
       "    .dataframe tbody tr th {\n",
       "        vertical-align: top;\n",
       "    }\n",
       "\n",
       "    .dataframe thead th {\n",
       "        text-align: right;\n",
       "    }\n",
       "</style>\n",
       "<table border=\"1\" class=\"dataframe\">\n",
       "  <thead>\n",
       "    <tr style=\"text-align: right;\">\n",
       "      <th></th>\n",
       "      <th>age</th>\n",
       "      <th>deficit</th>\n",
       "      <th>c_peptide</th>\n",
       "    </tr>\n",
       "  </thead>\n",
       "  <tbody>\n",
       "    <tr>\n",
       "      <th>0</th>\n",
       "      <td>5.2</td>\n",
       "      <td>-8.1</td>\n",
       "      <td>4.8</td>\n",
       "    </tr>\n",
       "    <tr>\n",
       "      <th>1</th>\n",
       "      <td>8.8</td>\n",
       "      <td>-16.1</td>\n",
       "      <td>4.1</td>\n",
       "    </tr>\n",
       "    <tr>\n",
       "      <th>2</th>\n",
       "      <td>10.5</td>\n",
       "      <td>-0.9</td>\n",
       "      <td>5.2</td>\n",
       "    </tr>\n",
       "    <tr>\n",
       "      <th>3</th>\n",
       "      <td>10.6</td>\n",
       "      <td>-7.8</td>\n",
       "      <td>5.5</td>\n",
       "    </tr>\n",
       "    <tr>\n",
       "      <th>4</th>\n",
       "      <td>10.4</td>\n",
       "      <td>-29.0</td>\n",
       "      <td>5.0</td>\n",
       "    </tr>\n",
       "  </tbody>\n",
       "</table>\n",
       "</div>"
      ],
      "text/plain": [
       "    age  deficit  c_peptide\n",
       "0   5.2     -8.1        4.8\n",
       "1   8.8    -16.1        4.1\n",
       "2  10.5     -0.9        5.2\n",
       "3  10.6     -7.8        5.5\n",
       "4  10.4    -29.0        5.0"
      ]
     },
     "execution_count": 35,
     "metadata": {},
     "output_type": "execute_result"
    }
   ],
   "source": [
    "# Base de regressão Regressão Linear\n",
    "print(dfdiabetes.shape)\n",
    "dfdiabetes.head()"
   ]
  },
  {
   "cell_type": "code",
   "execution_count": 36,
   "id": "52cef793-dd78-4211-8476-dcdbf9932a93",
   "metadata": {},
   "outputs": [
    {
     "data": {
      "text/plain": [
       "age          0\n",
       "deficit      0\n",
       "c_peptide    0\n",
       "dtype: int64"
      ]
     },
     "execution_count": 36,
     "metadata": {},
     "output_type": "execute_result"
    }
   ],
   "source": [
    "dfdiabetes.isnull().sum()"
   ]
  },
  {
   "cell_type": "code",
   "execution_count": 39,
   "id": "d3729bba-3d23-47ac-a058-61e7b185cc36",
   "metadata": {},
   "outputs": [],
   "source": [
    "x1 = dfdiabetes.drop('c_peptide', axis = 1)\n",
    "y1 = dfdiabetes['c_peptide']"
   ]
  },
  {
   "cell_type": "code",
   "execution_count": 42,
   "id": "6a0a8db0-f43e-4985-b339-ab625d8ccb40",
   "metadata": {},
   "outputs": [],
   "source": [
    "# Separando treino e teste\n",
    "x1_train, x1_test, y1_train, y1_test = train_test_split(x1, y1, test_size = 0.37, random_state = 5762)"
   ]
  },
  {
   "cell_type": "code",
   "execution_count": 44,
   "id": "eb259510-d601-4978-8fea-f3c38da2a5bb",
   "metadata": {},
   "outputs": [
    {
     "data": {
      "text/plain": [
       "LinearRegression()"
      ]
     },
     "execution_count": 44,
     "metadata": {},
     "output_type": "execute_result"
    }
   ],
   "source": [
    "# Treinando o modelo\n",
    "\n",
    "lr = LinearRegression()\n",
    "lr.fit(x1_train, y1_train)"
   ]
  },
  {
   "cell_type": "code",
   "execution_count": 48,
   "id": "78826ed0-de5c-4625-9990-0cc77eaac222",
   "metadata": {},
   "outputs": [],
   "source": [
    "# Prediçoes para o treinamento e teste\n",
    "\n",
    "y1_pred_train = lr.predict(x1_train)\n",
    "y1_pred_test = lr.predict(x1_test)"
   ]
  },
  {
   "cell_type": "code",
   "execution_count": 51,
   "id": "dc889e32-6536-489b-9295-ab3e5cf17176",
   "metadata": {},
   "outputs": [
    {
     "name": "stdout",
     "output_type": "stream",
     "text": [
      "----- Avaliaçao do treinamento -----\n",
      "MAE:  0.41\n",
      "R2:  0.52\n",
      "RMSE:  0.51\n",
      "\n",
      "----- Avaliaçao do teste -----\n",
      "MAE:  0.53\n",
      "R2:  0.02\n",
      "MSE: 0.44\n",
      "RMSE:  0.66\n"
     ]
    }
   ],
   "source": [
    "# Avaliaçao dos resultados\n",
    "import sklearn.metrics as metrics\n",
    "from math import sqrt\n",
    "\n",
    "MAE_train = metrics.mean_absolute_error(y1_train, y_pred_train) \n",
    "R2_train = metrics.r2_score(y1_train, y1_pred_train) # Coeficiente de determinaçao\n",
    "RMSE_train = sqrt(metrics.mean_squared_error(y1_train, y1_pred_train))\n",
    "\n",
    "print(\"----- Avaliaçao do treinamento -----\")\n",
    "print(\"MAE: \", round(MAE_train,2))\n",
    "print('R2: ', round(R2_train,2))\n",
    "print('RMSE: ', round(RMSE_train,2))\n",
    "\n",
    "MAE_test = metrics.mean_absolute_error(y1_test, y1_pred_test) \n",
    "R2_test = metrics.r2_score(y1_test, y1_pred_test)\n",
    "RMSE_test = sqrt(metrics.mean_squared_error(y1_test, y1_pred_test))\n",
    "MSE_test = metrics.mean_squared_error(y1_test, y1_pred_test)\n",
    "\n",
    "print(\"\")\n",
    "print(\"----- Avaliaçao do teste -----\")\n",
    "print(\"MAE: \", round(MAE_test,2))\n",
    "print('R2: ', round(R2_test,2))\n",
    "print('MSE:', round(MSE_test,2))  \n",
    "print('RMSE: ', round(RMSE_test,2))"
   ]
  },
  {
   "cell_type": "code",
   "execution_count": null,
   "id": "81f64c80-188c-4651-9628-7953158b02dd",
   "metadata": {},
   "outputs": [],
   "source": []
  },
  {
   "cell_type": "markdown",
   "id": "c842e569-b37f-4b6d-b40e-21361eacb7bd",
   "metadata": {},
   "source": [
    "---"
   ]
  },
  {
   "cell_type": "markdown",
   "id": "49b7d49e-750b-47be-9e67-a3bc502b13e7",
   "metadata": {},
   "source": [
    "## Tarefa de Classificação com SVM\n",
    "- Dataset: bloodtransf.csv"
   ]
  },
  {
   "cell_type": "code",
   "execution_count": 15,
   "id": "83292e0a-9980-45c0-aaad-00fa4319d07f",
   "metadata": {},
   "outputs": [
    {
     "name": "stdout",
     "output_type": "stream",
     "text": [
      "(748, 5)\n"
     ]
    },
    {
     "data": {
      "text/html": [
       "<div>\n",
       "<style scoped>\n",
       "    .dataframe tbody tr th:only-of-type {\n",
       "        vertical-align: middle;\n",
       "    }\n",
       "\n",
       "    .dataframe tbody tr th {\n",
       "        vertical-align: top;\n",
       "    }\n",
       "\n",
       "    .dataframe thead th {\n",
       "        text-align: right;\n",
       "    }\n",
       "</style>\n",
       "<table border=\"1\" class=\"dataframe\">\n",
       "  <thead>\n",
       "    <tr style=\"text-align: right;\">\n",
       "      <th></th>\n",
       "      <th>V1</th>\n",
       "      <th>V2</th>\n",
       "      <th>V3</th>\n",
       "      <th>V4</th>\n",
       "      <th>Class</th>\n",
       "    </tr>\n",
       "  </thead>\n",
       "  <tbody>\n",
       "    <tr>\n",
       "      <th>0</th>\n",
       "      <td>2</td>\n",
       "      <td>50</td>\n",
       "      <td>12500</td>\n",
       "      <td>98</td>\n",
       "      <td>2</td>\n",
       "    </tr>\n",
       "    <tr>\n",
       "      <th>1</th>\n",
       "      <td>0</td>\n",
       "      <td>13</td>\n",
       "      <td>3250</td>\n",
       "      <td>28</td>\n",
       "      <td>2</td>\n",
       "    </tr>\n",
       "    <tr>\n",
       "      <th>2</th>\n",
       "      <td>1</td>\n",
       "      <td>16</td>\n",
       "      <td>4000</td>\n",
       "      <td>35</td>\n",
       "      <td>2</td>\n",
       "    </tr>\n",
       "    <tr>\n",
       "      <th>3</th>\n",
       "      <td>2</td>\n",
       "      <td>20</td>\n",
       "      <td>5000</td>\n",
       "      <td>45</td>\n",
       "      <td>2</td>\n",
       "    </tr>\n",
       "    <tr>\n",
       "      <th>4</th>\n",
       "      <td>1</td>\n",
       "      <td>24</td>\n",
       "      <td>6000</td>\n",
       "      <td>77</td>\n",
       "      <td>1</td>\n",
       "    </tr>\n",
       "  </tbody>\n",
       "</table>\n",
       "</div>"
      ],
      "text/plain": [
       "   V1  V2     V3  V4  Class\n",
       "0   2  50  12500  98      2\n",
       "1   0  13   3250  28      2\n",
       "2   1  16   4000  35      2\n",
       "3   2  20   5000  45      2\n",
       "4   1  24   6000  77      1"
      ]
     },
     "execution_count": 15,
     "metadata": {},
     "output_type": "execute_result"
    }
   ],
   "source": [
    "# Base de classificação SVM\n",
    "print(dfblood.shape)\n",
    "dfblood.head()"
   ]
  },
  {
   "cell_type": "code",
   "execution_count": 53,
   "id": "b98500e6-47f7-4fbb-8ec6-c9b0fd622031",
   "metadata": {},
   "outputs": [
    {
     "data": {
      "text/plain": [
       "V1       0\n",
       "V2       0\n",
       "V3       0\n",
       "V4       0\n",
       "Class    0\n",
       "dtype: int64"
      ]
     },
     "execution_count": 53,
     "metadata": {},
     "output_type": "execute_result"
    }
   ],
   "source": [
    "dfblood.isnull().sum()"
   ]
  },
  {
   "cell_type": "code",
   "execution_count": 56,
   "id": "b1ae8289-35d1-4857-99e9-cb1ac36da266",
   "metadata": {},
   "outputs": [],
   "source": [
    "x2 = dfblood.drop('Class', axis = 1)\n",
    "y2 = dfblood['Class']"
   ]
  },
  {
   "cell_type": "code",
   "execution_count": 57,
   "id": "00cf3a5e-a0f6-4966-9793-d39b578e08c0",
   "metadata": {},
   "outputs": [],
   "source": [
    "# Separando treino e teste\n",
    "x2_train, x2_test, y2_train, y2_test = train_test_split(x2, y2, test_size = 0.37, random_state = 5762)"
   ]
  },
  {
   "cell_type": "code",
   "execution_count": null,
   "id": "499097aa-76be-44b5-8833-0df943682b23",
   "metadata": {},
   "outputs": [],
   "source": [
    "# Treinando o modelo\n"
   ]
  },
  {
   "cell_type": "code",
   "execution_count": null,
   "id": "e46264fd-f6a1-4b8d-bdbd-e12cbf0874dc",
   "metadata": {},
   "outputs": [],
   "source": []
  },
  {
   "cell_type": "code",
   "execution_count": null,
   "id": "cabfcc90-31da-44b7-ba69-486db8bb21d1",
   "metadata": {},
   "outputs": [],
   "source": []
  },
  {
   "cell_type": "markdown",
   "id": "3fc2c8ed-94ea-4e80-8f77-ea6214c097bb",
   "metadata": {},
   "source": [
    "---"
   ]
  },
  {
   "cell_type": "markdown",
   "id": "57dbda11-5068-4bf7-a6c6-aeb2ae70158e",
   "metadata": {},
   "source": [
    "## Tarefa de Clusterização com K-means\n",
    "- Dataset: wine.csv"
   ]
  },
  {
   "cell_type": "code",
   "execution_count": 28,
   "id": "ca9bc731-e1ba-4884-9b5c-6fee2c1d7276",
   "metadata": {},
   "outputs": [
    {
     "name": "stdout",
     "output_type": "stream",
     "text": [
      "(178, 14)\n"
     ]
    },
    {
     "data": {
      "text/html": [
       "<div>\n",
       "<style scoped>\n",
       "    .dataframe tbody tr th:only-of-type {\n",
       "        vertical-align: middle;\n",
       "    }\n",
       "\n",
       "    .dataframe tbody tr th {\n",
       "        vertical-align: top;\n",
       "    }\n",
       "\n",
       "    .dataframe thead th {\n",
       "        text-align: right;\n",
       "    }\n",
       "</style>\n",
       "<table border=\"1\" class=\"dataframe\">\n",
       "  <thead>\n",
       "    <tr style=\"text-align: right;\">\n",
       "      <th></th>\n",
       "      <th>class</th>\n",
       "      <th>Alcohol</th>\n",
       "      <th>Malic_acid</th>\n",
       "      <th>Ash</th>\n",
       "      <th>Alcalinity_of_ash</th>\n",
       "      <th>Magnesium</th>\n",
       "      <th>Total_phenols</th>\n",
       "      <th>Flavanoids</th>\n",
       "      <th>Nonflavanoid_phenols</th>\n",
       "      <th>Proanthocyanins</th>\n",
       "      <th>Color_intensity</th>\n",
       "      <th>Hue</th>\n",
       "      <th>OD280%2FOD315_of_diluted_wines</th>\n",
       "      <th>Proline</th>\n",
       "    </tr>\n",
       "  </thead>\n",
       "  <tbody>\n",
       "    <tr>\n",
       "      <th>0</th>\n",
       "      <td>1</td>\n",
       "      <td>14.23</td>\n",
       "      <td>1.71</td>\n",
       "      <td>2.43</td>\n",
       "      <td>15.6</td>\n",
       "      <td>127</td>\n",
       "      <td>2.80</td>\n",
       "      <td>3.06</td>\n",
       "      <td>0.28</td>\n",
       "      <td>2.29</td>\n",
       "      <td>5.64</td>\n",
       "      <td>1.04</td>\n",
       "      <td>3.92</td>\n",
       "      <td>1065</td>\n",
       "    </tr>\n",
       "    <tr>\n",
       "      <th>1</th>\n",
       "      <td>1</td>\n",
       "      <td>13.20</td>\n",
       "      <td>1.78</td>\n",
       "      <td>2.14</td>\n",
       "      <td>11.2</td>\n",
       "      <td>100</td>\n",
       "      <td>2.65</td>\n",
       "      <td>2.76</td>\n",
       "      <td>0.26</td>\n",
       "      <td>1.28</td>\n",
       "      <td>4.38</td>\n",
       "      <td>1.05</td>\n",
       "      <td>3.40</td>\n",
       "      <td>1050</td>\n",
       "    </tr>\n",
       "    <tr>\n",
       "      <th>2</th>\n",
       "      <td>1</td>\n",
       "      <td>13.16</td>\n",
       "      <td>2.36</td>\n",
       "      <td>2.67</td>\n",
       "      <td>18.6</td>\n",
       "      <td>101</td>\n",
       "      <td>2.80</td>\n",
       "      <td>3.24</td>\n",
       "      <td>0.30</td>\n",
       "      <td>2.81</td>\n",
       "      <td>5.68</td>\n",
       "      <td>1.03</td>\n",
       "      <td>3.17</td>\n",
       "      <td>1185</td>\n",
       "    </tr>\n",
       "    <tr>\n",
       "      <th>3</th>\n",
       "      <td>1</td>\n",
       "      <td>14.37</td>\n",
       "      <td>1.95</td>\n",
       "      <td>2.50</td>\n",
       "      <td>16.8</td>\n",
       "      <td>113</td>\n",
       "      <td>3.85</td>\n",
       "      <td>3.49</td>\n",
       "      <td>0.24</td>\n",
       "      <td>2.18</td>\n",
       "      <td>7.80</td>\n",
       "      <td>0.86</td>\n",
       "      <td>3.45</td>\n",
       "      <td>1480</td>\n",
       "    </tr>\n",
       "    <tr>\n",
       "      <th>4</th>\n",
       "      <td>1</td>\n",
       "      <td>13.24</td>\n",
       "      <td>2.59</td>\n",
       "      <td>2.87</td>\n",
       "      <td>21.0</td>\n",
       "      <td>118</td>\n",
       "      <td>2.80</td>\n",
       "      <td>2.69</td>\n",
       "      <td>0.39</td>\n",
       "      <td>1.82</td>\n",
       "      <td>4.32</td>\n",
       "      <td>1.04</td>\n",
       "      <td>2.93</td>\n",
       "      <td>735</td>\n",
       "    </tr>\n",
       "  </tbody>\n",
       "</table>\n",
       "</div>"
      ],
      "text/plain": [
       "   class  Alcohol  Malic_acid   Ash  Alcalinity_of_ash  Magnesium  \\\n",
       "0      1    14.23        1.71  2.43               15.6        127   \n",
       "1      1    13.20        1.78  2.14               11.2        100   \n",
       "2      1    13.16        2.36  2.67               18.6        101   \n",
       "3      1    14.37        1.95  2.50               16.8        113   \n",
       "4      1    13.24        2.59  2.87               21.0        118   \n",
       "\n",
       "   Total_phenols  Flavanoids  Nonflavanoid_phenols  Proanthocyanins  \\\n",
       "0           2.80        3.06                  0.28             2.29   \n",
       "1           2.65        2.76                  0.26             1.28   \n",
       "2           2.80        3.24                  0.30             2.81   \n",
       "3           3.85        3.49                  0.24             2.18   \n",
       "4           2.80        2.69                  0.39             1.82   \n",
       "\n",
       "   Color_intensity   Hue  OD280%2FOD315_of_diluted_wines  Proline  \n",
       "0             5.64  1.04                            3.92     1065  \n",
       "1             4.38  1.05                            3.40     1050  \n",
       "2             5.68  1.03                            3.17     1185  \n",
       "3             7.80  0.86                            3.45     1480  \n",
       "4             4.32  1.04                            2.93      735  "
      ]
     },
     "execution_count": 28,
     "metadata": {},
     "output_type": "execute_result"
    }
   ],
   "source": [
    "# Base de clusterização K-means\n",
    "print(dfwine.shape)\n",
    "dfwine.head()"
   ]
  },
  {
   "cell_type": "code",
   "execution_count": 33,
   "id": "2d39cd55-f7c0-4613-afbb-64ae50836274",
   "metadata": {},
   "outputs": [
    {
     "data": {
      "text/plain": [
       "array([1, 2, 3], dtype=int64)"
      ]
     },
     "execution_count": 33,
     "metadata": {},
     "output_type": "execute_result"
    }
   ],
   "source": [
    "dfwine['class'].unique()"
   ]
  },
  {
   "cell_type": "code",
   "execution_count": 54,
   "id": "a9ea906c-9ff8-4d38-8cfb-6f391b760721",
   "metadata": {},
   "outputs": [
    {
     "data": {
      "text/plain": [
       "class                             0\n",
       "Alcohol                           0\n",
       "Malic_acid                        0\n",
       "Ash                               0\n",
       "Alcalinity_of_ash                 0\n",
       "Magnesium                         0\n",
       "Total_phenols                     0\n",
       "Flavanoids                        0\n",
       "Nonflavanoid_phenols              0\n",
       "Proanthocyanins                   0\n",
       "Color_intensity                   0\n",
       "Hue                               0\n",
       "OD280%2FOD315_of_diluted_wines    0\n",
       "Proline                           0\n",
       "dtype: int64"
      ]
     },
     "execution_count": 54,
     "metadata": {},
     "output_type": "execute_result"
    }
   ],
   "source": [
    "dfwine.isnull().sum()"
   ]
  }
 ],
 "metadata": {
  "kernelspec": {
   "display_name": "Python 3 (ipykernel)",
   "language": "python",
   "name": "python3"
  },
  "language_info": {
   "codemirror_mode": {
    "name": "ipython",
    "version": 3
   },
   "file_extension": ".py",
   "mimetype": "text/x-python",
   "name": "python",
   "nbconvert_exporter": "python",
   "pygments_lexer": "ipython3",
   "version": "3.10.4"
  }
 },
 "nbformat": 4,
 "nbformat_minor": 5
}
