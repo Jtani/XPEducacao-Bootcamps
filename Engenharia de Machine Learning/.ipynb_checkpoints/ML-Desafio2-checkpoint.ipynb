{
 "cells": [
  {
   "cell_type": "markdown",
   "id": "31ccb4b7-20c2-4bef-a674-cee01faca37d",
   "metadata": {},
   "source": [
    "# Engenharia de Machine Learning - XP Educação - Desafio 2 - out/2022\n"
   ]
  },
  {
   "cell_type": "markdown",
   "id": "5df764b3-bbdb-4271-9c75-81fa9f5f2b53",
   "metadata": {},
   "source": [
    "## Carregando as bibliotecas e o dataset"
   ]
  },
  {
   "cell_type": "code",
   "execution_count": 50,
   "id": "3c7efefc-91e2-4946-ba83-827113a45eee",
   "metadata": {},
   "outputs": [],
   "source": [
    "import pandas as pd\n",
    "from sklearn.model_selection import train_test_split\n",
    "from sklearn.neighbors import KNeighborsClassifier\n",
    "from sklearn.tree import DecisionTreeClassifier\n",
    "from sklearn.ensemble import RandomForestClassifier\n",
    "from sklearn.svm import SVC\n",
    "from sklearn.neural_network import MLPClassifier\n",
    "from sklearn.preprocessing import MinMaxScaler\n",
    "from sklearn.metrics import accuracy_score"
   ]
  },
  {
   "cell_type": "code",
   "execution_count": 51,
   "id": "bf6c85fe-6508-490e-a267-cf9f407c0225",
   "metadata": {},
   "outputs": [
    {
     "data": {
      "text/html": [
       "<div>\n",
       "<style scoped>\n",
       "    .dataframe tbody tr th:only-of-type {\n",
       "        vertical-align: middle;\n",
       "    }\n",
       "\n",
       "    .dataframe tbody tr th {\n",
       "        vertical-align: top;\n",
       "    }\n",
       "\n",
       "    .dataframe thead th {\n",
       "        text-align: right;\n",
       "    }\n",
       "</style>\n",
       "<table border=\"1\" class=\"dataframe\">\n",
       "  <thead>\n",
       "    <tr style=\"text-align: right;\">\n",
       "      <th></th>\n",
       "      <th>variance</th>\n",
       "      <th>skewness</th>\n",
       "      <th>curtosis</th>\n",
       "      <th>entropy</th>\n",
       "      <th>class</th>\n",
       "    </tr>\n",
       "  </thead>\n",
       "  <tbody>\n",
       "    <tr>\n",
       "      <th>0</th>\n",
       "      <td>3.62160</td>\n",
       "      <td>8.6661</td>\n",
       "      <td>-2.8073</td>\n",
       "      <td>-0.44699</td>\n",
       "      <td>0</td>\n",
       "    </tr>\n",
       "    <tr>\n",
       "      <th>1</th>\n",
       "      <td>4.54590</td>\n",
       "      <td>8.1674</td>\n",
       "      <td>-2.4586</td>\n",
       "      <td>-1.46210</td>\n",
       "      <td>0</td>\n",
       "    </tr>\n",
       "    <tr>\n",
       "      <th>2</th>\n",
       "      <td>3.86600</td>\n",
       "      <td>-2.6383</td>\n",
       "      <td>1.9242</td>\n",
       "      <td>0.10645</td>\n",
       "      <td>0</td>\n",
       "    </tr>\n",
       "    <tr>\n",
       "      <th>3</th>\n",
       "      <td>3.45660</td>\n",
       "      <td>9.5228</td>\n",
       "      <td>-4.0112</td>\n",
       "      <td>-3.59440</td>\n",
       "      <td>0</td>\n",
       "    </tr>\n",
       "    <tr>\n",
       "      <th>4</th>\n",
       "      <td>0.32924</td>\n",
       "      <td>-4.4552</td>\n",
       "      <td>4.5718</td>\n",
       "      <td>-0.98880</td>\n",
       "      <td>0</td>\n",
       "    </tr>\n",
       "  </tbody>\n",
       "</table>\n",
       "</div>"
      ],
      "text/plain": [
       "   variance  skewness  curtosis  entropy  class\n",
       "0   3.62160    8.6661   -2.8073 -0.44699      0\n",
       "1   4.54590    8.1674   -2.4586 -1.46210      0\n",
       "2   3.86600   -2.6383    1.9242  0.10645      0\n",
       "3   3.45660    9.5228   -4.0112 -3.59440      0\n",
       "4   0.32924   -4.4552    4.5718 -0.98880      0"
      ]
     },
     "execution_count": 51,
     "metadata": {},
     "output_type": "execute_result"
    }
   ],
   "source": [
    "# carregando o dataset\n",
    "df = pd.read_csv(\"https://pycourse.s3.amazonaws.com/banknote_authentication.txt\", header=None, names = [\"variance\", \"skewness\", \"curtosis\", \"entropy\", \"class\" ])\n",
    "df.head()"
   ]
  },
  {
   "cell_type": "code",
   "execution_count": 52,
   "id": "f2522dc0-ea76-4f69-aea9-e0f5cab91c6a",
   "metadata": {},
   "outputs": [
    {
     "data": {
      "text/html": [
       "<div>\n",
       "<style scoped>\n",
       "    .dataframe tbody tr th:only-of-type {\n",
       "        vertical-align: middle;\n",
       "    }\n",
       "\n",
       "    .dataframe tbody tr th {\n",
       "        vertical-align: top;\n",
       "    }\n",
       "\n",
       "    .dataframe thead th {\n",
       "        text-align: right;\n",
       "    }\n",
       "</style>\n",
       "<table border=\"1\" class=\"dataframe\">\n",
       "  <thead>\n",
       "    <tr style=\"text-align: right;\">\n",
       "      <th></th>\n",
       "      <th>variance</th>\n",
       "      <th>skewness</th>\n",
       "      <th>curtosis</th>\n",
       "      <th>entropy</th>\n",
       "      <th>class</th>\n",
       "    </tr>\n",
       "  </thead>\n",
       "  <tbody>\n",
       "    <tr>\n",
       "      <th>1367</th>\n",
       "      <td>0.40614</td>\n",
       "      <td>1.34920</td>\n",
       "      <td>-1.4501</td>\n",
       "      <td>-0.55949</td>\n",
       "      <td>1</td>\n",
       "    </tr>\n",
       "    <tr>\n",
       "      <th>1368</th>\n",
       "      <td>-1.38870</td>\n",
       "      <td>-4.87730</td>\n",
       "      <td>6.4774</td>\n",
       "      <td>0.34179</td>\n",
       "      <td>1</td>\n",
       "    </tr>\n",
       "    <tr>\n",
       "      <th>1369</th>\n",
       "      <td>-3.75030</td>\n",
       "      <td>-13.45860</td>\n",
       "      <td>17.5932</td>\n",
       "      <td>-2.77710</td>\n",
       "      <td>1</td>\n",
       "    </tr>\n",
       "    <tr>\n",
       "      <th>1370</th>\n",
       "      <td>-3.56370</td>\n",
       "      <td>-8.38270</td>\n",
       "      <td>12.3930</td>\n",
       "      <td>-1.28230</td>\n",
       "      <td>1</td>\n",
       "    </tr>\n",
       "    <tr>\n",
       "      <th>1371</th>\n",
       "      <td>-2.54190</td>\n",
       "      <td>-0.65804</td>\n",
       "      <td>2.6842</td>\n",
       "      <td>1.19520</td>\n",
       "      <td>1</td>\n",
       "    </tr>\n",
       "  </tbody>\n",
       "</table>\n",
       "</div>"
      ],
      "text/plain": [
       "      variance  skewness  curtosis  entropy  class\n",
       "1367   0.40614   1.34920   -1.4501 -0.55949      1\n",
       "1368  -1.38870  -4.87730    6.4774  0.34179      1\n",
       "1369  -3.75030 -13.45860   17.5932 -2.77710      1\n",
       "1370  -3.56370  -8.38270   12.3930 -1.28230      1\n",
       "1371  -2.54190  -0.65804    2.6842  1.19520      1"
      ]
     },
     "execution_count": 52,
     "metadata": {},
     "output_type": "execute_result"
    }
   ],
   "source": [
    "df.tail()"
   ]
  },
  {
   "cell_type": "markdown",
   "id": "251c2b5c-765c-4d57-8b75-01cc5af55dc3",
   "metadata": {},
   "source": [
    "## 1) Qual o tamanho desse dataset (número de linhas, número de colunas)? \n"
   ]
  },
  {
   "cell_type": "code",
   "execution_count": 53,
   "id": "5f6c9f0f-336a-49aa-b482-422077c9b2c9",
   "metadata": {},
   "outputs": [
    {
     "data": {
      "text/plain": [
       "(1372, 5)"
      ]
     },
     "execution_count": 53,
     "metadata": {},
     "output_type": "execute_result"
    }
   ],
   "source": [
    "df.shape"
   ]
  },
  {
   "cell_type": "markdown",
   "id": "f29ed227-209e-4116-8390-ad182f199e1c",
   "metadata": {},
   "source": [
    "### Resposta: (1372, 5)"
   ]
  },
  {
   "cell_type": "markdown",
   "id": "d7034087-3e26-49fb-8748-66c773559279",
   "metadata": {},
   "source": [
    "## 2) Qual variável possui o maior range (diferença entre valor máximo e mínimo)? \n"
   ]
  },
  {
   "cell_type": "code",
   "execution_count": 54,
   "id": "11dc3e59-78c9-4e11-a031-a1d9b08ed7f3",
   "metadata": {},
   "outputs": [
    {
     "data": {
      "text/html": [
       "<div>\n",
       "<style scoped>\n",
       "    .dataframe tbody tr th:only-of-type {\n",
       "        vertical-align: middle;\n",
       "    }\n",
       "\n",
       "    .dataframe tbody tr th {\n",
       "        vertical-align: top;\n",
       "    }\n",
       "\n",
       "    .dataframe thead th {\n",
       "        text-align: right;\n",
       "    }\n",
       "</style>\n",
       "<table border=\"1\" class=\"dataframe\">\n",
       "  <thead>\n",
       "    <tr style=\"text-align: right;\">\n",
       "      <th></th>\n",
       "      <th>variance</th>\n",
       "      <th>skewness</th>\n",
       "      <th>curtosis</th>\n",
       "      <th>entropy</th>\n",
       "      <th>class</th>\n",
       "    </tr>\n",
       "  </thead>\n",
       "  <tbody>\n",
       "    <tr>\n",
       "      <th>count</th>\n",
       "      <td>1372.000000</td>\n",
       "      <td>1372.000000</td>\n",
       "      <td>1372.000000</td>\n",
       "      <td>1372.000000</td>\n",
       "      <td>1372.000000</td>\n",
       "    </tr>\n",
       "    <tr>\n",
       "      <th>mean</th>\n",
       "      <td>0.433735</td>\n",
       "      <td>1.922353</td>\n",
       "      <td>1.397627</td>\n",
       "      <td>-1.191657</td>\n",
       "      <td>0.444606</td>\n",
       "    </tr>\n",
       "    <tr>\n",
       "      <th>std</th>\n",
       "      <td>2.842763</td>\n",
       "      <td>5.869047</td>\n",
       "      <td>4.310030</td>\n",
       "      <td>2.101013</td>\n",
       "      <td>0.497103</td>\n",
       "    </tr>\n",
       "    <tr>\n",
       "      <th>min</th>\n",
       "      <td>-7.042100</td>\n",
       "      <td>-13.773100</td>\n",
       "      <td>-5.286100</td>\n",
       "      <td>-8.548200</td>\n",
       "      <td>0.000000</td>\n",
       "    </tr>\n",
       "    <tr>\n",
       "      <th>25%</th>\n",
       "      <td>-1.773000</td>\n",
       "      <td>-1.708200</td>\n",
       "      <td>-1.574975</td>\n",
       "      <td>-2.413450</td>\n",
       "      <td>0.000000</td>\n",
       "    </tr>\n",
       "    <tr>\n",
       "      <th>50%</th>\n",
       "      <td>0.496180</td>\n",
       "      <td>2.319650</td>\n",
       "      <td>0.616630</td>\n",
       "      <td>-0.586650</td>\n",
       "      <td>0.000000</td>\n",
       "    </tr>\n",
       "    <tr>\n",
       "      <th>75%</th>\n",
       "      <td>2.821475</td>\n",
       "      <td>6.814625</td>\n",
       "      <td>3.179250</td>\n",
       "      <td>0.394810</td>\n",
       "      <td>1.000000</td>\n",
       "    </tr>\n",
       "    <tr>\n",
       "      <th>max</th>\n",
       "      <td>6.824800</td>\n",
       "      <td>12.951600</td>\n",
       "      <td>17.927400</td>\n",
       "      <td>2.449500</td>\n",
       "      <td>1.000000</td>\n",
       "    </tr>\n",
       "  </tbody>\n",
       "</table>\n",
       "</div>"
      ],
      "text/plain": [
       "          variance     skewness     curtosis      entropy        class\n",
       "count  1372.000000  1372.000000  1372.000000  1372.000000  1372.000000\n",
       "mean      0.433735     1.922353     1.397627    -1.191657     0.444606\n",
       "std       2.842763     5.869047     4.310030     2.101013     0.497103\n",
       "min      -7.042100   -13.773100    -5.286100    -8.548200     0.000000\n",
       "25%      -1.773000    -1.708200    -1.574975    -2.413450     0.000000\n",
       "50%       0.496180     2.319650     0.616630    -0.586650     0.000000\n",
       "75%       2.821475     6.814625     3.179250     0.394810     1.000000\n",
       "max       6.824800    12.951600    17.927400     2.449500     1.000000"
      ]
     },
     "execution_count": 54,
     "metadata": {},
     "output_type": "execute_result"
    }
   ],
   "source": [
    "df.describe()"
   ]
  },
  {
   "cell_type": "code",
   "execution_count": 55,
   "id": "2957dd0c-5fe3-4f02-a8b5-f0e7cd47f46b",
   "metadata": {},
   "outputs": [
    {
     "data": {
      "text/plain": [
       "skewness    26.7247\n",
       "curtosis    23.2135\n",
       "variance    13.8669\n",
       "entropy     10.9977\n",
       "class        1.0000\n",
       "dtype: float64"
      ]
     },
     "execution_count": 55,
     "metadata": {},
     "output_type": "execute_result"
    }
   ],
   "source": [
    "(df.max()-df.min()).sort_values(ascending=False)"
   ]
  },
  {
   "cell_type": "code",
   "execution_count": 56,
   "id": "e2e968ef-ea48-4083-9e6d-e4442d915b6d",
   "metadata": {},
   "outputs": [
    {
     "data": {
      "text/plain": [
       "'skewness'"
      ]
     },
     "execution_count": 56,
     "metadata": {},
     "output_type": "execute_result"
    }
   ],
   "source": [
    "(df.max()-df.min()).idxmax()"
   ]
  },
  {
   "cell_type": "markdown",
   "id": "5ed5df1e-22fe-4ab8-8520-5b39a2637a43",
   "metadata": {},
   "source": [
    "### Resposta: skewness"
   ]
  },
  {
   "cell_type": "markdown",
   "id": "02b16d9d-e8ba-471b-86bf-2e1ebd1d2673",
   "metadata": {},
   "source": [
    "## Perguntas 3 a 6 podem ser obtidas com df.describe(), mas abaixo faremos obteremos os valores um por um"
   ]
  },
  {
   "cell_type": "markdown",
   "id": "95dab07b-d70e-444d-a7e5-6e8261be5980",
   "metadata": {},
   "source": [
    "## 3) Qual a média da coluna skewness? \n"
   ]
  },
  {
   "cell_type": "code",
   "execution_count": 57,
   "id": "34871446-c059-4838-90a2-78727af6b98c",
   "metadata": {},
   "outputs": [
    {
     "data": {
      "text/plain": [
       "1.92235"
      ]
     },
     "execution_count": 57,
     "metadata": {},
     "output_type": "execute_result"
    }
   ],
   "source": [
    "round(df[\"skewness\"].mean(),5)"
   ]
  },
  {
   "cell_type": "markdown",
   "id": "b57abe34-6dec-4a3e-80ac-47167c256173",
   "metadata": {},
   "source": [
    "### Resposta: 1,92235"
   ]
  },
  {
   "cell_type": "markdown",
   "id": "127285a0-c9ad-4362-8665-83e00345d014",
   "metadata": {},
   "source": [
    "## 4) Qual a média da coluna entropy? \n"
   ]
  },
  {
   "cell_type": "code",
   "execution_count": 58,
   "id": "d3b88303-211a-413f-8d47-a9acd772408a",
   "metadata": {},
   "outputs": [
    {
     "data": {
      "text/plain": [
       "-1.19166"
      ]
     },
     "execution_count": 58,
     "metadata": {},
     "output_type": "execute_result"
    }
   ],
   "source": [
    "round(df[\"entropy\"].mean(),5)"
   ]
  },
  {
   "cell_type": "markdown",
   "id": "615e2ef5-caad-49ba-817b-4dca8436c535",
   "metadata": {},
   "source": [
    "### Resposta: -1,19166"
   ]
  },
  {
   "cell_type": "markdown",
   "id": "21d80671-47ec-4f51-be05-fabd4cce8c7f",
   "metadata": {},
   "source": [
    "## 5) Qual a mediana da coluna variance? \n",
    "\n"
   ]
  },
  {
   "cell_type": "code",
   "execution_count": 59,
   "id": "97b81526-079e-4af3-ab56-cef63056cb15",
   "metadata": {},
   "outputs": [
    {
     "data": {
      "text/plain": [
       "0.49618"
      ]
     },
     "execution_count": 59,
     "metadata": {},
     "output_type": "execute_result"
    }
   ],
   "source": [
    "round(df[\"variance\"].median(),5)"
   ]
  },
  {
   "cell_type": "markdown",
   "id": "c0451f17-50ea-48f1-8c20-265a9c669bd8",
   "metadata": {},
   "source": [
    "### Resposta: 0,49618"
   ]
  },
  {
   "cell_type": "markdown",
   "id": "b199f6c2-3e65-433b-81c2-57b0abd22634",
   "metadata": {},
   "source": [
    "## 6) Qual o desvio padrão da coluna curtosis? \n"
   ]
  },
  {
   "cell_type": "code",
   "execution_count": 60,
   "id": "f1a71292-1e92-4703-9bac-92bb3c0d7ce0",
   "metadata": {},
   "outputs": [
    {
     "data": {
      "text/plain": [
       "4.31003"
      ]
     },
     "execution_count": 60,
     "metadata": {},
     "output_type": "execute_result"
    }
   ],
   "source": [
    "round(df[\"curtosis\"].std(),5)"
   ]
  },
  {
   "cell_type": "markdown",
   "id": "040f26aa-f563-4f34-a812-e25b63a1e9c6",
   "metadata": {},
   "source": [
    "### Resposta: 4,31003"
   ]
  },
  {
   "cell_type": "markdown",
   "id": "58609e84-61ad-43c1-a3b4-734c0f6916f1",
   "metadata": {},
   "source": [
    "## 7) Qual a porcentagem de exemplos do dataset que são cédulas falsas (class=1)? \n"
   ]
  },
  {
   "cell_type": "code",
   "execution_count": 61,
   "id": "6af19cdf-7206-428e-a6b7-093b3d67e090",
   "metadata": {},
   "outputs": [
    {
     "data": {
      "text/plain": [
       "44.46"
      ]
     },
     "execution_count": 61,
     "metadata": {},
     "output_type": "execute_result"
    }
   ],
   "source": [
    "round(df[\"class\"].sum()/df[\"class\"].count()*100,2)"
   ]
  },
  {
   "cell_type": "markdown",
   "id": "eabc08d5-65b2-4844-83a5-23ed4a0eb315",
   "metadata": {},
   "source": [
    "### Resposta: 44,46%\n",
    "------------------"
   ]
  },
  {
   "cell_type": "markdown",
   "id": "a2c0cfdd-6eea-4cec-8538-de0d4af0264f",
   "metadata": {},
   "source": [
    "## 8) Qual o valor da correlação de Pearson entre as variáveis skewness e curtosis? \n"
   ]
  },
  {
   "cell_type": "code",
   "execution_count": 62,
   "id": "18dc01fa-2c57-4eca-b343-ba3d1eb2b0e2",
   "metadata": {},
   "outputs": [
    {
     "data": {
      "text/html": [
       "<div>\n",
       "<style scoped>\n",
       "    .dataframe tbody tr th:only-of-type {\n",
       "        vertical-align: middle;\n",
       "    }\n",
       "\n",
       "    .dataframe tbody tr th {\n",
       "        vertical-align: top;\n",
       "    }\n",
       "\n",
       "    .dataframe thead th {\n",
       "        text-align: right;\n",
       "    }\n",
       "</style>\n",
       "<table border=\"1\" class=\"dataframe\">\n",
       "  <thead>\n",
       "    <tr style=\"text-align: right;\">\n",
       "      <th></th>\n",
       "      <th>variance</th>\n",
       "      <th>skewness</th>\n",
       "      <th>curtosis</th>\n",
       "      <th>entropy</th>\n",
       "      <th>class</th>\n",
       "    </tr>\n",
       "  </thead>\n",
       "  <tbody>\n",
       "    <tr>\n",
       "      <th>variance</th>\n",
       "      <td>1.000000</td>\n",
       "      <td>0.264026</td>\n",
       "      <td>-0.380850</td>\n",
       "      <td>0.276817</td>\n",
       "      <td>-0.724843</td>\n",
       "    </tr>\n",
       "    <tr>\n",
       "      <th>skewness</th>\n",
       "      <td>0.264026</td>\n",
       "      <td>1.000000</td>\n",
       "      <td>-0.786895</td>\n",
       "      <td>-0.526321</td>\n",
       "      <td>-0.444688</td>\n",
       "    </tr>\n",
       "    <tr>\n",
       "      <th>curtosis</th>\n",
       "      <td>-0.380850</td>\n",
       "      <td>-0.786895</td>\n",
       "      <td>1.000000</td>\n",
       "      <td>0.318841</td>\n",
       "      <td>0.155883</td>\n",
       "    </tr>\n",
       "    <tr>\n",
       "      <th>entropy</th>\n",
       "      <td>0.276817</td>\n",
       "      <td>-0.526321</td>\n",
       "      <td>0.318841</td>\n",
       "      <td>1.000000</td>\n",
       "      <td>-0.023424</td>\n",
       "    </tr>\n",
       "    <tr>\n",
       "      <th>class</th>\n",
       "      <td>-0.724843</td>\n",
       "      <td>-0.444688</td>\n",
       "      <td>0.155883</td>\n",
       "      <td>-0.023424</td>\n",
       "      <td>1.000000</td>\n",
       "    </tr>\n",
       "  </tbody>\n",
       "</table>\n",
       "</div>"
      ],
      "text/plain": [
       "          variance  skewness  curtosis   entropy     class\n",
       "variance  1.000000  0.264026 -0.380850  0.276817 -0.724843\n",
       "skewness  0.264026  1.000000 -0.786895 -0.526321 -0.444688\n",
       "curtosis -0.380850 -0.786895  1.000000  0.318841  0.155883\n",
       "entropy   0.276817 -0.526321  0.318841  1.000000 -0.023424\n",
       "class    -0.724843 -0.444688  0.155883 -0.023424  1.000000"
      ]
     },
     "execution_count": 62,
     "metadata": {},
     "output_type": "execute_result"
    }
   ],
   "source": [
    "df.corr()"
   ]
  },
  {
   "cell_type": "code",
   "execution_count": 63,
   "id": "c89788cd-decc-4622-8d13-eea9e40b22ad",
   "metadata": {},
   "outputs": [
    {
     "data": {
      "text/html": [
       "<div>\n",
       "<style scoped>\n",
       "    .dataframe tbody tr th:only-of-type {\n",
       "        vertical-align: middle;\n",
       "    }\n",
       "\n",
       "    .dataframe tbody tr th {\n",
       "        vertical-align: top;\n",
       "    }\n",
       "\n",
       "    .dataframe thead th {\n",
       "        text-align: right;\n",
       "    }\n",
       "</style>\n",
       "<table border=\"1\" class=\"dataframe\">\n",
       "  <thead>\n",
       "    <tr style=\"text-align: right;\">\n",
       "      <th></th>\n",
       "      <th>skewness</th>\n",
       "      <th>curtosis</th>\n",
       "    </tr>\n",
       "  </thead>\n",
       "  <tbody>\n",
       "    <tr>\n",
       "      <th>skewness</th>\n",
       "      <td>1.000000</td>\n",
       "      <td>-0.786895</td>\n",
       "    </tr>\n",
       "    <tr>\n",
       "      <th>curtosis</th>\n",
       "      <td>-0.786895</td>\n",
       "      <td>1.000000</td>\n",
       "    </tr>\n",
       "  </tbody>\n",
       "</table>\n",
       "</div>"
      ],
      "text/plain": [
       "          skewness  curtosis\n",
       "skewness  1.000000 -0.786895\n",
       "curtosis -0.786895  1.000000"
      ]
     },
     "execution_count": 63,
     "metadata": {},
     "output_type": "execute_result"
    }
   ],
   "source": [
    "df[[\"skewness\",\"curtosis\"]].corr()"
   ]
  },
  {
   "cell_type": "markdown",
   "id": "f40873c9-ed40-48c3-bdb9-99a4f215ded1",
   "metadata": {},
   "source": [
    "### Resposta: -0,786895"
   ]
  },
  {
   "cell_type": "markdown",
   "id": "5ff43a6d",
   "metadata": {},
   "source": [
    "## Preparação para modelagem\n",
    "Separação dos dados de entrada e saída\n",
    "Separação entre treinamento e teste"
   ]
  },
  {
   "cell_type": "code",
   "execution_count": 64,
   "id": "94424eda",
   "metadata": {},
   "outputs": [],
   "source": [
    "# Separando entrada e saída\n",
    "x = df.drop(\"class\", axis =1)\n",
    "y = df[\"class\"]"
   ]
  },
  {
   "cell_type": "code",
   "execution_count": 65,
   "id": "a4b48091",
   "metadata": {},
   "outputs": [],
   "source": [
    "# Separando treinamento e teste\n",
    "x_train, x_test, y_train, y_test = train_test_split(x, y, test_size = 0.30, random_state = 1)"
   ]
  },
  {
   "cell_type": "markdown",
   "id": "f4935d82-45bb-4abf-b883-2c27963284a3",
   "metadata": {},
   "source": [
    "## 9) Qual a acurácia do KNN no conjunto de teste? \n"
   ]
  },
  {
   "cell_type": "code",
   "execution_count": 66,
   "id": "a9b7e98d-2919-4033-81e9-9a0f56cfd698",
   "metadata": {},
   "outputs": [
    {
     "data": {
      "text/plain": [
       "KNeighborsClassifier()"
      ]
     },
     "execution_count": 66,
     "metadata": {},
     "output_type": "execute_result"
    }
   ],
   "source": [
    "clf_KNN = KNeighborsClassifier(n_neighbors=5)\n",
    "clf_KNN.fit(x_train, y_train)"
   ]
  },
  {
   "cell_type": "code",
   "execution_count": 67,
   "id": "54c28d84-1df2-4de9-b7c3-f93c49f66172",
   "metadata": {},
   "outputs": [],
   "source": [
    "# realiza a previsão com os dados\n",
    "y_pred1 = clf_KNN.predict(x_test) "
   ]
  },
  {
   "cell_type": "code",
   "execution_count": 68,
   "id": "1ca53db5",
   "metadata": {},
   "outputs": [
    {
     "data": {
      "text/plain": [
       "0.9975728155339806"
      ]
     },
     "execution_count": 68,
     "metadata": {},
     "output_type": "execute_result"
    }
   ],
   "source": [
    "acuracia = accuracy_score(y_test, y_pred1)\n",
    "acuracia"
   ]
  },
  {
   "cell_type": "markdown",
   "id": "e4c5a6d7",
   "metadata": {},
   "source": [
    "### Resposta: 0,99757"
   ]
  },
  {
   "cell_type": "markdown",
   "id": "18b0d721-ab56-4552-bc3e-2d2987b742db",
   "metadata": {},
   "source": [
    "## 10) Qual a acurácia da Árvore de Decisão no conjunto de teste? \n"
   ]
  },
  {
   "cell_type": "code",
   "execution_count": 69,
   "id": "a521b018-5d62-4cda-aa3d-3aab3c636c97",
   "metadata": {},
   "outputs": [
    {
     "data": {
      "text/plain": [
       "DecisionTreeClassifier(random_state=1)"
      ]
     },
     "execution_count": 69,
     "metadata": {},
     "output_type": "execute_result"
    }
   ],
   "source": [
    "#aplicando um modelo de classificação via árvore de decisão\n",
    "clf_arvore = DecisionTreeClassifier(random_state=1) \n",
    "clf_arvore.fit(x_train, y_train) "
   ]
  },
  {
   "cell_type": "code",
   "execution_count": 70,
   "id": "3e27c6b4-375b-41d0-838e-712e958ff658",
   "metadata": {},
   "outputs": [],
   "source": [
    "y_pred2 = clf_arvore.predict(x_test) "
   ]
  },
  {
   "cell_type": "code",
   "execution_count": 71,
   "id": "89f8ca9c",
   "metadata": {},
   "outputs": [
    {
     "data": {
      "text/plain": [
       "0.9878640776699029"
      ]
     },
     "execution_count": 71,
     "metadata": {},
     "output_type": "execute_result"
    }
   ],
   "source": [
    "acuracia2 = accuracy_score(y_test, y_pred2)\n",
    "acuracia2"
   ]
  },
  {
   "cell_type": "markdown",
   "id": "8847c385",
   "metadata": {},
   "source": [
    "### Resposta: 0,98786"
   ]
  },
  {
   "cell_type": "markdown",
   "id": "9594ac00-0332-45ad-a1f4-4e20307825e1",
   "metadata": {},
   "source": [
    "## 11) Qual a acurácia do Random Forest no conjunto de teste? \n"
   ]
  },
  {
   "cell_type": "code",
   "execution_count": 72,
   "id": "2d632d40-831a-4c44-a91b-eb7f8b7f3de2",
   "metadata": {},
   "outputs": [
    {
     "data": {
      "text/plain": [
       "RandomForestClassifier(max_depth=8, random_state=1)"
      ]
     },
     "execution_count": 72,
     "metadata": {},
     "output_type": "execute_result"
    }
   ],
   "source": [
    "clf_floresta = RandomForestClassifier(max_depth=8, random_state=1)\n",
    "clf_floresta.fit(x_train, y_train)"
   ]
  },
  {
   "cell_type": "code",
   "execution_count": 73,
   "id": "0fa9bd0f-936f-4155-a8b4-ef9606869e17",
   "metadata": {},
   "outputs": [],
   "source": [
    "y_pred3 = clf_floresta.predict(x_test)"
   ]
  },
  {
   "cell_type": "code",
   "execution_count": 74,
   "id": "5e668053",
   "metadata": {},
   "outputs": [
    {
     "data": {
      "text/plain": [
       "0.9951456310679612"
      ]
     },
     "execution_count": 74,
     "metadata": {},
     "output_type": "execute_result"
    }
   ],
   "source": [
    "acuracia3 = accuracy_score(y_test, y_pred3)\n",
    "acuracia3"
   ]
  },
  {
   "cell_type": "markdown",
   "id": "e9d0aea2",
   "metadata": {},
   "source": [
    "### Resposta: 0,99514"
   ]
  },
  {
   "cell_type": "markdown",
   "id": "d2013669-7f16-47f0-b2ae-1d89d09c6511",
   "metadata": {},
   "source": [
    "## 12) Analisando o valor da importância relativa das features do Random Forest (atributo feature_importances_), qual feature melhor contribuiu para a predição de class? \n"
   ]
  },
  {
   "cell_type": "code",
   "execution_count": 75,
   "id": "32365bd5-02dd-468e-8e13-c1b079d0f1ab",
   "metadata": {},
   "outputs": [
    {
     "data": {
      "text/plain": [
       "array([0.56066718, 0.24058589, 0.14022782, 0.05851911])"
      ]
     },
     "execution_count": 75,
     "metadata": {},
     "output_type": "execute_result"
    }
   ],
   "source": [
    "clf_floresta.feature_importances_"
   ]
  },
  {
   "cell_type": "code",
   "execution_count": 76,
   "id": "c2d972bc-668f-4e04-be2d-e97fbf992615",
   "metadata": {},
   "outputs": [
    {
     "data": {
      "text/html": [
       "<div>\n",
       "<style scoped>\n",
       "    .dataframe tbody tr th:only-of-type {\n",
       "        vertical-align: middle;\n",
       "    }\n",
       "\n",
       "    .dataframe tbody tr th {\n",
       "        vertical-align: top;\n",
       "    }\n",
       "\n",
       "    .dataframe thead th {\n",
       "        text-align: right;\n",
       "    }\n",
       "</style>\n",
       "<table border=\"1\" class=\"dataframe\">\n",
       "  <thead>\n",
       "    <tr style=\"text-align: right;\">\n",
       "      <th></th>\n",
       "      <th>col_name</th>\n",
       "    </tr>\n",
       "  </thead>\n",
       "  <tbody>\n",
       "    <tr>\n",
       "      <th>variance</th>\n",
       "      <td>0.560667</td>\n",
       "    </tr>\n",
       "    <tr>\n",
       "      <th>skewness</th>\n",
       "      <td>0.240586</td>\n",
       "    </tr>\n",
       "    <tr>\n",
       "      <th>curtosis</th>\n",
       "      <td>0.140228</td>\n",
       "    </tr>\n",
       "    <tr>\n",
       "      <th>entropy</th>\n",
       "      <td>0.058519</td>\n",
       "    </tr>\n",
       "  </tbody>\n",
       "</table>\n",
       "</div>"
      ],
      "text/plain": [
       "          col_name\n",
       "variance  0.560667\n",
       "skewness  0.240586\n",
       "curtosis  0.140228\n",
       "entropy   0.058519"
      ]
     },
     "execution_count": 76,
     "metadata": {},
     "output_type": "execute_result"
    }
   ],
   "source": [
    "pd.DataFrame({'col_name': clf_floresta.feature_importances_}, index=x.columns).sort_values(by='col_name', ascending=False)"
   ]
  },
  {
   "cell_type": "markdown",
   "id": "712ca5dc",
   "metadata": {},
   "source": [
    "### Resposta: variance"
   ]
  },
  {
   "cell_type": "markdown",
   "id": "9d8e9eee-2b9d-4c72-84dc-2852266e6730",
   "metadata": {},
   "source": [
    "## 13) Qual o valor da importância relativa da feature skewness? \n"
   ]
  },
  {
   "cell_type": "markdown",
   "id": "14bcb9cc",
   "metadata": {},
   "source": [
    "### Resposta: 0,24058589"
   ]
  },
  {
   "cell_type": "markdown",
   "id": "13cfb248-3903-459a-972e-cf4ba8bc388e",
   "metadata": {},
   "source": [
    "## 14) Qual a acurácia do SVM no conjunto de teste? \n"
   ]
  },
  {
   "cell_type": "code",
   "execution_count": 88,
   "id": "9eb9a6d2-2d38-42e8-9d7b-4d86fc0e8e89",
   "metadata": {},
   "outputs": [
    {
     "data": {
      "text/plain": [
       "SVC(gamma='auto', random_state=1)"
      ]
     },
     "execution_count": 88,
     "metadata": {},
     "output_type": "execute_result"
    }
   ],
   "source": [
    "clf_svm=SVC(gamma='auto',kernel='rbf', random_state=1)\n",
    "clf_svm.fit(x_train, y_train)"
   ]
  },
  {
   "cell_type": "code",
   "execution_count": 89,
   "id": "3c5cc851-9cdb-4ac7-bb3b-e7458565e026",
   "metadata": {},
   "outputs": [],
   "source": [
    "y_pred4 = clf_svm.predict(x_test)"
   ]
  },
  {
   "cell_type": "code",
   "execution_count": 90,
   "id": "34cf5fc1",
   "metadata": {},
   "outputs": [
    {
     "data": {
      "text/plain": [
       "1.0"
      ]
     },
     "execution_count": 90,
     "metadata": {},
     "output_type": "execute_result"
    }
   ],
   "source": [
    "acuracia4 = accuracy_score(y_test, y_pred4)\n",
    "acuracia4"
   ]
  },
  {
   "cell_type": "markdown",
   "id": "8b1363f5",
   "metadata": {},
   "source": [
    "### Resposta: 1,0"
   ]
  },
  {
   "cell_type": "markdown",
   "id": "b3abf47a-7119-4b0d-8287-1d344aa6c18b",
   "metadata": {},
   "source": [
    "## 15) Qual a acurácia da rede MLP no conjunto de teste? \n"
   ]
  },
  {
   "cell_type": "code",
   "execution_count": 91,
   "id": "59183baa-cc27-488b-b83a-d17157705b3e",
   "metadata": {},
   "outputs": [
    {
     "data": {
      "text/plain": [
       "MLPClassifier(hidden_layer_sizes=(2,), random_state=1, solver='lbfgs')"
      ]
     },
     "execution_count": 91,
     "metadata": {},
     "output_type": "execute_result"
    }
   ],
   "source": [
    "clf_mlp = MLPClassifier(hidden_layer_sizes=(2,), solver='lbfgs', random_state=1)\n",
    "clf_mlp.fit(x_train, y_train)"
   ]
  },
  {
   "cell_type": "code",
   "execution_count": 92,
   "id": "30f19366",
   "metadata": {},
   "outputs": [],
   "source": [
    "y_pred5 = clf_mlp.predict(x_test)"
   ]
  },
  {
   "cell_type": "code",
   "execution_count": 93,
   "id": "48dcc7a4",
   "metadata": {},
   "outputs": [
    {
     "data": {
      "text/plain": [
       "1.0"
      ]
     },
     "execution_count": 93,
     "metadata": {},
     "output_type": "execute_result"
    }
   ],
   "source": [
    "acuracia5 = accuracy_score(y_test, y_pred5)\n",
    "acuracia5"
   ]
  },
  {
   "cell_type": "markdown",
   "id": "bde094ef",
   "metadata": {},
   "source": [
    "### Resposta: 1,0"
   ]
  },
  {
   "cell_type": "code",
   "execution_count": null,
   "id": "70646d17",
   "metadata": {},
   "outputs": [],
   "source": []
  }
 ],
 "metadata": {
  "kernelspec": {
   "display_name": "Python 3 (ipykernel)",
   "language": "python",
   "name": "python3"
  },
  "language_info": {
   "codemirror_mode": {
    "name": "ipython",
    "version": 3
   },
   "file_extension": ".py",
   "mimetype": "text/x-python",
   "name": "python",
   "nbconvert_exporter": "python",
   "pygments_lexer": "ipython3",
   "version": "3.10.4"
  }
 },
 "nbformat": 4,
 "nbformat_minor": 5
}
