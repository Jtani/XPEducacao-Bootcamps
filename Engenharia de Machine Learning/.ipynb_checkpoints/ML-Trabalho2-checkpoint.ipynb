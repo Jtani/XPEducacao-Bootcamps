{
 "cells": [
  {
   "cell_type": "markdown",
   "id": "90f19ba2-2a7a-490e-96d3-562d44853b2b",
   "metadata": {},
   "source": [
    "# Engenharia de Machine Learning - XP Educação - Trabalho Prático 2 - out/2022"
   ]
  },
  {
   "cell_type": "markdown",
   "id": "e31c3587-80ff-4529-be9a-9bdb216b0d87",
   "metadata": {},
   "source": [
    "## Carregando as bibliotecas"
   ]
  },
  {
   "cell_type": "code",
   "execution_count": 1,
   "id": "f10b744f-0c79-4a27-89da-c9aa2a2a7078",
   "metadata": {},
   "outputs": [],
   "source": [
    "import pandas as pd\n",
    "import numpy as np"
   ]
  },
  {
   "cell_type": "code",
   "execution_count": 2,
   "id": "06477fb2-6dd3-4cde-ac18-2a91674ae72f",
   "metadata": {},
   "outputs": [
    {
     "data": {
      "text/html": [
       "<div>\n",
       "<style scoped>\n",
       "    .dataframe tbody tr th:only-of-type {\n",
       "        vertical-align: middle;\n",
       "    }\n",
       "\n",
       "    .dataframe tbody tr th {\n",
       "        vertical-align: top;\n",
       "    }\n",
       "\n",
       "    .dataframe thead th {\n",
       "        text-align: right;\n",
       "    }\n",
       "</style>\n",
       "<table border=\"1\" class=\"dataframe\">\n",
       "  <thead>\n",
       "    <tr style=\"text-align: right;\">\n",
       "      <th></th>\n",
       "      <th>datetime</th>\n",
       "      <th>rec_id</th>\n",
       "      <th>season</th>\n",
       "      <th>year</th>\n",
       "      <th>month</th>\n",
       "      <th>hour</th>\n",
       "      <th>is_holiday</th>\n",
       "      <th>weekday</th>\n",
       "      <th>is_workingday</th>\n",
       "      <th>weather_condition</th>\n",
       "      <th>temp</th>\n",
       "      <th>atemp</th>\n",
       "      <th>humidity</th>\n",
       "      <th>windspeed</th>\n",
       "      <th>casual</th>\n",
       "      <th>registered</th>\n",
       "      <th>total_count</th>\n",
       "    </tr>\n",
       "  </thead>\n",
       "  <tbody>\n",
       "    <tr>\n",
       "      <th>0</th>\n",
       "      <td>2011-01-01</td>\n",
       "      <td>1</td>\n",
       "      <td>1</td>\n",
       "      <td>0</td>\n",
       "      <td>1</td>\n",
       "      <td>0</td>\n",
       "      <td>0</td>\n",
       "      <td>6</td>\n",
       "      <td>0</td>\n",
       "      <td>1</td>\n",
       "      <td>0.24</td>\n",
       "      <td>0.2879</td>\n",
       "      <td>0.81</td>\n",
       "      <td>0.0</td>\n",
       "      <td>3</td>\n",
       "      <td>13</td>\n",
       "      <td>16</td>\n",
       "    </tr>\n",
       "    <tr>\n",
       "      <th>1</th>\n",
       "      <td>2011-01-01</td>\n",
       "      <td>2</td>\n",
       "      <td>1</td>\n",
       "      <td>0</td>\n",
       "      <td>1</td>\n",
       "      <td>1</td>\n",
       "      <td>0</td>\n",
       "      <td>6</td>\n",
       "      <td>0</td>\n",
       "      <td>1</td>\n",
       "      <td>0.22</td>\n",
       "      <td>0.2727</td>\n",
       "      <td>0.80</td>\n",
       "      <td>0.0</td>\n",
       "      <td>8</td>\n",
       "      <td>32</td>\n",
       "      <td>40</td>\n",
       "    </tr>\n",
       "    <tr>\n",
       "      <th>2</th>\n",
       "      <td>2011-01-01</td>\n",
       "      <td>3</td>\n",
       "      <td>1</td>\n",
       "      <td>0</td>\n",
       "      <td>1</td>\n",
       "      <td>2</td>\n",
       "      <td>0</td>\n",
       "      <td>6</td>\n",
       "      <td>0</td>\n",
       "      <td>1</td>\n",
       "      <td>0.22</td>\n",
       "      <td>0.2727</td>\n",
       "      <td>0.80</td>\n",
       "      <td>0.0</td>\n",
       "      <td>5</td>\n",
       "      <td>27</td>\n",
       "      <td>32</td>\n",
       "    </tr>\n",
       "    <tr>\n",
       "      <th>3</th>\n",
       "      <td>2011-01-01</td>\n",
       "      <td>4</td>\n",
       "      <td>1</td>\n",
       "      <td>0</td>\n",
       "      <td>1</td>\n",
       "      <td>3</td>\n",
       "      <td>0</td>\n",
       "      <td>6</td>\n",
       "      <td>0</td>\n",
       "      <td>1</td>\n",
       "      <td>0.24</td>\n",
       "      <td>0.2879</td>\n",
       "      <td>0.75</td>\n",
       "      <td>0.0</td>\n",
       "      <td>3</td>\n",
       "      <td>10</td>\n",
       "      <td>13</td>\n",
       "    </tr>\n",
       "    <tr>\n",
       "      <th>4</th>\n",
       "      <td>2011-01-01</td>\n",
       "      <td>5</td>\n",
       "      <td>1</td>\n",
       "      <td>0</td>\n",
       "      <td>1</td>\n",
       "      <td>4</td>\n",
       "      <td>0</td>\n",
       "      <td>6</td>\n",
       "      <td>0</td>\n",
       "      <td>1</td>\n",
       "      <td>0.24</td>\n",
       "      <td>0.2879</td>\n",
       "      <td>0.75</td>\n",
       "      <td>0.0</td>\n",
       "      <td>0</td>\n",
       "      <td>1</td>\n",
       "      <td>1</td>\n",
       "    </tr>\n",
       "  </tbody>\n",
       "</table>\n",
       "</div>"
      ],
      "text/plain": [
       "     datetime  rec_id  season  year  month  hour  is_holiday  weekday  \\\n",
       "0  2011-01-01       1       1     0      1     0           0        6   \n",
       "1  2011-01-01       2       1     0      1     1           0        6   \n",
       "2  2011-01-01       3       1     0      1     2           0        6   \n",
       "3  2011-01-01       4       1     0      1     3           0        6   \n",
       "4  2011-01-01       5       1     0      1     4           0        6   \n",
       "\n",
       "   is_workingday  weather_condition  temp   atemp  humidity  windspeed  \\\n",
       "0              0                  1  0.24  0.2879      0.81        0.0   \n",
       "1              0                  1  0.22  0.2727      0.80        0.0   \n",
       "2              0                  1  0.22  0.2727      0.80        0.0   \n",
       "3              0                  1  0.24  0.2879      0.75        0.0   \n",
       "4              0                  1  0.24  0.2879      0.75        0.0   \n",
       "\n",
       "   casual  registered  total_count  \n",
       "0       3          13           16  \n",
       "1       8          32           40  \n",
       "2       5          27           32  \n",
       "3       3          10           13  \n",
       "4       0           1            1  "
      ]
     },
     "execution_count": 2,
     "metadata": {},
     "output_type": "execute_result"
    }
   ],
   "source": [
    "# carregando o dataset\n",
    "df = pd.read_csv(\"https://pycourse.s3.amazonaws.com/bike-sharing.csv\")\n",
    "df.head()"
   ]
  },
  {
   "cell_type": "code",
   "execution_count": 3,
   "id": "83292e0a-9980-45c0-aaad-00fa4319d07f",
   "metadata": {},
   "outputs": [
    {
     "data": {
      "text/html": [
       "<div>\n",
       "<style scoped>\n",
       "    .dataframe tbody tr th:only-of-type {\n",
       "        vertical-align: middle;\n",
       "    }\n",
       "\n",
       "    .dataframe tbody tr th {\n",
       "        vertical-align: top;\n",
       "    }\n",
       "\n",
       "    .dataframe thead th {\n",
       "        text-align: right;\n",
       "    }\n",
       "</style>\n",
       "<table border=\"1\" class=\"dataframe\">\n",
       "  <thead>\n",
       "    <tr style=\"text-align: right;\">\n",
       "      <th></th>\n",
       "      <th>datetime</th>\n",
       "      <th>rec_id</th>\n",
       "      <th>season</th>\n",
       "      <th>year</th>\n",
       "      <th>month</th>\n",
       "      <th>hour</th>\n",
       "      <th>is_holiday</th>\n",
       "      <th>weekday</th>\n",
       "      <th>is_workingday</th>\n",
       "      <th>weather_condition</th>\n",
       "      <th>temp</th>\n",
       "      <th>atemp</th>\n",
       "      <th>humidity</th>\n",
       "      <th>windspeed</th>\n",
       "      <th>casual</th>\n",
       "      <th>registered</th>\n",
       "      <th>total_count</th>\n",
       "    </tr>\n",
       "  </thead>\n",
       "  <tbody>\n",
       "    <tr>\n",
       "      <th>17374</th>\n",
       "      <td>2012-12-31</td>\n",
       "      <td>17375</td>\n",
       "      <td>1</td>\n",
       "      <td>1</td>\n",
       "      <td>12</td>\n",
       "      <td>19</td>\n",
       "      <td>0</td>\n",
       "      <td>1</td>\n",
       "      <td>1</td>\n",
       "      <td>2</td>\n",
       "      <td>0.26</td>\n",
       "      <td>0.2576</td>\n",
       "      <td>0.60</td>\n",
       "      <td>0.1642</td>\n",
       "      <td>11</td>\n",
       "      <td>108</td>\n",
       "      <td>119</td>\n",
       "    </tr>\n",
       "    <tr>\n",
       "      <th>17375</th>\n",
       "      <td>2012-12-31</td>\n",
       "      <td>17376</td>\n",
       "      <td>1</td>\n",
       "      <td>1</td>\n",
       "      <td>12</td>\n",
       "      <td>20</td>\n",
       "      <td>0</td>\n",
       "      <td>1</td>\n",
       "      <td>1</td>\n",
       "      <td>2</td>\n",
       "      <td>0.26</td>\n",
       "      <td>0.2576</td>\n",
       "      <td>0.60</td>\n",
       "      <td>0.1642</td>\n",
       "      <td>8</td>\n",
       "      <td>81</td>\n",
       "      <td>89</td>\n",
       "    </tr>\n",
       "    <tr>\n",
       "      <th>17376</th>\n",
       "      <td>2012-12-31</td>\n",
       "      <td>17377</td>\n",
       "      <td>1</td>\n",
       "      <td>1</td>\n",
       "      <td>12</td>\n",
       "      <td>21</td>\n",
       "      <td>0</td>\n",
       "      <td>1</td>\n",
       "      <td>1</td>\n",
       "      <td>1</td>\n",
       "      <td>0.26</td>\n",
       "      <td>0.2576</td>\n",
       "      <td>0.60</td>\n",
       "      <td>0.1642</td>\n",
       "      <td>7</td>\n",
       "      <td>83</td>\n",
       "      <td>90</td>\n",
       "    </tr>\n",
       "    <tr>\n",
       "      <th>17377</th>\n",
       "      <td>2012-12-31</td>\n",
       "      <td>17378</td>\n",
       "      <td>1</td>\n",
       "      <td>1</td>\n",
       "      <td>12</td>\n",
       "      <td>22</td>\n",
       "      <td>0</td>\n",
       "      <td>1</td>\n",
       "      <td>1</td>\n",
       "      <td>1</td>\n",
       "      <td>0.26</td>\n",
       "      <td>0.2727</td>\n",
       "      <td>0.56</td>\n",
       "      <td>0.1343</td>\n",
       "      <td>13</td>\n",
       "      <td>48</td>\n",
       "      <td>61</td>\n",
       "    </tr>\n",
       "    <tr>\n",
       "      <th>17378</th>\n",
       "      <td>2012-12-31</td>\n",
       "      <td>17379</td>\n",
       "      <td>1</td>\n",
       "      <td>1</td>\n",
       "      <td>12</td>\n",
       "      <td>23</td>\n",
       "      <td>0</td>\n",
       "      <td>1</td>\n",
       "      <td>1</td>\n",
       "      <td>1</td>\n",
       "      <td>0.26</td>\n",
       "      <td>0.2727</td>\n",
       "      <td>0.65</td>\n",
       "      <td>0.1343</td>\n",
       "      <td>12</td>\n",
       "      <td>37</td>\n",
       "      <td>49</td>\n",
       "    </tr>\n",
       "  </tbody>\n",
       "</table>\n",
       "</div>"
      ],
      "text/plain": [
       "         datetime  rec_id  season  year  month  hour  is_holiday  weekday  \\\n",
       "17374  2012-12-31   17375       1     1     12    19           0        1   \n",
       "17375  2012-12-31   17376       1     1     12    20           0        1   \n",
       "17376  2012-12-31   17377       1     1     12    21           0        1   \n",
       "17377  2012-12-31   17378       1     1     12    22           0        1   \n",
       "17378  2012-12-31   17379       1     1     12    23           0        1   \n",
       "\n",
       "       is_workingday  weather_condition  temp   atemp  humidity  windspeed  \\\n",
       "17374              1                  2  0.26  0.2576      0.60     0.1642   \n",
       "17375              1                  2  0.26  0.2576      0.60     0.1642   \n",
       "17376              1                  1  0.26  0.2576      0.60     0.1642   \n",
       "17377              1                  1  0.26  0.2727      0.56     0.1343   \n",
       "17378              1                  1  0.26  0.2727      0.65     0.1343   \n",
       "\n",
       "       casual  registered  total_count  \n",
       "17374      11         108          119  \n",
       "17375       8          81           89  \n",
       "17376       7          83           90  \n",
       "17377      13          48           61  \n",
       "17378      12          37           49  "
      ]
     },
     "execution_count": 3,
     "metadata": {},
     "output_type": "execute_result"
    }
   ],
   "source": [
    "df.tail()"
   ]
  },
  {
   "cell_type": "markdown",
   "id": "f5e14d8c-c00a-4e74-b0a1-f84f0020526a",
   "metadata": {},
   "source": [
    "## 1) Qual o tamanho do dataset?"
   ]
  },
  {
   "cell_type": "code",
   "execution_count": 4,
   "id": "bc583c4a-fb00-4840-9e6b-1a7528fab439",
   "metadata": {},
   "outputs": [
    {
     "data": {
      "text/plain": [
       "(17379, 17)"
      ]
     },
     "execution_count": 4,
     "metadata": {},
     "output_type": "execute_result"
    }
   ],
   "source": [
    "df.shape"
   ]
  },
  {
   "cell_type": "markdown",
   "id": "cba659fe-5ec3-4199-b49f-3974600fe032",
   "metadata": {},
   "source": [
    "### Resposta: 17379, 17"
   ]
  },
  {
   "cell_type": "code",
   "execution_count": 5,
   "id": "1d647e5d-00e5-49f9-86d5-1b8cb6e994d7",
   "metadata": {},
   "outputs": [
    {
     "data": {
      "text/html": [
       "<div>\n",
       "<style scoped>\n",
       "    .dataframe tbody tr th:only-of-type {\n",
       "        vertical-align: middle;\n",
       "    }\n",
       "\n",
       "    .dataframe tbody tr th {\n",
       "        vertical-align: top;\n",
       "    }\n",
       "\n",
       "    .dataframe thead th {\n",
       "        text-align: right;\n",
       "    }\n",
       "</style>\n",
       "<table border=\"1\" class=\"dataframe\">\n",
       "  <thead>\n",
       "    <tr style=\"text-align: right;\">\n",
       "      <th></th>\n",
       "      <th>rec_id</th>\n",
       "      <th>season</th>\n",
       "      <th>year</th>\n",
       "      <th>month</th>\n",
       "      <th>hour</th>\n",
       "      <th>is_holiday</th>\n",
       "      <th>weekday</th>\n",
       "      <th>is_workingday</th>\n",
       "      <th>weather_condition</th>\n",
       "      <th>temp</th>\n",
       "      <th>atemp</th>\n",
       "      <th>humidity</th>\n",
       "      <th>windspeed</th>\n",
       "      <th>casual</th>\n",
       "      <th>registered</th>\n",
       "      <th>total_count</th>\n",
       "    </tr>\n",
       "  </thead>\n",
       "  <tbody>\n",
       "    <tr>\n",
       "      <th>count</th>\n",
       "      <td>17379.0000</td>\n",
       "      <td>17379.000000</td>\n",
       "      <td>17379.000000</td>\n",
       "      <td>17379.000000</td>\n",
       "      <td>17379.000000</td>\n",
       "      <td>17379.000000</td>\n",
       "      <td>17379.000000</td>\n",
       "      <td>17379.000000</td>\n",
       "      <td>17379.000000</td>\n",
       "      <td>17379.000000</td>\n",
       "      <td>17379.000000</td>\n",
       "      <td>17379.000000</td>\n",
       "      <td>17379.000000</td>\n",
       "      <td>17379.000000</td>\n",
       "      <td>17379.000000</td>\n",
       "      <td>17379.000000</td>\n",
       "    </tr>\n",
       "    <tr>\n",
       "      <th>mean</th>\n",
       "      <td>8690.0000</td>\n",
       "      <td>2.501640</td>\n",
       "      <td>0.502561</td>\n",
       "      <td>6.537775</td>\n",
       "      <td>11.546752</td>\n",
       "      <td>0.028770</td>\n",
       "      <td>3.003683</td>\n",
       "      <td>0.682721</td>\n",
       "      <td>1.425283</td>\n",
       "      <td>0.496987</td>\n",
       "      <td>0.475775</td>\n",
       "      <td>0.627229</td>\n",
       "      <td>0.190098</td>\n",
       "      <td>35.676218</td>\n",
       "      <td>153.786869</td>\n",
       "      <td>189.463088</td>\n",
       "    </tr>\n",
       "    <tr>\n",
       "      <th>std</th>\n",
       "      <td>5017.0295</td>\n",
       "      <td>1.106918</td>\n",
       "      <td>0.500008</td>\n",
       "      <td>3.438776</td>\n",
       "      <td>6.914405</td>\n",
       "      <td>0.167165</td>\n",
       "      <td>2.005771</td>\n",
       "      <td>0.465431</td>\n",
       "      <td>0.639357</td>\n",
       "      <td>0.192556</td>\n",
       "      <td>0.171850</td>\n",
       "      <td>0.192930</td>\n",
       "      <td>0.122340</td>\n",
       "      <td>49.305030</td>\n",
       "      <td>151.357286</td>\n",
       "      <td>181.387599</td>\n",
       "    </tr>\n",
       "    <tr>\n",
       "      <th>min</th>\n",
       "      <td>1.0000</td>\n",
       "      <td>1.000000</td>\n",
       "      <td>0.000000</td>\n",
       "      <td>1.000000</td>\n",
       "      <td>0.000000</td>\n",
       "      <td>0.000000</td>\n",
       "      <td>0.000000</td>\n",
       "      <td>0.000000</td>\n",
       "      <td>1.000000</td>\n",
       "      <td>0.020000</td>\n",
       "      <td>0.000000</td>\n",
       "      <td>0.000000</td>\n",
       "      <td>0.000000</td>\n",
       "      <td>0.000000</td>\n",
       "      <td>0.000000</td>\n",
       "      <td>1.000000</td>\n",
       "    </tr>\n",
       "    <tr>\n",
       "      <th>25%</th>\n",
       "      <td>4345.5000</td>\n",
       "      <td>2.000000</td>\n",
       "      <td>0.000000</td>\n",
       "      <td>4.000000</td>\n",
       "      <td>6.000000</td>\n",
       "      <td>0.000000</td>\n",
       "      <td>1.000000</td>\n",
       "      <td>0.000000</td>\n",
       "      <td>1.000000</td>\n",
       "      <td>0.340000</td>\n",
       "      <td>0.333300</td>\n",
       "      <td>0.480000</td>\n",
       "      <td>0.104500</td>\n",
       "      <td>4.000000</td>\n",
       "      <td>34.000000</td>\n",
       "      <td>40.000000</td>\n",
       "    </tr>\n",
       "    <tr>\n",
       "      <th>50%</th>\n",
       "      <td>8690.0000</td>\n",
       "      <td>3.000000</td>\n",
       "      <td>1.000000</td>\n",
       "      <td>7.000000</td>\n",
       "      <td>12.000000</td>\n",
       "      <td>0.000000</td>\n",
       "      <td>3.000000</td>\n",
       "      <td>1.000000</td>\n",
       "      <td>1.000000</td>\n",
       "      <td>0.500000</td>\n",
       "      <td>0.484800</td>\n",
       "      <td>0.630000</td>\n",
       "      <td>0.194000</td>\n",
       "      <td>17.000000</td>\n",
       "      <td>115.000000</td>\n",
       "      <td>142.000000</td>\n",
       "    </tr>\n",
       "    <tr>\n",
       "      <th>75%</th>\n",
       "      <td>13034.5000</td>\n",
       "      <td>3.000000</td>\n",
       "      <td>1.000000</td>\n",
       "      <td>10.000000</td>\n",
       "      <td>18.000000</td>\n",
       "      <td>0.000000</td>\n",
       "      <td>5.000000</td>\n",
       "      <td>1.000000</td>\n",
       "      <td>2.000000</td>\n",
       "      <td>0.660000</td>\n",
       "      <td>0.621200</td>\n",
       "      <td>0.780000</td>\n",
       "      <td>0.253700</td>\n",
       "      <td>48.000000</td>\n",
       "      <td>220.000000</td>\n",
       "      <td>281.000000</td>\n",
       "    </tr>\n",
       "    <tr>\n",
       "      <th>max</th>\n",
       "      <td>17379.0000</td>\n",
       "      <td>4.000000</td>\n",
       "      <td>1.000000</td>\n",
       "      <td>12.000000</td>\n",
       "      <td>23.000000</td>\n",
       "      <td>1.000000</td>\n",
       "      <td>6.000000</td>\n",
       "      <td>1.000000</td>\n",
       "      <td>4.000000</td>\n",
       "      <td>1.000000</td>\n",
       "      <td>1.000000</td>\n",
       "      <td>1.000000</td>\n",
       "      <td>0.850700</td>\n",
       "      <td>367.000000</td>\n",
       "      <td>886.000000</td>\n",
       "      <td>977.000000</td>\n",
       "    </tr>\n",
       "  </tbody>\n",
       "</table>\n",
       "</div>"
      ],
      "text/plain": [
       "           rec_id        season          year         month          hour  \\\n",
       "count  17379.0000  17379.000000  17379.000000  17379.000000  17379.000000   \n",
       "mean    8690.0000      2.501640      0.502561      6.537775     11.546752   \n",
       "std     5017.0295      1.106918      0.500008      3.438776      6.914405   \n",
       "min        1.0000      1.000000      0.000000      1.000000      0.000000   \n",
       "25%     4345.5000      2.000000      0.000000      4.000000      6.000000   \n",
       "50%     8690.0000      3.000000      1.000000      7.000000     12.000000   \n",
       "75%    13034.5000      3.000000      1.000000     10.000000     18.000000   \n",
       "max    17379.0000      4.000000      1.000000     12.000000     23.000000   \n",
       "\n",
       "         is_holiday       weekday  is_workingday  weather_condition  \\\n",
       "count  17379.000000  17379.000000   17379.000000       17379.000000   \n",
       "mean       0.028770      3.003683       0.682721           1.425283   \n",
       "std        0.167165      2.005771       0.465431           0.639357   \n",
       "min        0.000000      0.000000       0.000000           1.000000   \n",
       "25%        0.000000      1.000000       0.000000           1.000000   \n",
       "50%        0.000000      3.000000       1.000000           1.000000   \n",
       "75%        0.000000      5.000000       1.000000           2.000000   \n",
       "max        1.000000      6.000000       1.000000           4.000000   \n",
       "\n",
       "               temp         atemp      humidity     windspeed        casual  \\\n",
       "count  17379.000000  17379.000000  17379.000000  17379.000000  17379.000000   \n",
       "mean       0.496987      0.475775      0.627229      0.190098     35.676218   \n",
       "std        0.192556      0.171850      0.192930      0.122340     49.305030   \n",
       "min        0.020000      0.000000      0.000000      0.000000      0.000000   \n",
       "25%        0.340000      0.333300      0.480000      0.104500      4.000000   \n",
       "50%        0.500000      0.484800      0.630000      0.194000     17.000000   \n",
       "75%        0.660000      0.621200      0.780000      0.253700     48.000000   \n",
       "max        1.000000      1.000000      1.000000      0.850700    367.000000   \n",
       "\n",
       "         registered   total_count  \n",
       "count  17379.000000  17379.000000  \n",
       "mean     153.786869    189.463088  \n",
       "std      151.357286    181.387599  \n",
       "min        0.000000      1.000000  \n",
       "25%       34.000000     40.000000  \n",
       "50%      115.000000    142.000000  \n",
       "75%      220.000000    281.000000  \n",
       "max      886.000000    977.000000  "
      ]
     },
     "execution_count": 5,
     "metadata": {},
     "output_type": "execute_result"
    }
   ],
   "source": [
    "df.describe()"
   ]
  },
  {
   "cell_type": "markdown",
   "id": "53f03c71-38bd-4636-bcae-276be5c1f446",
   "metadata": {},
   "source": [
    "## 2) Qual a média da coluna windspeed? \n"
   ]
  },
  {
   "cell_type": "code",
   "execution_count": 6,
   "id": "af39d2c1-1043-4111-8b69-52c6e2450092",
   "metadata": {},
   "outputs": [
    {
     "data": {
      "text/plain": [
       "0.1900976063064631"
      ]
     },
     "execution_count": 6,
     "metadata": {},
     "output_type": "execute_result"
    }
   ],
   "source": [
    "df[\"windspeed\"].mean()"
   ]
  },
  {
   "cell_type": "markdown",
   "id": "b68d59fb-83d1-4416-9511-c188ba5e5b22",
   "metadata": {},
   "source": [
    "### Resposta: 0,1900976"
   ]
  },
  {
   "cell_type": "markdown",
   "id": "21b9dd10-6965-4d80-80a2-b5dca6241d38",
   "metadata": {},
   "source": [
    "## 3) Qual a média da coluna temp? \n"
   ]
  },
  {
   "cell_type": "code",
   "execution_count": 7,
   "id": "cd3849ba-f0a5-4f77-a459-814886eed8b6",
   "metadata": {},
   "outputs": [
    {
     "data": {
      "text/plain": [
       "0.4969871684216586"
      ]
     },
     "execution_count": 7,
     "metadata": {},
     "output_type": "execute_result"
    }
   ],
   "source": [
    "df[\"temp\"].mean()"
   ]
  },
  {
   "cell_type": "markdown",
   "id": "b7e8dc69-6731-45b8-900a-1d17e75fbd36",
   "metadata": {},
   "source": [
    "### Resposta: 0,4969871"
   ]
  },
  {
   "cell_type": "markdown",
   "id": "dd0aeb5b-e618-4c38-a0cf-e51eb3f4198c",
   "metadata": {},
   "source": [
    "## 4) Quantos registros de locações existem para o ano de 2011 (número de linhas, número de colunas)? "
   ]
  },
  {
   "cell_type": "code",
   "execution_count": 27,
   "id": "8abee368-3a03-46af-9112-eea625ae9d3a",
   "metadata": {},
   "outputs": [],
   "source": [
    "df2011 = df.loc[df[\"datetime\"] < \"2012-01-01\"] # usando loc"
   ]
  },
  {
   "cell_type": "code",
   "execution_count": 28,
   "id": "714799f0-1ab3-4c3b-b270-651f2fa88ade",
   "metadata": {},
   "outputs": [
    {
     "data": {
      "text/plain": [
       "(8645, 17)"
      ]
     },
     "execution_count": 28,
     "metadata": {},
     "output_type": "execute_result"
    }
   ],
   "source": [
    "df2011.shape"
   ]
  },
  {
   "cell_type": "code",
   "execution_count": 29,
   "id": "fc66e750-e305-4df9-a18c-4793a4cfb32a",
   "metadata": {},
   "outputs": [
    {
     "data": {
      "text/plain": [
       "(8645, 17)"
      ]
     },
     "execution_count": 29,
     "metadata": {},
     "output_type": "execute_result"
    }
   ],
   "source": [
    "df[df[\"datetime\"] < \"2012-01-01\"].shape"
   ]
  },
  {
   "cell_type": "markdown",
   "id": "51344e56-61c7-4fad-87c5-dab77b1f6805",
   "metadata": {},
   "source": [
    "### Resposta: (8645, 17)"
   ]
  },
  {
   "cell_type": "markdown",
   "id": "5993f373-03c5-4036-b47c-2f703d75f44c",
   "metadata": {},
   "source": [
    "## 5) Quantos registros de locações existem para o ano de 2012 (número de linhas, número de colunas)? \n"
   ]
  },
  {
   "cell_type": "code",
   "execution_count": 11,
   "id": "b10bb4e7-b678-49c5-ad65-c46b23ee854b",
   "metadata": {},
   "outputs": [],
   "source": [
    "# df2012 = df.loc[(df[\"datetime\"] > \"2011-12-31\") & (df[\"datetime\"] < \"2013-01-01\")] # os registros vão até 2012"
   ]
  },
  {
   "cell_type": "code",
   "execution_count": 12,
   "id": "b9ecce14-516a-4bc1-bfd1-85684359b7b7",
   "metadata": {},
   "outputs": [],
   "source": [
    "df2012 = df.loc[(df[\"datetime\"] > \"2011-12-31\")]"
   ]
  },
  {
   "cell_type": "code",
   "execution_count": 30,
   "id": "3313e694-7393-46f9-bf0b-763e3471944b",
   "metadata": {},
   "outputs": [
    {
     "data": {
      "text/plain": [
       "(8734, 17)"
      ]
     },
     "execution_count": 30,
     "metadata": {},
     "output_type": "execute_result"
    }
   ],
   "source": [
    "df2012.shape"
   ]
  },
  {
   "cell_type": "markdown",
   "id": "73917702-b40b-4664-8006-5e087c20a1d8",
   "metadata": {},
   "source": [
    "### Resposta:(8734, 17)"
   ]
  },
  {
   "cell_type": "markdown",
   "id": "491df99f-de79-4b17-bf39-57554f8a5a36",
   "metadata": {},
   "source": [
    "## 6) Quantas locações de bicicletas foram efetuadas em 2011? \n"
   ]
  },
  {
   "cell_type": "code",
   "execution_count": 14,
   "id": "9f105f89-df23-4604-8385-90d5c0578ccd",
   "metadata": {},
   "outputs": [
    {
     "data": {
      "text/plain": [
       "1243103"
      ]
     },
     "execution_count": 14,
     "metadata": {},
     "output_type": "execute_result"
    }
   ],
   "source": [
    "# Analisar coluna total_count\n",
    "df2011[\"total_count\"].sum()"
   ]
  },
  {
   "cell_type": "markdown",
   "id": "97587027-d29a-45d7-9184-a0977350ed75",
   "metadata": {},
   "source": [
    "### Resposta: 1.243.103"
   ]
  },
  {
   "cell_type": "markdown",
   "id": "8e7d621b-3b07-4308-a95d-a69618cb0d53",
   "metadata": {},
   "source": [
    "## 7)Quantas locações de bicicletas foram efetuadas em 2012? \n"
   ]
  },
  {
   "cell_type": "code",
   "execution_count": 15,
   "id": "c50c776a-b35b-4408-ae06-7156f4db8489",
   "metadata": {},
   "outputs": [
    {
     "data": {
      "text/plain": [
       "2049576"
      ]
     },
     "execution_count": 15,
     "metadata": {},
     "output_type": "execute_result"
    }
   ],
   "source": [
    "# Analisar coluna total_count\n",
    "df2012[\"total_count\"].sum()"
   ]
  },
  {
   "cell_type": "markdown",
   "id": "09012357-cf1a-4be0-a660-c07e8f46890c",
   "metadata": {},
   "source": [
    "### Resposta: 2.049.576"
   ]
  },
  {
   "cell_type": "markdown",
   "id": "3921fe84-7a5d-4a24-b115-287b24d774fb",
   "metadata": {},
   "source": [
    "## 8) Qual estação do ano contém a maior média de locações de bicicletas? \n"
   ]
  },
  {
   "cell_type": "code",
   "execution_count": 16,
   "id": "8eff3a2e-2b50-4501-b200-5d9847f91d6b",
   "metadata": {},
   "outputs": [],
   "source": [
    "#df.groupby(\"season\").sum()"
   ]
  },
  {
   "cell_type": "code",
   "execution_count": 17,
   "id": "aeddd9b9-fbb9-499d-bde8-a457a2d885e6",
   "metadata": {},
   "outputs": [
    {
     "data": {
      "text/plain": [
       "season\n",
       "1     471348\n",
       "4     841613\n",
       "2     918589\n",
       "3    1061129\n",
       "Name: total_count, dtype: int64"
      ]
     },
     "execution_count": 17,
     "metadata": {},
     "output_type": "execute_result"
    }
   ],
   "source": [
    "df.groupby(\"season\")[\"total_count\"].sum().sort_values()"
   ]
  },
  {
   "cell_type": "markdown",
   "id": "bc049d70-8d61-4e8e-a767-97f26f2e86ac",
   "metadata": {},
   "source": [
    "### Resposta: 3 (verão)"
   ]
  },
  {
   "cell_type": "markdown",
   "id": "feae5427-ad0c-47e3-884c-475e51638f2c",
   "metadata": {},
   "source": [
    "## 9) Qual estação do ano contém a menor média de locações de bicicletas? \n"
   ]
  },
  {
   "cell_type": "code",
   "execution_count": 18,
   "id": "a9a30be6-d6f3-4188-a480-6a62216992fb",
   "metadata": {},
   "outputs": [],
   "source": [
    "# Analisando o resultado anterior\n",
    "# Resposta: 1 Inverno"
   ]
  },
  {
   "cell_type": "markdown",
   "id": "fc76728b-9f67-4bca-a659-b633dbc61f93",
   "metadata": {},
   "source": [
    "### Resposta: 1 (inverno)"
   ]
  },
  {
   "cell_type": "markdown",
   "id": "915ca1d2-de09-4bf7-8d9f-2a8905190117",
   "metadata": {},
   "source": [
    "## 10) Qual horário do dia contém a maior média de locações de bicicletas? \n"
   ]
  },
  {
   "cell_type": "code",
   "execution_count": 19,
   "id": "7331fa0a-3123-4ecb-81e3-eee42bf1cd29",
   "metadata": {},
   "outputs": [],
   "source": [
    "#df.groupby(\"hour\").mean()"
   ]
  },
  {
   "cell_type": "code",
   "execution_count": 20,
   "id": "388cb455-9402-4acb-ad4d-eaaa9892d99e",
   "metadata": {},
   "outputs": [
    {
     "data": {
      "text/plain": [
       "hour\n",
       "17    461.452055\n",
       "18    425.510989\n",
       "8     359.011004\n",
       "16    311.983562\n",
       "19    311.523352\n",
       "13    253.661180\n",
       "12    253.315934\n",
       "15    251.233196\n",
       "14    240.949246\n",
       "20    226.030220\n",
       "9     219.309491\n",
       "7     212.064649\n",
       "11    208.143054\n",
       "10    173.668501\n",
       "21    172.314560\n",
       "22    131.335165\n",
       "23     87.831044\n",
       "6      76.044138\n",
       "0      53.898072\n",
       "1      33.375691\n",
       "2      22.869930\n",
       "5      19.889819\n",
       "3      11.727403\n",
       "4       6.352941\n",
       "Name: total_count, dtype: float64"
      ]
     },
     "execution_count": 20,
     "metadata": {},
     "output_type": "execute_result"
    }
   ],
   "source": [
    "df.groupby(\"hour\")[\"total_count\"].mean().sort_values(ascending = False)"
   ]
  },
  {
   "cell_type": "markdown",
   "id": "5d549d9f-5ea6-47bf-b506-c0d5f87cb6e2",
   "metadata": {
    "tags": []
   },
   "source": [
    "### Resposta: 17h"
   ]
  },
  {
   "cell_type": "markdown",
   "id": "93ac743e-3c99-4f90-bec6-ebb3017c82c9",
   "metadata": {},
   "source": [
    "## 11) Qual horário do dia contém a menor média de locações de bicicletas? \n"
   ]
  },
  {
   "cell_type": "code",
   "execution_count": 21,
   "id": "bc20ac47-36d9-4309-a6af-896df0c6ea08",
   "metadata": {},
   "outputs": [],
   "source": [
    "# Pelo resultado anterior a resposta é: 4h"
   ]
  },
  {
   "cell_type": "markdown",
   "id": "31c0bd76-ee95-4e19-9320-ad3d9e639ffa",
   "metadata": {},
   "source": [
    "### Resposta: 4h"
   ]
  },
  {
   "cell_type": "markdown",
   "id": "8ed213db-9974-421c-a8bd-0fe4977403a6",
   "metadata": {},
   "source": [
    "## 12) Que dia da semana contém a maior média de locações de bicicletas? \n"
   ]
  },
  {
   "cell_type": "code",
   "execution_count": 22,
   "id": "96b1d64b-3e96-4ff7-ba5c-c3817562d21d",
   "metadata": {},
   "outputs": [
    {
     "data": {
      "text/plain": [
       "weekday\n",
       "0    177.468825\n",
       "1    183.744655\n",
       "6    190.209793\n",
       "3    191.130505\n",
       "2    191.238891\n",
       "5    196.135907\n",
       "4    196.436665\n",
       "Name: total_count, dtype: float64"
      ]
     },
     "execution_count": 22,
     "metadata": {},
     "output_type": "execute_result"
    }
   ],
   "source": [
    "df.groupby(\"weekday\")[\"total_count\"].mean().sort_values()"
   ]
  },
  {
   "cell_type": "markdown",
   "id": "9cece6a2-af72-48ee-8a8b-6b8c3cbccd18",
   "metadata": {},
   "source": [
    "### Resposta: 4 (quinta-feira)"
   ]
  },
  {
   "cell_type": "markdown",
   "id": "2182fd31-0de9-4676-aa36-669a17978e86",
   "metadata": {},
   "source": [
    "## 13) Que dia da semana contém a menor média de locações de bicicletas? \n"
   ]
  },
  {
   "cell_type": "code",
   "execution_count": 23,
   "id": "cbbbad77-ae58-40b9-a7bd-e9d29556bfba",
   "metadata": {},
   "outputs": [],
   "source": [
    "# Pelo resultado anterior a resposta é: 0 - domingo"
   ]
  },
  {
   "cell_type": "markdown",
   "id": "8cad4172-8821-4702-8ecf-0d5ab8da5ce2",
   "metadata": {},
   "source": [
    "### Resposta: 0 (domingo)"
   ]
  },
  {
   "cell_type": "markdown",
   "id": "3d6468fd-8557-4ccd-a723-8066d6fa1448",
   "metadata": {},
   "source": [
    "## 14) Às quartas-feiras (weekday = 3), qual horário do dia contém a maior média de locações de bicicletas? \n"
   ]
  },
  {
   "cell_type": "code",
   "execution_count": 31,
   "id": "06a5080d-1796-4208-a830-173313efc33e",
   "metadata": {},
   "outputs": [
    {
     "data": {
      "text/plain": [
       "weekday  hour\n",
       "0        0        93.990385\n",
       "         1        77.432692\n",
       "         2        61.627451\n",
       "         3        31.144231\n",
       "         4         9.362745\n",
       "                    ...    \n",
       "6        19      239.932692\n",
       "         20      180.865385\n",
       "         21      156.000000\n",
       "         22      139.663462\n",
       "         23      115.855769\n",
       "Name: total_count, Length: 168, dtype: float64"
      ]
     },
     "execution_count": 31,
     "metadata": {},
     "output_type": "execute_result"
    }
   ],
   "source": [
    "dfWH = df.groupby([\"weekday\",\"hour\"])[\"total_count\"].mean()\n",
    "dfWH"
   ]
  },
  {
   "cell_type": "code",
   "execution_count": 32,
   "id": "0593f967-7e08-4190-a66a-5e0a7a1bfb78",
   "metadata": {},
   "outputs": [
    {
     "data": {
      "text/plain": [
       "hour\n",
       "17    513.144231\n",
       "18    494.029126\n",
       "8     488.326923\n",
       "19    357.504854\n",
       "7     303.980769\n",
       "16    272.961538\n",
       "20    256.660194\n",
       "9     238.528846\n",
       "21    194.669903\n",
       "12    193.903846\n",
       "13    185.826923\n",
       "15    181.288462\n",
       "14    170.548077\n",
       "11    152.201923\n",
       "22    143.689320\n",
       "10    131.894231\n",
       "6     107.807692\n",
       "23     83.737864\n",
       "0      34.557692\n",
       "5      25.750000\n",
       "1      15.336538\n",
       "2       7.813725\n",
       "4       4.968750\n",
       "3       4.888889\n",
       "Name: total_count, dtype: float64"
      ]
     },
     "execution_count": 32,
     "metadata": {},
     "output_type": "execute_result"
    }
   ],
   "source": [
    "dfWH[3].sort_values(ascending = False)"
   ]
  },
  {
   "cell_type": "markdown",
   "id": "912e368b-96bc-48c5-90e5-94e8bd54bcf6",
   "metadata": {},
   "source": [
    "### Resposta: 17h"
   ]
  },
  {
   "cell_type": "markdown",
   "id": "41a7a69c-e59e-4a9b-b2a6-68397be8fe78",
   "metadata": {},
   "source": [
    "## 15) Aos sábados (weekday = 6), qual horário do dia contém a maior média de locações de bicicletas? \n"
   ]
  },
  {
   "cell_type": "code",
   "execution_count": 26,
   "id": "a7326e58-d9ad-4855-92e2-35071ded96ad",
   "metadata": {},
   "outputs": [
    {
     "data": {
      "text/plain": [
       "hour\n",
       "13    385.371429\n",
       "15    382.428571\n",
       "14    381.333333\n",
       "12    375.380952\n",
       "16    366.142857\n",
       "17    334.409524\n",
       "11    328.609524\n",
       "18    292.048077\n",
       "10    263.723810\n",
       "19    239.932692\n",
       "9     186.790476\n",
       "20    180.865385\n",
       "21    156.000000\n",
       "22    139.663462\n",
       "23    115.855769\n",
       "8     114.476190\n",
       "0      94.304762\n",
       "1      67.780952\n",
       "2      50.495238\n",
       "7      45.961905\n",
       "3      22.885714\n",
       "6      21.000000\n",
       "5       8.291262\n",
       "4       7.657143\n",
       "Name: total_count, dtype: float64"
      ]
     },
     "execution_count": 26,
     "metadata": {},
     "output_type": "execute_result"
    }
   ],
   "source": [
    "dfWH[6].sort_values(ascending = False)"
   ]
  },
  {
   "cell_type": "markdown",
   "id": "aa28ff48-194b-4da0-bf14-78bc2bdc3cc1",
   "metadata": {},
   "source": [
    "### Resposta: 13h"
   ]
  },
  {
   "cell_type": "code",
   "execution_count": null,
   "id": "f7859fee-4ea4-4ae9-8176-4448499b8f93",
   "metadata": {},
   "outputs": [],
   "source": []
  }
 ],
 "metadata": {
  "kernelspec": {
   "display_name": "Python 3 (ipykernel)",
   "language": "python",
   "name": "python3"
  },
  "language_info": {
   "codemirror_mode": {
    "name": "ipython",
    "version": 3
   },
   "file_extension": ".py",
   "mimetype": "text/x-python",
   "name": "python",
   "nbconvert_exporter": "python",
   "pygments_lexer": "ipython3",
   "version": "3.10.4"
  }
 },
 "nbformat": 4,
 "nbformat_minor": 5
}
