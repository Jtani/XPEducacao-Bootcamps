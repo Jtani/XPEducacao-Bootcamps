{
 "cells": [
  {
   "cell_type": "markdown",
   "id": "90f19ba2-2a7a-490e-96d3-562d44853b2b",
   "metadata": {
    "tags": []
   },
   "source": [
    "# Engenharia de Machine Learning - XP Educação - Trabalho Prático 3 - out/2022"
   ]
  },
  {
   "cell_type": "markdown",
   "id": "e31c3587-80ff-4529-be9a-9bdb216b0d87",
   "metadata": {
    "tags": []
   },
   "source": [
    "## Carregando as bibliotecas"
   ]
  },
  {
   "cell_type": "code",
   "execution_count": 1,
   "id": "f10b744f-0c79-4a27-89da-c9aa2a2a7078",
   "metadata": {},
   "outputs": [],
   "source": [
    "import pandas as pd\n",
    "import numpy as np\n",
    "import matplotlib.pyplot as plt #bibloteca para plotar graficos\n",
    "%matplotlib inline\n",
    "from sklearn.model_selection import train_test_split\n",
    "from sklearn.linear_model import LinearRegression\n",
    "from sklearn.svm import SVC\n",
    "from sklearn.cluster import KMeans\n",
    "from sklearn import metrics"
   ]
  },
  {
   "cell_type": "code",
   "execution_count": 62,
   "id": "06477fb2-6dd3-4cde-ac18-2a91674ae72f",
   "metadata": {},
   "outputs": [],
   "source": [
    "# carregando o dataset\n",
    "dfblood = pd.read_csv(\"bloodtransf1.csv\")\n",
    "dfdiabetes = pd.read_csv(\"diabetes_numeric.csv\")\n",
    "dfwine = pd.read_csv(\"wine.csv\")"
   ]
  },
  {
   "cell_type": "markdown",
   "id": "2f1cb2ed-1374-42dc-8ef0-94455e276d8a",
   "metadata": {
    "tags": []
   },
   "source": [
    "## Tarefa de Regressão Linear \n",
    "- Dataset: diabetes_numeric.csv"
   ]
  },
  {
   "cell_type": "code",
   "execution_count": 3,
   "id": "2e0164d5-e7fa-42ba-8058-11cfa9866295",
   "metadata": {},
   "outputs": [
    {
     "name": "stdout",
     "output_type": "stream",
     "text": [
      "(43, 3)\n"
     ]
    },
    {
     "data": {
      "text/html": [
       "<div>\n",
       "<style scoped>\n",
       "    .dataframe tbody tr th:only-of-type {\n",
       "        vertical-align: middle;\n",
       "    }\n",
       "\n",
       "    .dataframe tbody tr th {\n",
       "        vertical-align: top;\n",
       "    }\n",
       "\n",
       "    .dataframe thead th {\n",
       "        text-align: right;\n",
       "    }\n",
       "</style>\n",
       "<table border=\"1\" class=\"dataframe\">\n",
       "  <thead>\n",
       "    <tr style=\"text-align: right;\">\n",
       "      <th></th>\n",
       "      <th>age</th>\n",
       "      <th>deficit</th>\n",
       "      <th>c_peptide</th>\n",
       "    </tr>\n",
       "  </thead>\n",
       "  <tbody>\n",
       "    <tr>\n",
       "      <th>0</th>\n",
       "      <td>5.2</td>\n",
       "      <td>-8.1</td>\n",
       "      <td>4.8</td>\n",
       "    </tr>\n",
       "    <tr>\n",
       "      <th>1</th>\n",
       "      <td>8.8</td>\n",
       "      <td>-16.1</td>\n",
       "      <td>4.1</td>\n",
       "    </tr>\n",
       "    <tr>\n",
       "      <th>2</th>\n",
       "      <td>10.5</td>\n",
       "      <td>-0.9</td>\n",
       "      <td>5.2</td>\n",
       "    </tr>\n",
       "    <tr>\n",
       "      <th>3</th>\n",
       "      <td>10.6</td>\n",
       "      <td>-7.8</td>\n",
       "      <td>5.5</td>\n",
       "    </tr>\n",
       "    <tr>\n",
       "      <th>4</th>\n",
       "      <td>10.4</td>\n",
       "      <td>-29.0</td>\n",
       "      <td>5.0</td>\n",
       "    </tr>\n",
       "  </tbody>\n",
       "</table>\n",
       "</div>"
      ],
      "text/plain": [
       "    age  deficit  c_peptide\n",
       "0   5.2     -8.1        4.8\n",
       "1   8.8    -16.1        4.1\n",
       "2  10.5     -0.9        5.2\n",
       "3  10.6     -7.8        5.5\n",
       "4  10.4    -29.0        5.0"
      ]
     },
     "execution_count": 3,
     "metadata": {},
     "output_type": "execute_result"
    }
   ],
   "source": [
    "# Base de regressão Regressão Linear\n",
    "print(dfdiabetes.shape)\n",
    "dfdiabetes.head()"
   ]
  },
  {
   "cell_type": "code",
   "execution_count": 4,
   "id": "52cef793-dd78-4211-8476-dcdbf9932a93",
   "metadata": {},
   "outputs": [
    {
     "data": {
      "text/plain": [
       "age          0\n",
       "deficit      0\n",
       "c_peptide    0\n",
       "dtype: int64"
      ]
     },
     "execution_count": 4,
     "metadata": {},
     "output_type": "execute_result"
    }
   ],
   "source": [
    "dfdiabetes.isnull().sum()"
   ]
  },
  {
   "cell_type": "code",
   "execution_count": 5,
   "id": "d3729bba-3d23-47ac-a058-61e7b185cc36",
   "metadata": {},
   "outputs": [],
   "source": [
    "x1 = dfdiabetes.drop('c_peptide', axis = 1)\n",
    "y1 = dfdiabetes['c_peptide']"
   ]
  },
  {
   "cell_type": "code",
   "execution_count": 6,
   "id": "6a0a8db0-f43e-4985-b339-ab625d8ccb40",
   "metadata": {},
   "outputs": [],
   "source": [
    "# Separando treino e teste\n",
    "x1_train, x1_test, y1_train, y1_test = train_test_split(x1, y1, test_size = 0.37, random_state = 5762)"
   ]
  },
  {
   "cell_type": "code",
   "execution_count": 7,
   "id": "eb259510-d601-4978-8fea-f3c38da2a5bb",
   "metadata": {},
   "outputs": [
    {
     "data": {
      "text/plain": [
       "LinearRegression()"
      ]
     },
     "execution_count": 7,
     "metadata": {},
     "output_type": "execute_result"
    }
   ],
   "source": [
    "# Treinando o modelo\n",
    "\n",
    "lr = LinearRegression()\n",
    "lr.fit(x1_train, y1_train)"
   ]
  },
  {
   "cell_type": "code",
   "execution_count": 8,
   "id": "78826ed0-de5c-4625-9990-0cc77eaac222",
   "metadata": {},
   "outputs": [],
   "source": [
    "# Prediçoes para o treinamento e teste\n",
    "\n",
    "y1_pred_train = lr.predict(x1_train)\n",
    "y1_pred_test = lr.predict(x1_test)"
   ]
  },
  {
   "cell_type": "code",
   "execution_count": 9,
   "id": "dc889e32-6536-489b-9295-ab3e5cf17176",
   "metadata": {},
   "outputs": [
    {
     "name": "stdout",
     "output_type": "stream",
     "text": [
      "----- Avaliaçao do treinamento -----\n",
      "MAE:  0.41\n",
      "R2:  0.52\n",
      "RMSE:  0.51\n",
      "\n",
      "----- Avaliaçao do teste -----\n",
      "MAE:  0.53\n",
      "R2:  0.02\n",
      "MSE: 0.44\n",
      "RMSE:  0.66\n"
     ]
    }
   ],
   "source": [
    "# Avaliaçao dos resultados\n",
    "import sklearn.metrics as metrics\n",
    "from math import sqrt\n",
    "\n",
    "MAE_train = metrics.mean_absolute_error(y1_train, y1_pred_train) \n",
    "R2_train = metrics.r2_score(y1_train, y1_pred_train) # Coeficiente de determinaçao\n",
    "RMSE_train = sqrt(metrics.mean_squared_error(y1_train, y1_pred_train))\n",
    "\n",
    "print(\"----- Avaliaçao do treinamento -----\")\n",
    "print(\"MAE: \", round(MAE_train,2))\n",
    "print('R2: ', round(R2_train,2))\n",
    "print('RMSE: ', round(RMSE_train,2))\n",
    "\n",
    "MAE_test = metrics.mean_absolute_error(y1_test, y1_pred_test) \n",
    "R2_test = metrics.r2_score(y1_test, y1_pred_test)\n",
    "RMSE_test = sqrt(metrics.mean_squared_error(y1_test, y1_pred_test))\n",
    "MSE_test = metrics.mean_squared_error(y1_test, y1_pred_test)\n",
    "\n",
    "print(\"\")\n",
    "print(\"----- Avaliaçao do teste -----\")\n",
    "print(\"MAE: \", round(MAE_test,2))\n",
    "print('R2: ', round(R2_test,2))\n",
    "print('MSE:', round(MSE_test,2))  \n",
    "print('RMSE: ', round(RMSE_test,2))"
   ]
  },
  {
   "cell_type": "code",
   "execution_count": null,
   "id": "81f64c80-188c-4651-9628-7953158b02dd",
   "metadata": {},
   "outputs": [],
   "source": []
  },
  {
   "cell_type": "markdown",
   "id": "c842e569-b37f-4b6d-b40e-21361eacb7bd",
   "metadata": {},
   "source": [
    "---"
   ]
  },
  {
   "cell_type": "markdown",
   "id": "49b7d49e-750b-47be-9e67-a3bc502b13e7",
   "metadata": {},
   "source": [
    "## Tarefa de Classificação com SVM\n",
    "- Dataset: bloodtransf.csv"
   ]
  },
  {
   "cell_type": "code",
   "execution_count": 63,
   "id": "83292e0a-9980-45c0-aaad-00fa4319d07f",
   "metadata": {},
   "outputs": [
    {
     "name": "stdout",
     "output_type": "stream",
     "text": [
      "(748, 5)\n"
     ]
    },
    {
     "data": {
      "text/html": [
       "<div>\n",
       "<style scoped>\n",
       "    .dataframe tbody tr th:only-of-type {\n",
       "        vertical-align: middle;\n",
       "    }\n",
       "\n",
       "    .dataframe tbody tr th {\n",
       "        vertical-align: top;\n",
       "    }\n",
       "\n",
       "    .dataframe thead th {\n",
       "        text-align: right;\n",
       "    }\n",
       "</style>\n",
       "<table border=\"1\" class=\"dataframe\">\n",
       "  <thead>\n",
       "    <tr style=\"text-align: right;\">\n",
       "      <th></th>\n",
       "      <th>V1</th>\n",
       "      <th>V2</th>\n",
       "      <th>V3</th>\n",
       "      <th>V4</th>\n",
       "      <th>Class</th>\n",
       "    </tr>\n",
       "  </thead>\n",
       "  <tbody>\n",
       "    <tr>\n",
       "      <th>0</th>\n",
       "      <td>2</td>\n",
       "      <td>50</td>\n",
       "      <td>12500</td>\n",
       "      <td>98</td>\n",
       "      <td>2</td>\n",
       "    </tr>\n",
       "    <tr>\n",
       "      <th>1</th>\n",
       "      <td>0</td>\n",
       "      <td>13</td>\n",
       "      <td>3250</td>\n",
       "      <td>28</td>\n",
       "      <td>2</td>\n",
       "    </tr>\n",
       "    <tr>\n",
       "      <th>2</th>\n",
       "      <td>1</td>\n",
       "      <td>16</td>\n",
       "      <td>4000</td>\n",
       "      <td>35</td>\n",
       "      <td>2</td>\n",
       "    </tr>\n",
       "    <tr>\n",
       "      <th>3</th>\n",
       "      <td>2</td>\n",
       "      <td>20</td>\n",
       "      <td>5000</td>\n",
       "      <td>45</td>\n",
       "      <td>2</td>\n",
       "    </tr>\n",
       "    <tr>\n",
       "      <th>4</th>\n",
       "      <td>1</td>\n",
       "      <td>24</td>\n",
       "      <td>6000</td>\n",
       "      <td>77</td>\n",
       "      <td>1</td>\n",
       "    </tr>\n",
       "  </tbody>\n",
       "</table>\n",
       "</div>"
      ],
      "text/plain": [
       "   V1  V2     V3  V4  Class\n",
       "0   2  50  12500  98      2\n",
       "1   0  13   3250  28      2\n",
       "2   1  16   4000  35      2\n",
       "3   2  20   5000  45      2\n",
       "4   1  24   6000  77      1"
      ]
     },
     "execution_count": 63,
     "metadata": {},
     "output_type": "execute_result"
    }
   ],
   "source": [
    "# Base de classificação SVM\n",
    "print(dfblood.shape)\n",
    "dfblood.head()"
   ]
  },
  {
   "cell_type": "code",
   "execution_count": 64,
   "id": "e5443450-4e67-4114-9297-7654e3a4abae",
   "metadata": {},
   "outputs": [
    {
     "data": {
      "text/html": [
       "<div>\n",
       "<style scoped>\n",
       "    .dataframe tbody tr th:only-of-type {\n",
       "        vertical-align: middle;\n",
       "    }\n",
       "\n",
       "    .dataframe tbody tr th {\n",
       "        vertical-align: top;\n",
       "    }\n",
       "\n",
       "    .dataframe thead th {\n",
       "        text-align: right;\n",
       "    }\n",
       "</style>\n",
       "<table border=\"1\" class=\"dataframe\">\n",
       "  <thead>\n",
       "    <tr style=\"text-align: right;\">\n",
       "      <th></th>\n",
       "      <th>V1</th>\n",
       "      <th>V2</th>\n",
       "      <th>V3</th>\n",
       "      <th>V4</th>\n",
       "      <th>Class</th>\n",
       "    </tr>\n",
       "  </thead>\n",
       "  <tbody>\n",
       "    <tr>\n",
       "      <th>743</th>\n",
       "      <td>23</td>\n",
       "      <td>2</td>\n",
       "      <td>500</td>\n",
       "      <td>38</td>\n",
       "      <td>1</td>\n",
       "    </tr>\n",
       "    <tr>\n",
       "      <th>744</th>\n",
       "      <td>21</td>\n",
       "      <td>2</td>\n",
       "      <td>500</td>\n",
       "      <td>52</td>\n",
       "      <td>1</td>\n",
       "    </tr>\n",
       "    <tr>\n",
       "      <th>745</th>\n",
       "      <td>23</td>\n",
       "      <td>3</td>\n",
       "      <td>750</td>\n",
       "      <td>62</td>\n",
       "      <td>1</td>\n",
       "    </tr>\n",
       "    <tr>\n",
       "      <th>746</th>\n",
       "      <td>39</td>\n",
       "      <td>1</td>\n",
       "      <td>250</td>\n",
       "      <td>39</td>\n",
       "      <td>1</td>\n",
       "    </tr>\n",
       "    <tr>\n",
       "      <th>747</th>\n",
       "      <td>72</td>\n",
       "      <td>1</td>\n",
       "      <td>250</td>\n",
       "      <td>72</td>\n",
       "      <td>1</td>\n",
       "    </tr>\n",
       "  </tbody>\n",
       "</table>\n",
       "</div>"
      ],
      "text/plain": [
       "     V1  V2   V3  V4  Class\n",
       "743  23   2  500  38      1\n",
       "744  21   2  500  52      1\n",
       "745  23   3  750  62      1\n",
       "746  39   1  250  39      1\n",
       "747  72   1  250  72      1"
      ]
     },
     "execution_count": 64,
     "metadata": {},
     "output_type": "execute_result"
    }
   ],
   "source": [
    "dfblood.tail()"
   ]
  },
  {
   "cell_type": "code",
   "execution_count": 65,
   "id": "b98500e6-47f7-4fbb-8ec6-c9b0fd622031",
   "metadata": {},
   "outputs": [
    {
     "data": {
      "text/plain": [
       "V1       0\n",
       "V2       0\n",
       "V3       0\n",
       "V4       0\n",
       "Class    0\n",
       "dtype: int64"
      ]
     },
     "execution_count": 65,
     "metadata": {},
     "output_type": "execute_result"
    }
   ],
   "source": [
    "dfblood.isnull().sum()"
   ]
  },
  {
   "cell_type": "code",
   "execution_count": 84,
   "id": "3c6ef2d7-d1eb-4bd5-a74d-85505039aefa",
   "metadata": {},
   "outputs": [
    {
     "data": {
      "text/html": [
       "<div>\n",
       "<style scoped>\n",
       "    .dataframe tbody tr th:only-of-type {\n",
       "        vertical-align: middle;\n",
       "    }\n",
       "\n",
       "    .dataframe tbody tr th {\n",
       "        vertical-align: top;\n",
       "    }\n",
       "\n",
       "    .dataframe thead th {\n",
       "        text-align: right;\n",
       "    }\n",
       "</style>\n",
       "<table border=\"1\" class=\"dataframe\">\n",
       "  <thead>\n",
       "    <tr style=\"text-align: right;\">\n",
       "      <th></th>\n",
       "      <th>V1</th>\n",
       "      <th>V2</th>\n",
       "      <th>V3</th>\n",
       "      <th>V4</th>\n",
       "      <th>Class</th>\n",
       "    </tr>\n",
       "  </thead>\n",
       "  <tbody>\n",
       "    <tr>\n",
       "      <th>0</th>\n",
       "      <td>2</td>\n",
       "      <td>50</td>\n",
       "      <td>12500</td>\n",
       "      <td>98</td>\n",
       "      <td>1</td>\n",
       "    </tr>\n",
       "    <tr>\n",
       "      <th>1</th>\n",
       "      <td>0</td>\n",
       "      <td>13</td>\n",
       "      <td>3250</td>\n",
       "      <td>28</td>\n",
       "      <td>1</td>\n",
       "    </tr>\n",
       "    <tr>\n",
       "      <th>2</th>\n",
       "      <td>1</td>\n",
       "      <td>16</td>\n",
       "      <td>4000</td>\n",
       "      <td>35</td>\n",
       "      <td>1</td>\n",
       "    </tr>\n",
       "    <tr>\n",
       "      <th>3</th>\n",
       "      <td>2</td>\n",
       "      <td>20</td>\n",
       "      <td>5000</td>\n",
       "      <td>45</td>\n",
       "      <td>1</td>\n",
       "    </tr>\n",
       "    <tr>\n",
       "      <th>4</th>\n",
       "      <td>1</td>\n",
       "      <td>24</td>\n",
       "      <td>6000</td>\n",
       "      <td>77</td>\n",
       "      <td>0</td>\n",
       "    </tr>\n",
       "  </tbody>\n",
       "</table>\n",
       "</div>"
      ],
      "text/plain": [
       "   V1  V2     V3  V4  Class\n",
       "0   2  50  12500  98      1\n",
       "1   0  13   3250  28      1\n",
       "2   1  16   4000  35      1\n",
       "3   2  20   5000  45      1\n",
       "4   1  24   6000  77      0"
      ]
     },
     "execution_count": 84,
     "metadata": {},
     "output_type": "execute_result"
    }
   ],
   "source": [
    "#criando um dicionario de dados para o mapeamento\n",
    "name_to_class = {\n",
    "    1: 0,\n",
    "    2: 1,\n",
    "}\n",
    "\n",
    "#substituindo os valores categóricos pelo mapeamento\n",
    "dfblood['Class'] = dfblood['Class'].map(name_to_class)\n",
    "\n",
    "#check\n",
    "dfblood.head(5)"
   ]
  },
  {
   "cell_type": "code",
   "execution_count": 85,
   "id": "239d92df-63f5-44b9-9b8f-25b2620d1c29",
   "metadata": {},
   "outputs": [
    {
     "data": {
      "text/plain": [
       "array([1, 0], dtype=int64)"
      ]
     },
     "execution_count": 85,
     "metadata": {},
     "output_type": "execute_result"
    }
   ],
   "source": [
    "dfblood['Class'].unique()"
   ]
  },
  {
   "cell_type": "code",
   "execution_count": 86,
   "id": "c2aa88a6-9f52-4066-837c-25f2dfe3bf47",
   "metadata": {},
   "outputs": [
    {
     "name": "stdout",
     "output_type": "stream",
     "text": [
      "<class 'pandas.core.frame.DataFrame'>\n",
      "RangeIndex: 748 entries, 0 to 747\n",
      "Data columns (total 5 columns):\n",
      " #   Column  Non-Null Count  Dtype\n",
      "---  ------  --------------  -----\n",
      " 0   V1      748 non-null    int64\n",
      " 1   V2      748 non-null    int64\n",
      " 2   V3      748 non-null    int64\n",
      " 3   V4      748 non-null    int64\n",
      " 4   Class   748 non-null    int64\n",
      "dtypes: int64(5)\n",
      "memory usage: 29.3 KB\n"
     ]
    }
   ],
   "source": [
    "dfblood.info()"
   ]
  },
  {
   "cell_type": "code",
   "execution_count": 87,
   "id": "b1ae8289-35d1-4857-99e9-cb1ac36da266",
   "metadata": {},
   "outputs": [],
   "source": [
    "x2 = dfblood.drop('Class', axis = 1)\n",
    "y2 = dfblood['Class']"
   ]
  },
  {
   "cell_type": "code",
   "execution_count": 88,
   "id": "00cf3a5e-a0f6-4966-9793-d39b578e08c0",
   "metadata": {},
   "outputs": [],
   "source": [
    "# Separando treino e teste\n",
    "x2_train, x2_test, y2_train, y2_test = train_test_split(x2, y2, test_size = 0.37, random_state = 5762)"
   ]
  },
  {
   "cell_type": "code",
   "execution_count": 89,
   "id": "499097aa-76be-44b5-8833-0df943682b23",
   "metadata": {},
   "outputs": [
    {
     "data": {
      "text/plain": [
       "SVC()"
      ]
     },
     "execution_count": 89,
     "metadata": {},
     "output_type": "execute_result"
    }
   ],
   "source": [
    "# Treinando o modelo\n",
    "# instanciacao e determinacao dos hiperparâmetros do SVM: tipo de kernel\n",
    "svm = SVC(kernel='rbf')\n",
    "\n",
    "# treinando o SVM\n",
    "svm.fit(x2_train, y2_train)"
   ]
  },
  {
   "cell_type": "code",
   "execution_count": 90,
   "id": "e46264fd-f6a1-4b8d-bdbd-e12cbf0874dc",
   "metadata": {},
   "outputs": [],
   "source": [
    "y2_pred = svm.predict(x2_test)"
   ]
  },
  {
   "cell_type": "code",
   "execution_count": 91,
   "id": "cabfcc90-31da-44b7-ba69-486db8bb21d1",
   "metadata": {},
   "outputs": [
    {
     "name": "stdout",
     "output_type": "stream",
     "text": [
      "Matriz de Confusão\n",
      " [[214   4]\n",
      " [ 55   4]]\n",
      "\n",
      "Acurácia\n",
      " 0.7870036101083032\n",
      "\n",
      "Acurácia Balanceada por classe\n",
      " 0.5247239931581402\n",
      "\n",
      "Precision\n",
      " 0.5\n",
      "\n",
      "Recall\n",
      " 0.06779661016949153\n",
      "\n",
      "F1\n",
      " 0.11940298507462686\n",
      "\n",
      "AUCROC\n",
      " 0.5247239931581403\n"
     ]
    }
   ],
   "source": [
    "#avaliando o modelo \n",
    "print('Matriz de Confusão\\n', metrics.confusion_matrix(y2_test, y2_pred)) \n",
    "print('\\nAcurácia\\n', metrics.accuracy_score(y2_test, y2_pred)) \n",
    "print('\\nAcurácia Balanceada por classe\\n', metrics.balanced_accuracy_score(y2_test, y2_pred)) \n",
    "print('\\nPrecision\\n', metrics.precision_score(y2_test, y2_pred)) \n",
    "print('\\nRecall\\n', metrics.recall_score(y2_test, y2_pred)) \n",
    "print('\\nF1\\n', metrics.f1_score(y2_test, y2_pred)) \n",
    "\n",
    "print('\\nAUCROC\\n', metrics.roc_auc_score(y2_test, y2_pred))"
   ]
  },
  {
   "cell_type": "code",
   "execution_count": 83,
   "id": "e1a9fdaa-e9bb-4e21-a34d-2a4ee7ea7b00",
   "metadata": {},
   "outputs": [
    {
     "name": "stdout",
     "output_type": "stream",
     "text": [
      "\n",
      "Classification Report\n",
      "               precision    recall  f1-score   support\n",
      "\n",
      "           1       0.80      0.98      0.88       218\n",
      "           2       0.50      0.07      0.12        59\n",
      "\n",
      "    accuracy                           0.79       277\n",
      "   macro avg       0.65      0.52      0.50       277\n",
      "weighted avg       0.73      0.79      0.72       277\n",
      "\n"
     ]
    }
   ],
   "source": [
    "print('\\nClassification Report\\n', metrics.classification_report(y2_test, y2_pred)) "
   ]
  },
  {
   "cell_type": "markdown",
   "id": "3fc2c8ed-94ea-4e80-8f77-ea6214c097bb",
   "metadata": {},
   "source": [
    "---"
   ]
  },
  {
   "cell_type": "markdown",
   "id": "57dbda11-5068-4bf7-a6c6-aeb2ae70158e",
   "metadata": {},
   "source": [
    "## Tarefa de Clusterização com K-means\n",
    "- Dataset: wine.csv"
   ]
  },
  {
   "cell_type": "code",
   "execution_count": 35,
   "id": "ca9bc731-e1ba-4884-9b5c-6fee2c1d7276",
   "metadata": {},
   "outputs": [
    {
     "name": "stdout",
     "output_type": "stream",
     "text": [
      "(178, 14)\n"
     ]
    },
    {
     "data": {
      "text/html": [
       "<div>\n",
       "<style scoped>\n",
       "    .dataframe tbody tr th:only-of-type {\n",
       "        vertical-align: middle;\n",
       "    }\n",
       "\n",
       "    .dataframe tbody tr th {\n",
       "        vertical-align: top;\n",
       "    }\n",
       "\n",
       "    .dataframe thead th {\n",
       "        text-align: right;\n",
       "    }\n",
       "</style>\n",
       "<table border=\"1\" class=\"dataframe\">\n",
       "  <thead>\n",
       "    <tr style=\"text-align: right;\">\n",
       "      <th></th>\n",
       "      <th>class</th>\n",
       "      <th>Alcohol</th>\n",
       "      <th>Malic_acid</th>\n",
       "      <th>Ash</th>\n",
       "      <th>Alcalinity_of_ash</th>\n",
       "      <th>Magnesium</th>\n",
       "      <th>Total_phenols</th>\n",
       "      <th>Flavanoids</th>\n",
       "      <th>Nonflavanoid_phenols</th>\n",
       "      <th>Proanthocyanins</th>\n",
       "      <th>Color_intensity</th>\n",
       "      <th>Hue</th>\n",
       "      <th>OD280%2FOD315_of_diluted_wines</th>\n",
       "      <th>Proline</th>\n",
       "    </tr>\n",
       "  </thead>\n",
       "  <tbody>\n",
       "    <tr>\n",
       "      <th>0</th>\n",
       "      <td>1</td>\n",
       "      <td>14.23</td>\n",
       "      <td>1.71</td>\n",
       "      <td>2.43</td>\n",
       "      <td>15.6</td>\n",
       "      <td>127</td>\n",
       "      <td>2.80</td>\n",
       "      <td>3.06</td>\n",
       "      <td>0.28</td>\n",
       "      <td>2.29</td>\n",
       "      <td>5.64</td>\n",
       "      <td>1.04</td>\n",
       "      <td>3.92</td>\n",
       "      <td>1065</td>\n",
       "    </tr>\n",
       "    <tr>\n",
       "      <th>1</th>\n",
       "      <td>1</td>\n",
       "      <td>13.20</td>\n",
       "      <td>1.78</td>\n",
       "      <td>2.14</td>\n",
       "      <td>11.2</td>\n",
       "      <td>100</td>\n",
       "      <td>2.65</td>\n",
       "      <td>2.76</td>\n",
       "      <td>0.26</td>\n",
       "      <td>1.28</td>\n",
       "      <td>4.38</td>\n",
       "      <td>1.05</td>\n",
       "      <td>3.40</td>\n",
       "      <td>1050</td>\n",
       "    </tr>\n",
       "    <tr>\n",
       "      <th>2</th>\n",
       "      <td>1</td>\n",
       "      <td>13.16</td>\n",
       "      <td>2.36</td>\n",
       "      <td>2.67</td>\n",
       "      <td>18.6</td>\n",
       "      <td>101</td>\n",
       "      <td>2.80</td>\n",
       "      <td>3.24</td>\n",
       "      <td>0.30</td>\n",
       "      <td>2.81</td>\n",
       "      <td>5.68</td>\n",
       "      <td>1.03</td>\n",
       "      <td>3.17</td>\n",
       "      <td>1185</td>\n",
       "    </tr>\n",
       "    <tr>\n",
       "      <th>3</th>\n",
       "      <td>1</td>\n",
       "      <td>14.37</td>\n",
       "      <td>1.95</td>\n",
       "      <td>2.50</td>\n",
       "      <td>16.8</td>\n",
       "      <td>113</td>\n",
       "      <td>3.85</td>\n",
       "      <td>3.49</td>\n",
       "      <td>0.24</td>\n",
       "      <td>2.18</td>\n",
       "      <td>7.80</td>\n",
       "      <td>0.86</td>\n",
       "      <td>3.45</td>\n",
       "      <td>1480</td>\n",
       "    </tr>\n",
       "    <tr>\n",
       "      <th>4</th>\n",
       "      <td>1</td>\n",
       "      <td>13.24</td>\n",
       "      <td>2.59</td>\n",
       "      <td>2.87</td>\n",
       "      <td>21.0</td>\n",
       "      <td>118</td>\n",
       "      <td>2.80</td>\n",
       "      <td>2.69</td>\n",
       "      <td>0.39</td>\n",
       "      <td>1.82</td>\n",
       "      <td>4.32</td>\n",
       "      <td>1.04</td>\n",
       "      <td>2.93</td>\n",
       "      <td>735</td>\n",
       "    </tr>\n",
       "  </tbody>\n",
       "</table>\n",
       "</div>"
      ],
      "text/plain": [
       "   class  Alcohol  Malic_acid   Ash  Alcalinity_of_ash  Magnesium  \\\n",
       "0      1    14.23        1.71  2.43               15.6        127   \n",
       "1      1    13.20        1.78  2.14               11.2        100   \n",
       "2      1    13.16        2.36  2.67               18.6        101   \n",
       "3      1    14.37        1.95  2.50               16.8        113   \n",
       "4      1    13.24        2.59  2.87               21.0        118   \n",
       "\n",
       "   Total_phenols  Flavanoids  Nonflavanoid_phenols  Proanthocyanins  \\\n",
       "0           2.80        3.06                  0.28             2.29   \n",
       "1           2.65        2.76                  0.26             1.28   \n",
       "2           2.80        3.24                  0.30             2.81   \n",
       "3           3.85        3.49                  0.24             2.18   \n",
       "4           2.80        2.69                  0.39             1.82   \n",
       "\n",
       "   Color_intensity   Hue  OD280%2FOD315_of_diluted_wines  Proline  \n",
       "0             5.64  1.04                            3.92     1065  \n",
       "1             4.38  1.05                            3.40     1050  \n",
       "2             5.68  1.03                            3.17     1185  \n",
       "3             7.80  0.86                            3.45     1480  \n",
       "4             4.32  1.04                            2.93      735  "
      ]
     },
     "execution_count": 35,
     "metadata": {},
     "output_type": "execute_result"
    }
   ],
   "source": [
    "# Base de clusterização K-means\n",
    "print(dfwine.shape)\n",
    "dfwine.head()"
   ]
  },
  {
   "cell_type": "code",
   "execution_count": 36,
   "id": "288efd37-6adb-4307-901d-a4776a01be07",
   "metadata": {},
   "outputs": [
    {
     "data": {
      "text/html": [
       "<div>\n",
       "<style scoped>\n",
       "    .dataframe tbody tr th:only-of-type {\n",
       "        vertical-align: middle;\n",
       "    }\n",
       "\n",
       "    .dataframe tbody tr th {\n",
       "        vertical-align: top;\n",
       "    }\n",
       "\n",
       "    .dataframe thead th {\n",
       "        text-align: right;\n",
       "    }\n",
       "</style>\n",
       "<table border=\"1\" class=\"dataframe\">\n",
       "  <thead>\n",
       "    <tr style=\"text-align: right;\">\n",
       "      <th></th>\n",
       "      <th>class</th>\n",
       "      <th>Alcohol</th>\n",
       "      <th>Malic_acid</th>\n",
       "      <th>Ash</th>\n",
       "      <th>Alcalinity_of_ash</th>\n",
       "      <th>Magnesium</th>\n",
       "      <th>Total_phenols</th>\n",
       "      <th>Flavanoids</th>\n",
       "      <th>Nonflavanoid_phenols</th>\n",
       "      <th>Proanthocyanins</th>\n",
       "      <th>Color_intensity</th>\n",
       "      <th>Hue</th>\n",
       "      <th>OD280%2FOD315_of_diluted_wines</th>\n",
       "      <th>Proline</th>\n",
       "    </tr>\n",
       "  </thead>\n",
       "  <tbody>\n",
       "    <tr>\n",
       "      <th>173</th>\n",
       "      <td>3</td>\n",
       "      <td>13.71</td>\n",
       "      <td>5.65</td>\n",
       "      <td>2.45</td>\n",
       "      <td>20.5</td>\n",
       "      <td>95</td>\n",
       "      <td>1.68</td>\n",
       "      <td>0.61</td>\n",
       "      <td>0.52</td>\n",
       "      <td>1.06</td>\n",
       "      <td>7.7</td>\n",
       "      <td>0.64</td>\n",
       "      <td>1.74</td>\n",
       "      <td>740</td>\n",
       "    </tr>\n",
       "    <tr>\n",
       "      <th>174</th>\n",
       "      <td>3</td>\n",
       "      <td>13.40</td>\n",
       "      <td>3.91</td>\n",
       "      <td>2.48</td>\n",
       "      <td>23.0</td>\n",
       "      <td>102</td>\n",
       "      <td>1.80</td>\n",
       "      <td>0.75</td>\n",
       "      <td>0.43</td>\n",
       "      <td>1.41</td>\n",
       "      <td>7.3</td>\n",
       "      <td>0.70</td>\n",
       "      <td>1.56</td>\n",
       "      <td>750</td>\n",
       "    </tr>\n",
       "    <tr>\n",
       "      <th>175</th>\n",
       "      <td>3</td>\n",
       "      <td>13.27</td>\n",
       "      <td>4.28</td>\n",
       "      <td>2.26</td>\n",
       "      <td>20.0</td>\n",
       "      <td>120</td>\n",
       "      <td>1.59</td>\n",
       "      <td>0.69</td>\n",
       "      <td>0.43</td>\n",
       "      <td>1.35</td>\n",
       "      <td>10.2</td>\n",
       "      <td>0.59</td>\n",
       "      <td>1.56</td>\n",
       "      <td>835</td>\n",
       "    </tr>\n",
       "    <tr>\n",
       "      <th>176</th>\n",
       "      <td>3</td>\n",
       "      <td>13.17</td>\n",
       "      <td>2.59</td>\n",
       "      <td>2.37</td>\n",
       "      <td>20.0</td>\n",
       "      <td>120</td>\n",
       "      <td>1.65</td>\n",
       "      <td>0.68</td>\n",
       "      <td>0.53</td>\n",
       "      <td>1.46</td>\n",
       "      <td>9.3</td>\n",
       "      <td>0.60</td>\n",
       "      <td>1.62</td>\n",
       "      <td>840</td>\n",
       "    </tr>\n",
       "    <tr>\n",
       "      <th>177</th>\n",
       "      <td>3</td>\n",
       "      <td>14.13</td>\n",
       "      <td>4.10</td>\n",
       "      <td>2.74</td>\n",
       "      <td>24.5</td>\n",
       "      <td>96</td>\n",
       "      <td>2.05</td>\n",
       "      <td>0.76</td>\n",
       "      <td>0.56</td>\n",
       "      <td>1.35</td>\n",
       "      <td>9.2</td>\n",
       "      <td>0.61</td>\n",
       "      <td>1.60</td>\n",
       "      <td>560</td>\n",
       "    </tr>\n",
       "  </tbody>\n",
       "</table>\n",
       "</div>"
      ],
      "text/plain": [
       "     class  Alcohol  Malic_acid   Ash  Alcalinity_of_ash  Magnesium  \\\n",
       "173      3    13.71        5.65  2.45               20.5         95   \n",
       "174      3    13.40        3.91  2.48               23.0        102   \n",
       "175      3    13.27        4.28  2.26               20.0        120   \n",
       "176      3    13.17        2.59  2.37               20.0        120   \n",
       "177      3    14.13        4.10  2.74               24.5         96   \n",
       "\n",
       "     Total_phenols  Flavanoids  Nonflavanoid_phenols  Proanthocyanins  \\\n",
       "173           1.68        0.61                  0.52             1.06   \n",
       "174           1.80        0.75                  0.43             1.41   \n",
       "175           1.59        0.69                  0.43             1.35   \n",
       "176           1.65        0.68                  0.53             1.46   \n",
       "177           2.05        0.76                  0.56             1.35   \n",
       "\n",
       "     Color_intensity   Hue  OD280%2FOD315_of_diluted_wines  Proline  \n",
       "173              7.7  0.64                            1.74      740  \n",
       "174              7.3  0.70                            1.56      750  \n",
       "175             10.2  0.59                            1.56      835  \n",
       "176              9.3  0.60                            1.62      840  \n",
       "177              9.2  0.61                            1.60      560  "
      ]
     },
     "execution_count": 36,
     "metadata": {},
     "output_type": "execute_result"
    }
   ],
   "source": [
    "dfwine.tail()"
   ]
  },
  {
   "cell_type": "code",
   "execution_count": 37,
   "id": "9d2c2ebf-e129-40c7-8bcb-c6344e93b361",
   "metadata": {},
   "outputs": [
    {
     "name": "stdout",
     "output_type": "stream",
     "text": [
      "<class 'pandas.core.frame.DataFrame'>\n",
      "RangeIndex: 178 entries, 0 to 177\n",
      "Data columns (total 14 columns):\n",
      " #   Column                          Non-Null Count  Dtype  \n",
      "---  ------                          --------------  -----  \n",
      " 0   class                           178 non-null    int64  \n",
      " 1   Alcohol                         178 non-null    float64\n",
      " 2   Malic_acid                      178 non-null    float64\n",
      " 3   Ash                             178 non-null    float64\n",
      " 4   Alcalinity_of_ash               178 non-null    float64\n",
      " 5   Magnesium                       178 non-null    int64  \n",
      " 6   Total_phenols                   178 non-null    float64\n",
      " 7   Flavanoids                      178 non-null    float64\n",
      " 8   Nonflavanoid_phenols            178 non-null    float64\n",
      " 9   Proanthocyanins                 178 non-null    float64\n",
      " 10  Color_intensity                 178 non-null    float64\n",
      " 11  Hue                             178 non-null    float64\n",
      " 12  OD280%2FOD315_of_diluted_wines  178 non-null    float64\n",
      " 13  Proline                         178 non-null    int64  \n",
      "dtypes: float64(11), int64(3)\n",
      "memory usage: 19.6 KB\n"
     ]
    }
   ],
   "source": [
    "dfwine.info()"
   ]
  },
  {
   "cell_type": "code",
   "execution_count": 38,
   "id": "2d39cd55-f7c0-4613-afbb-64ae50836274",
   "metadata": {},
   "outputs": [
    {
     "data": {
      "text/plain": [
       "array([1, 2, 3], dtype=int64)"
      ]
     },
     "execution_count": 38,
     "metadata": {},
     "output_type": "execute_result"
    }
   ],
   "source": [
    "dfwine['class'].unique()"
   ]
  },
  {
   "cell_type": "code",
   "execution_count": 39,
   "id": "a9ea906c-9ff8-4d38-8cfb-6f391b760721",
   "metadata": {},
   "outputs": [
    {
     "data": {
      "text/plain": [
       "class                             0\n",
       "Alcohol                           0\n",
       "Malic_acid                        0\n",
       "Ash                               0\n",
       "Alcalinity_of_ash                 0\n",
       "Magnesium                         0\n",
       "Total_phenols                     0\n",
       "Flavanoids                        0\n",
       "Nonflavanoid_phenols              0\n",
       "Proanthocyanins                   0\n",
       "Color_intensity                   0\n",
       "Hue                               0\n",
       "OD280%2FOD315_of_diluted_wines    0\n",
       "Proline                           0\n",
       "dtype: int64"
      ]
     },
     "execution_count": 39,
     "metadata": {},
     "output_type": "execute_result"
    }
   ],
   "source": [
    "dfwine.isnull().sum()"
   ]
  },
  {
   "cell_type": "code",
   "execution_count": 40,
   "id": "7baf67a7-5dcf-4bb3-9b45-5540af0f391e",
   "metadata": {},
   "outputs": [
    {
     "data": {
      "text/html": [
       "<div>\n",
       "<style scoped>\n",
       "    .dataframe tbody tr th:only-of-type {\n",
       "        vertical-align: middle;\n",
       "    }\n",
       "\n",
       "    .dataframe tbody tr th {\n",
       "        vertical-align: top;\n",
       "    }\n",
       "\n",
       "    .dataframe thead th {\n",
       "        text-align: right;\n",
       "    }\n",
       "</style>\n",
       "<table border=\"1\" class=\"dataframe\">\n",
       "  <thead>\n",
       "    <tr style=\"text-align: right;\">\n",
       "      <th></th>\n",
       "      <th>class</th>\n",
       "      <th>Alcohol</th>\n",
       "      <th>Malic_acid</th>\n",
       "      <th>Ash</th>\n",
       "      <th>Alcalinity_of_ash</th>\n",
       "      <th>Magnesium</th>\n",
       "      <th>Total_phenols</th>\n",
       "      <th>Flavanoids</th>\n",
       "      <th>Nonflavanoid_phenols</th>\n",
       "      <th>Proanthocyanins</th>\n",
       "      <th>Color_intensity</th>\n",
       "      <th>Hue</th>\n",
       "      <th>OD280%2FOD315_of_diluted_wines</th>\n",
       "      <th>Proline</th>\n",
       "    </tr>\n",
       "  </thead>\n",
       "  <tbody>\n",
       "    <tr>\n",
       "      <th>0</th>\n",
       "      <td>0</td>\n",
       "      <td>14.23</td>\n",
       "      <td>1.71</td>\n",
       "      <td>2.43</td>\n",
       "      <td>15.6</td>\n",
       "      <td>127</td>\n",
       "      <td>2.80</td>\n",
       "      <td>3.06</td>\n",
       "      <td>0.28</td>\n",
       "      <td>2.29</td>\n",
       "      <td>5.64</td>\n",
       "      <td>1.04</td>\n",
       "      <td>3.92</td>\n",
       "      <td>1065</td>\n",
       "    </tr>\n",
       "    <tr>\n",
       "      <th>1</th>\n",
       "      <td>0</td>\n",
       "      <td>13.20</td>\n",
       "      <td>1.78</td>\n",
       "      <td>2.14</td>\n",
       "      <td>11.2</td>\n",
       "      <td>100</td>\n",
       "      <td>2.65</td>\n",
       "      <td>2.76</td>\n",
       "      <td>0.26</td>\n",
       "      <td>1.28</td>\n",
       "      <td>4.38</td>\n",
       "      <td>1.05</td>\n",
       "      <td>3.40</td>\n",
       "      <td>1050</td>\n",
       "    </tr>\n",
       "    <tr>\n",
       "      <th>2</th>\n",
       "      <td>0</td>\n",
       "      <td>13.16</td>\n",
       "      <td>2.36</td>\n",
       "      <td>2.67</td>\n",
       "      <td>18.6</td>\n",
       "      <td>101</td>\n",
       "      <td>2.80</td>\n",
       "      <td>3.24</td>\n",
       "      <td>0.30</td>\n",
       "      <td>2.81</td>\n",
       "      <td>5.68</td>\n",
       "      <td>1.03</td>\n",
       "      <td>3.17</td>\n",
       "      <td>1185</td>\n",
       "    </tr>\n",
       "    <tr>\n",
       "      <th>3</th>\n",
       "      <td>0</td>\n",
       "      <td>14.37</td>\n",
       "      <td>1.95</td>\n",
       "      <td>2.50</td>\n",
       "      <td>16.8</td>\n",
       "      <td>113</td>\n",
       "      <td>3.85</td>\n",
       "      <td>3.49</td>\n",
       "      <td>0.24</td>\n",
       "      <td>2.18</td>\n",
       "      <td>7.80</td>\n",
       "      <td>0.86</td>\n",
       "      <td>3.45</td>\n",
       "      <td>1480</td>\n",
       "    </tr>\n",
       "    <tr>\n",
       "      <th>4</th>\n",
       "      <td>0</td>\n",
       "      <td>13.24</td>\n",
       "      <td>2.59</td>\n",
       "      <td>2.87</td>\n",
       "      <td>21.0</td>\n",
       "      <td>118</td>\n",
       "      <td>2.80</td>\n",
       "      <td>2.69</td>\n",
       "      <td>0.39</td>\n",
       "      <td>1.82</td>\n",
       "      <td>4.32</td>\n",
       "      <td>1.04</td>\n",
       "      <td>2.93</td>\n",
       "      <td>735</td>\n",
       "    </tr>\n",
       "  </tbody>\n",
       "</table>\n",
       "</div>"
      ],
      "text/plain": [
       "   class  Alcohol  Malic_acid   Ash  Alcalinity_of_ash  Magnesium  \\\n",
       "0      0    14.23        1.71  2.43               15.6        127   \n",
       "1      0    13.20        1.78  2.14               11.2        100   \n",
       "2      0    13.16        2.36  2.67               18.6        101   \n",
       "3      0    14.37        1.95  2.50               16.8        113   \n",
       "4      0    13.24        2.59  2.87               21.0        118   \n",
       "\n",
       "   Total_phenols  Flavanoids  Nonflavanoid_phenols  Proanthocyanins  \\\n",
       "0           2.80        3.06                  0.28             2.29   \n",
       "1           2.65        2.76                  0.26             1.28   \n",
       "2           2.80        3.24                  0.30             2.81   \n",
       "3           3.85        3.49                  0.24             2.18   \n",
       "4           2.80        2.69                  0.39             1.82   \n",
       "\n",
       "   Color_intensity   Hue  OD280%2FOD315_of_diluted_wines  Proline  \n",
       "0             5.64  1.04                            3.92     1065  \n",
       "1             4.38  1.05                            3.40     1050  \n",
       "2             5.68  1.03                            3.17     1185  \n",
       "3             7.80  0.86                            3.45     1480  \n",
       "4             4.32  1.04                            2.93      735  "
      ]
     },
     "execution_count": 40,
     "metadata": {},
     "output_type": "execute_result"
    }
   ],
   "source": [
    "#criando um dicionario de dados para o mapeamento\n",
    "name_to_class = {\n",
    "    1: 0,\n",
    "    2: 1,\n",
    "    3: 2\n",
    "}\n",
    "\n",
    "#substituindo os valores categóricos pelo mapeamento\n",
    "dfwine['class'] = dfwine['class'].map(name_to_class)\n",
    "\n",
    "#check\n",
    "dfwine.head(5)"
   ]
  },
  {
   "cell_type": "code",
   "execution_count": 41,
   "id": "e959c1aa-0dfd-471b-b806-4b60b773280a",
   "metadata": {},
   "outputs": [
    {
     "data": {
      "text/plain": [
       "array([0, 1, 2], dtype=int64)"
      ]
     },
     "execution_count": 41,
     "metadata": {},
     "output_type": "execute_result"
    }
   ],
   "source": [
    "dfwine['class'].unique()"
   ]
  },
  {
   "cell_type": "code",
   "execution_count": 42,
   "id": "46bf8c98-0f43-4ab5-ad34-a7efb40c966b",
   "metadata": {},
   "outputs": [],
   "source": [
    "x3 = dfwine.drop('class', axis = 1)\n",
    "y3 = dfwine['class']"
   ]
  },
  {
   "cell_type": "code",
   "execution_count": 43,
   "id": "5d40016b-8b2e-4856-b153-b980ebf1341f",
   "metadata": {},
   "outputs": [],
   "source": [
    "x3_train, x3_test, y3_train, y3_test = train_test_split(x3, y3, test_size = 0.37, random_state = 5762)"
   ]
  },
  {
   "cell_type": "code",
   "execution_count": 44,
   "id": "a1d723bd-efb2-479a-840d-086fc1fbdf4f",
   "metadata": {},
   "outputs": [],
   "source": [
    "clustering = KMeans(n_clusters = 3, random_state = 5762)\n",
    " \n",
    "# treinando o modelo no conjunto de dados de treino\n",
    "clusters = clustering.fit(x3_train);"
   ]
  },
  {
   "cell_type": "code",
   "execution_count": 45,
   "id": "2f587670-d46c-432d-9f31-1f05b78ae5e2",
   "metadata": {},
   "outputs": [],
   "source": [
    "y3_pred = clustering.predict(x3_test)\n"
   ]
  },
  {
   "cell_type": "code",
   "execution_count": 46,
   "id": "66d923da-65a3-4a6f-90cd-e8204cac4c43",
   "metadata": {},
   "outputs": [
    {
     "name": "stdout",
     "output_type": "stream",
     "text": [
      "Coeficiente de Silhueta\n",
      " 0.5995566852797415\n",
      "\n",
      "Davies-Bouldin Score\n",
      " 0.49625702117326337\n",
      "\n",
      "Matriz de Contingência\n",
      " [[ 0 12  5]\n",
      " [23  0  7]\n",
      " [ 4  0 15]]\n",
      "\n",
      "Mutual information\n",
      " 0.4901210809010372\n"
     ]
    }
   ],
   "source": [
    "# Avaliando o modelo com o df1\n",
    "print('Coeficiente de Silhueta\\n', metrics.silhouette_score(x3_test, y3_pred)) \n",
    "print('\\nDavies-Bouldin Score\\n', metrics.davies_bouldin_score(x3_test, y3_pred)) \n",
    "\n",
    "print('\\nMatriz de Contingência\\n', metrics.cluster.contingency_matrix(y3_test, y3_pred)) \n",
    "print('\\nMutual information\\n', metrics.mutual_info_score(y3_test, y3_pred)) "
   ]
  },
  {
   "cell_type": "code",
   "execution_count": 58,
   "id": "9368274a-9a31-4ee9-bcaf-225f9b391d2a",
   "metadata": {},
   "outputs": [
    {
     "data": {
      "image/png": "[encoded data removed]",
      "text/plain": [
       "<Figure size 720x432 with 1 Axes>"
      ]
     },
     "metadata": {
      "needs_background": "light"
     },
     "output_type": "display_data"
    }
   ],
   "source": [
    "plt.figure(figsize = (10, 6))\n",
    "plt.scatter(y3_pred, y3_test,  s = 25, color = 'blue')\n",
    "plt.scatter(clusters.cluster_centers_[0][0], clusters.cluster_centers_[0][1], marker='*', s = 100, color = 'red')\n",
    "plt.scatter(clusters.cluster_centers_[1][0], clusters.cluster_centers_[1][1], marker='*', s = 100, color = 'green')\n",
    "plt.scatter(clusters.cluster_centers_[2][0], clusters.cluster_centers_[2][1], marker='*', s = 100, color = 'black')\n",
    "plt.title('Visualizando o resultado do K-means')\n",
    "plt.xlabel('Eixo X')\n",
    "plt.ylabel('Eixo Y');"
   ]
  },
  {
   "cell_type": "code",
   "execution_count": null,
   "id": "9d68e4a2-6f4a-40ae-ab9c-f7510f229ba4",
   "metadata": {},
   "outputs": [],
   "source": []
  }
 ],
 "metadata": {
  "kernelspec": {
   "display_name": "Python 3 (ipykernel)",
   "language": "python",
   "name": "python3"
  },
  "language_info": {
   "codemirror_mode": {
    "name": "ipython",
    "version": 3
   },
   "file_extension": ".py",
   "mimetype": "text/x-python",
   "name": "python",
   "nbconvert_exporter": "python",
   "pygments_lexer": "ipython3",
   "version": "3.10.4"
  }
 },
 "nbformat": 4,
 "nbformat_minor": 5
}
