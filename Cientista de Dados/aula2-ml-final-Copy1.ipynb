{
 "cells": [
  {
   "cell_type": "code",
   "execution_count": 1,
   "id": "a3550062",
   "metadata": {},
   "outputs": [
    {
     "data": {
      "text/plain": [
       "'3.3.0'"
      ]
     },
     "execution_count": 1,
     "metadata": {},
     "output_type": "execute_result"
    }
   ],
   "source": [
    "from pyspark.sql import SparkSession\n",
    "\n",
    "spark = SparkSession \\\n",
    "        .builder \\\n",
    "        .appName(\"Aula Interativa 2 - ML\") \\\n",
    "        .getOrCreate()\n",
    "\n",
    "spark.version"
   ]
  },
  {
   "cell_type": "code",
   "execution_count": 2,
   "id": "502cdf73",
   "metadata": {},
   "outputs": [
    {
     "name": "stdout",
     "output_type": "stream",
     "text": [
      "root\n",
      " |-- 0: integer (nullable = true)\n",
      " |-- gender: string (nullable = true)\n",
      " |-- age: double (nullable = true)\n",
      " |-- hypertension: integer (nullable = true)\n",
      " |-- heart_disease: integer (nullable = true)\n",
      " |-- ever_married: string (nullable = true)\n",
      " |-- work_type: string (nullable = true)\n",
      " |-- Residence_type: string (nullable = true)\n",
      " |-- avg_glucose_level: double (nullable = true)\n",
      " |-- bmi: double (nullable = true)\n",
      " |-- smoking_status: string (nullable = true)\n",
      " |-- stroke: integer (nullable = true)\n",
      "\n"
     ]
    }
   ],
   "source": [
    "titanic_df = spark.read.csv('stroke_data.csv', header='True', inferSchema='True')\n",
    "\n",
    "titanic_df.printSchema()"
   ]
  },
  {
   "cell_type": "code",
   "execution_count": 3,
   "id": "e0422a38",
   "metadata": {},
   "outputs": [],
   "source": [
    "from pyspark.ml.feature import StringIndexer, OneHotEncoder\n",
    "\n",
    "gender_indexer = StringIndexer(inputCol='gender', outputCol='GenderIndex')\n",
    "gender_encoder = OneHotEncoder(inputCol='GenderIndex', outputCol='GenderVector')\n"
   ]
  },
  {
   "cell_type": "code",
   "execution_count": 4,
   "id": "ef8f8785",
   "metadata": {},
   "outputs": [],
   "source": [
    "from pyspark.ml.feature import VectorAssembler\n",
    "\n",
    "assembler = VectorAssembler(inputCols=['age', 'hypertension', 'bmi', 'GenderVector'], outputCol='features')\n"
   ]
  },
  {
   "cell_type": "code",
   "execution_count": 5,
   "id": "09e22b83",
   "metadata": {},
   "outputs": [
    {
     "data": {
      "text/plain": [
       "DecisionTreeClassifier_a6c1ac34f248"
      ]
     },
     "execution_count": 5,
     "metadata": {},
     "output_type": "execute_result"
    }
   ],
   "source": [
    "from pyspark.ml.classification import DecisionTreeClassifier\n",
    "\n",
    "classifier = DecisionTreeClassifier(labelCol='stroke', featuresCol='features')\n",
    "\n",
    "classifier"
   ]
  },
  {
   "cell_type": "code",
   "execution_count": 6,
   "id": "eb650f0b",
   "metadata": {},
   "outputs": [],
   "source": [
    "from pyspark.ml import Pipeline\n",
    "\n",
    "pipeline = Pipeline(stages=[gender_indexer, gender_encoder, assembler, classifier])"
   ]
  },
  {
   "cell_type": "code",
   "execution_count": 7,
   "id": "73bb9205",
   "metadata": {},
   "outputs": [],
   "source": [
    "train_data, test_data = titanic_df.randomSplit([0.7, 0.3])"
   ]
  },
  {
   "cell_type": "code",
   "execution_count": 25,
   "id": "72c9332d",
   "metadata": {},
   "outputs": [],
   "source": [
    "# predictSurvivedModel = pipeline.fit(train_data)"
   ]
  },
  {
   "cell_type": "code",
   "execution_count": 12,
   "id": "6563e950",
   "metadata": {},
   "outputs": [
    {
     "data": {
      "text/plain": [
       "29.69911764705882"
      ]
     },
     "execution_count": 12,
     "metadata": {},
     "output_type": "execute_result"
    }
   ],
   "source": [
    "mean_age = titanic_df.agg({'Age': 'mean'}).collect()[0][0]\n",
    "mean_age"
   ]
  },
  {
   "cell_type": "code",
   "execution_count": 13,
   "id": "ca6af02a",
   "metadata": {},
   "outputs": [],
   "source": [
    "titanic_df = titanic_df.fillna(mean_age, subset=['Age'])"
   ]
  },
  {
   "cell_type": "code",
   "execution_count": 9,
   "id": "d40cc60a",
   "metadata": {},
   "outputs": [
    {
     "name": "stdout",
     "output_type": "stream",
     "text": [
      "+------+-----+\n",
      "|gender|count|\n",
      "+------+-----+\n",
      "|Female|39530|\n",
      "| Other|   11|\n",
      "|  Male|27594|\n",
      "+------+-----+\n",
      "\n"
     ]
    }
   ],
   "source": [
    "train_data, test_data = titanic_df.randomSplit([0.7, 0.3])\n",
    "predictSurvivedModel = pipeline.fit(train_data)\n",
    "\n",
    "titanic_df.groupBy('gender').count().show()"
   ]
  },
  {
   "cell_type": "code",
   "execution_count": null,
   "id": "aa3f15c1-3378-4747-9beb-40801c8baf27",
   "metadata": {},
   "outputs": [],
   "source": []
  },
  {
   "cell_type": "code",
   "execution_count": 14,
   "id": "afcd4bb2",
   "metadata": {},
   "outputs": [
    {
     "name": "stdout",
     "output_type": "stream",
     "text": [
      "+--------------------+\n",
      "|            features|\n",
      "+--------------------+\n",
      "|[36.0,0.0,24.7,1....|\n",
      "|[62.0,0.0,31.2,1....|\n",
      "|[41.0,0.0,33.8,1....|\n",
      "|[70.0,0.0,24.4,1....|\n",
      "|[41.0,0.0,34.6,0....|\n",
      "+--------------------+\n",
      "only showing top 5 rows\n",
      "\n"
     ]
    }
   ],
   "source": [
    "predictions = predictSurvivedModel.transform(test_data)\n",
    "predictions.select('features').show(5)\n",
    "\n"
   ]
  },
  {
   "cell_type": "code",
   "execution_count": null,
   "id": "f29fe164-9c82-466a-9e58-c2c24fdb30fd",
   "metadata": {},
   "outputs": [],
   "source": []
  },
  {
   "cell_type": "code",
   "execution_count": 11,
   "id": "cd06f5de-cfe4-4bdd-bb40-4186ea83802a",
   "metadata": {},
   "outputs": [
    {
     "name": "stdout",
     "output_type": "stream",
     "text": [
      "+---+------+----+------------+-------------+------------+-------------+--------------+-----------------+----+---------------+------+-----------+-------------+--------------------+----------------+--------------------+----------+\n",
      "|  0|gender| age|hypertension|heart_disease|ever_married|    work_type|Residence_type|avg_glucose_level| bmi| smoking_status|stroke|GenderIndex| GenderVector|            features|   rawPrediction|         probability|prediction|\n",
      "+---+------+----+------------+-------------+------------+-------------+--------------+-----------------+----+---------------+------+-----------+-------------+--------------------+----------------+--------------------+----------+\n",
      "|  3|Female|36.0|           0|            0|         Yes|     Govt_job|         Urban|            72.63|24.7|         smokes|     0|        0.0|(2,[0],[1.0])|[36.0,0.0,24.7,1....| [5294.0,5647.0]|[0.48386801937665...|       1.0|\n",
      "|  4|Female|62.0|           0|            0|         Yes|Self-employed|         Rural|            85.52|31.2|formerly smoked|     0|        0.0|(2,[0],[1.0])|[62.0,0.0,31.2,1....| [3507.0,7681.0]|[0.31346085091169...|       1.0|\n",
      "|  9|Female|41.0|           0|            0|         Yes|     Govt_job|         Rural|            64.06|33.8|         smokes|     1|        0.0|(2,[0],[1.0])|[41.0,0.0,33.8,1....| [5294.0,5647.0]|[0.48386801937665...|       1.0|\n",
      "| 10|Female|70.0|           0|            0|         Yes|Self-employed|         Rural|            76.34|24.4|formerly smoked|     1|        0.0|(2,[0],[1.0])|[70.0,0.0,24.4,1....| [3507.0,7681.0]|[0.31346085091169...|       1.0|\n",
      "| 16|  Male|41.0|           0|            0|         Yes|Self-employed|         Urban|            159.3|34.6|         smokes|     1|        1.0|(2,[1],[1.0])|[41.0,0.0,34.6,0....| [3456.0,2953.0]|[0.53924169137150...|       0.0|\n",
      "| 19|  Male|69.0|           0|            0|         Yes|      Private|         Rural|            64.06|35.1|formerly smoked|     0|        1.0|(2,[1],[1.0])|[69.0,0.0,35.1,0....| [3507.0,7681.0]|[0.31346085091169...|       1.0|\n",
      "| 21|  Male|16.0|           0|            0|          No|      Private|         Urban|             91.4|29.1|formerly smoked|     0|        1.0|(2,[1],[1.0])|[16.0,0.0,29.1,0....| [3456.0,2953.0]|[0.53924169137150...|       0.0|\n",
      "| 22|  Male|64.0|           1|            0|         Yes|      Private|         Urban|            84.49|31.2|         smokes|     1|        1.0|(2,[1],[1.0])|[64.0,1.0,31.2,0....| [3507.0,7681.0]|[0.31346085091169...|       1.0|\n",
      "| 25|Female|23.0|           0|            0|          No|      Private|         Urban|            87.52|19.5|   never_smoked|     0|        0.0|(2,[0],[1.0])|[23.0,0.0,19.5,1....| [5294.0,5647.0]|[0.48386801937665...|       1.0|\n",
      "| 28|  Male|10.0|           0|            0|          No|     children|         Rural|            127.6|18.0|   never_smoked|     0|        1.0|(2,[1],[1.0])|[10.0,0.0,18.0,0....|  [1125.0,498.0]|[0.69316081330868...|       0.0|\n",
      "| 29|Female|63.0|           1|            0|         Yes|      Private|         Urban|            74.21|25.8|formerly smoked|     1|        0.0|(2,[0],[1.0])|[63.0,1.0,25.8,1....| [3507.0,7681.0]|[0.31346085091169...|       1.0|\n",
      "| 31|  Male|80.0|           0|            1|         Yes|Self-employed|         Urban|           252.72|30.5|formerly smoked|     1|        1.0|(2,[1],[1.0])|[80.0,0.0,30.5,0....|[1798.0,10323.0]|[0.14833759590792...|       1.0|\n",
      "| 34|  Male|56.0|           0|            0|          No|      Private|         Rural|           110.04|24.0|         smokes|     1|        1.0|(2,[1],[1.0])|[56.0,0.0,24.0,0....| [3456.0,2953.0]|[0.53924169137150...|       0.0|\n",
      "| 35|  Male|72.0|           0|            1|         Yes|Self-employed|         Rural|            77.42|27.3|         smokes|     1|        1.0|(2,[1],[1.0])|[72.0,0.0,27.3,0....| [3507.0,7681.0]|[0.31346085091169...|       1.0|\n",
      "| 38|Female|82.0|           1|            1|          No|      Private|         Rural|            84.03|26.5|formerly smoked|     1|        0.0|(2,[0],[1.0])|[82.0,1.0,26.5,1....|[1798.0,10323.0]|[0.14833759590792...|       1.0|\n",
      "| 39|  Male|64.0|           0|            0|         Yes|Self-employed|         Rural|           111.98|31.2|formerly smoked|     1|        1.0|(2,[1],[1.0])|[64.0,0.0,31.2,0....| [3507.0,7681.0]|[0.31346085091169...|       1.0|\n",
      "| 40|Female|78.0|           1|            0|         Yes|      Private|         Urban|           125.65|22.8|   never_smoked|     0|        0.0|(2,[0],[1.0])|[78.0,1.0,22.8,1....|[1798.0,10323.0]|[0.14833759590792...|       1.0|\n",
      "| 41|  Male|78.0|           0|            0|         Yes|      Private|         Urban|           208.85|24.4|formerly smoked|     0|        1.0|(2,[1],[1.0])|[78.0,0.0,24.4,0....|[1798.0,10323.0]|[0.14833759590792...|       1.0|\n",
      "| 46|Female|67.0|           1|            1|         Yes|      Private|         Rural|           199.24|33.9|         smokes|     1|        0.0|(2,[0],[1.0])|[67.0,1.0,33.9,1....| [3507.0,7681.0]|[0.31346085091169...|       1.0|\n",
      "| 47|Female|66.0|           0|            0|         Yes|      Private|         Urban|            81.06|29.3|formerly smoked|     1|        0.0|(2,[0],[1.0])|[66.0,0.0,29.3,1....| [3507.0,7681.0]|[0.31346085091169...|       1.0|\n",
      "+---+------+----+------------+-------------+------------+-------------+--------------+-----------------+----+---------------+------+-----------+-------------+--------------------+----------------+--------------------+----------+\n",
      "only showing top 20 rows\n",
      "\n"
     ]
    }
   ],
   "source": [
    "predictions.show()"
   ]
  },
  {
   "cell_type": "code",
   "execution_count": 12,
   "id": "f2187111",
   "metadata": {},
   "outputs": [
    {
     "data": {
      "text/plain": [
       "0.6935131918270184"
      ]
     },
     "execution_count": 12,
     "metadata": {},
     "output_type": "execute_result"
    }
   ],
   "source": [
    "from pyspark.ml.evaluation import MulticlassClassificationEvaluator\n",
    "\n",
    "evaluator = MulticlassClassificationEvaluator(labelCol='stroke', predictionCol='prediction', metricName='accuracy')\n",
    "accuracy = evaluator.evaluate(predictions)\n",
    "\n",
    "accuracy\n",
    "\n"
   ]
  },
  {
   "cell_type": "code",
   "execution_count": 13,
   "id": "9516aac0-2bdf-478f-b7e8-dc7d8361ac9e",
   "metadata": {},
   "outputs": [
    {
     "data": {
      "text/plain": [
       "DecisionTreeClassificationModel: uid=DecisionTreeClassifier_a6c1ac34f248, depth=5, numNodes=15, numClasses=2, numFeatures=5"
      ]
     },
     "execution_count": 13,
     "metadata": {},
     "output_type": "execute_result"
    }
   ],
   "source": [
    "predictSurvivedModel.stages[-1]\n"
   ]
  },
  {
   "cell_type": "code",
   "execution_count": 27,
   "id": "03b11af2",
   "metadata": {},
   "outputs": [
    {
     "data": {
      "text/plain": [
       "5"
      ]
     },
     "execution_count": 27,
     "metadata": {},
     "output_type": "execute_result"
    }
   ],
   "source": [
    "decisionTreeModel = predictSurvivedModel.stages[-1]\n",
    "decisionTreeModel.depth"
   ]
  },
  {
   "cell_type": "code",
   "execution_count": 22,
   "id": "125ac7cb",
   "metadata": {},
   "outputs": [
    {
     "data": {
      "text/plain": [
       "'DecisionTreeClassificationModel: uid=DecisionTreeClassifier_41c1d1b89e13, depth=5, numNodes=25, numClasses=2, numFeatures=4\\n  If (feature 3 in {1.0})\\n   If (feature 0 <= 14.5)\\n    If (feature 1 <= 2.5)\\n     Predict: 1.0\\n    Else (feature 1 > 2.5)\\n     If (feature 2 <= 20.7875)\\n      Predict: 1.0\\n     Else (feature 2 > 20.7875)\\n      Predict: 0.0\\n   Else (feature 0 > 14.5)\\n    Predict: 0.0\\n  Else (feature 3 not in {1.0})\\n   If (feature 1 <= 2.5)\\n    If (feature 0 <= 2.5)\\n     If (feature 1 <= 1.5)\\n      Predict: 0.0\\n     Else (feature 1 > 1.5)\\n      Predict: 1.0\\n    Else (feature 0 > 2.5)\\n     Predict: 1.0\\n   Else (feature 1 > 2.5)\\n    If (feature 2 <= 25.527099999999997)\\n     If (feature 0 <= 33.5)\\n      Predict: 1.0\\n     Else (feature 0 > 33.5)\\n      If (feature 0 <= 48.5)\\n       Predict: 0.0\\n      Else (feature 0 > 48.5)\\n       Predict: 1.0\\n    Else (feature 2 > 25.527099999999997)\\n     If (feature 0 <= 7.5)\\n      If (feature 2 <= 31.331249999999997)\\n       Predict: 0.0\\n      Else (feature 2 > 31.331249999999997)\\n       Predict: 1.0\\n     Else (feature 0 > 7.5)\\n      Predict: 0.0\\n'"
      ]
     },
     "execution_count": 22,
     "metadata": {},
     "output_type": "execute_result"
    }
   ],
   "source": [
    "decisionTreeModel.toDebugString"
   ]
  },
  {
   "cell_type": "code",
   "execution_count": 23,
   "id": "b6c857a2",
   "metadata": {},
   "outputs": [
    {
     "data": {
      "text/plain": [
       "SparseVector(4, {0: 0.0989, 1: 0.1736, 2: 0.0803, 3: 0.6473})"
      ]
     },
     "execution_count": 23,
     "metadata": {},
     "output_type": "execute_result"
    }
   ],
   "source": [
    "decisionTreeModel.featureImportances"
   ]
  },
  {
   "cell_type": "code",
   "execution_count": 24,
   "id": "5a5789da",
   "metadata": {},
   "outputs": [
    {
     "data": {
      "text/plain": [
       "[('Age', 0.09885218781275795),\n",
       " ('Pclass', 0.17357724994481527),\n",
       " ('Fare', 0.08027004487359246),\n",
       " ('SexVector', 0.6473005173688343)]"
      ]
     },
     "execution_count": 24,
     "metadata": {},
     "output_type": "execute_result"
    }
   ],
   "source": [
    "list(zip(assembler.getInputCols(), decisionTreeModel.featureImportances))"
   ]
  },
  {
   "cell_type": "code",
   "execution_count": null,
   "id": "4ea1a62b",
   "metadata": {},
   "outputs": [],
   "source": []
  },
  {
   "cell_type": "code",
   "execution_count": null,
   "id": "21b9373d-9c3a-40bc-96ea-83d9d7ae7ba2",
   "metadata": {},
   "outputs": [],
   "source": []
  }
 ],
 "metadata": {
  "kernelspec": {
   "display_name": "Python 3 (ipykernel)",
   "language": "python",
   "name": "python3"
  },
  "language_info": {
   "codemirror_mode": {
    "name": "ipython",
    "version": 3
   },
   "file_extension": ".py",
   "mimetype": "text/x-python",
   "name": "python",
   "nbconvert_exporter": "python",
   "pygments_lexer": "ipython3",
   "version": "3.10.4"
  }
 },
 "nbformat": 4,
 "nbformat_minor": 5
}
