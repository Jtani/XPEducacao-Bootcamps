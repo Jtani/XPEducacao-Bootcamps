{
 "cells": [
  {
   "cell_type": "markdown",
   "id": "a6f8bde6-0a01-4312-8f78-021833ce431e",
   "metadata": {},
   "source": [
    "# Desafio do Módulo 2 - Cientista de Dados - XP Educação"
   ]
  },
  {
   "cell_type": "markdown",
   "id": "41d664e2-364a-4179-b2c7-00b061540004",
   "metadata": {},
   "source": [
    "## Passos iniciais\n",
    "- Importando as bibliotecas\n",
    "- Carregando o dataset (stroke_data.csv)\n",
    "- Verificando informações do dataset"
   ]
  },
  {
   "cell_type": "code",
   "execution_count": 32,
   "id": "1deb98dd-d788-48fb-9b6b-24d58d5c66a9",
   "metadata": {},
   "outputs": [],
   "source": [
    "import pandas as pd\n",
    "import os"
   ]
  },
  {
   "cell_type": "code",
   "execution_count": 33,
   "id": "6850b2a0-f46e-42ca-aef8-f3a0ae3d53bd",
   "metadata": {},
   "outputs": [
    {
     "data": {
      "text/html": [
       "<div>\n",
       "<style scoped>\n",
       "    .dataframe tbody tr th:only-of-type {\n",
       "        vertical-align: middle;\n",
       "    }\n",
       "\n",
       "    .dataframe tbody tr th {\n",
       "        vertical-align: top;\n",
       "    }\n",
       "\n",
       "    .dataframe thead th {\n",
       "        text-align: right;\n",
       "    }\n",
       "</style>\n",
       "<table border=\"1\" class=\"dataframe\">\n",
       "  <thead>\n",
       "    <tr style=\"text-align: right;\">\n",
       "      <th></th>\n",
       "      <th>gender</th>\n",
       "      <th>age</th>\n",
       "      <th>hypertension</th>\n",
       "      <th>heart_disease</th>\n",
       "      <th>ever_married</th>\n",
       "      <th>work_type</th>\n",
       "      <th>Residence_type</th>\n",
       "      <th>avg_glucose_level</th>\n",
       "      <th>bmi</th>\n",
       "      <th>smoking_status</th>\n",
       "      <th>stroke</th>\n",
       "    </tr>\n",
       "    <tr>\n",
       "      <th>0</th>\n",
       "      <th></th>\n",
       "      <th></th>\n",
       "      <th></th>\n",
       "      <th></th>\n",
       "      <th></th>\n",
       "      <th></th>\n",
       "      <th></th>\n",
       "      <th></th>\n",
       "      <th></th>\n",
       "      <th></th>\n",
       "      <th></th>\n",
       "    </tr>\n",
       "  </thead>\n",
       "  <tbody>\n",
       "    <tr>\n",
       "      <th>1</th>\n",
       "      <td>Female</td>\n",
       "      <td>18.0</td>\n",
       "      <td>0</td>\n",
       "      <td>0</td>\n",
       "      <td>No</td>\n",
       "      <td>Private</td>\n",
       "      <td>Urban</td>\n",
       "      <td>94.19</td>\n",
       "      <td>12.12</td>\n",
       "      <td>smokes</td>\n",
       "      <td>1</td>\n",
       "    </tr>\n",
       "    <tr>\n",
       "      <th>2</th>\n",
       "      <td>Male</td>\n",
       "      <td>58.0</td>\n",
       "      <td>1</td>\n",
       "      <td>0</td>\n",
       "      <td>Yes</td>\n",
       "      <td>Private</td>\n",
       "      <td>Rural</td>\n",
       "      <td>154.24</td>\n",
       "      <td>33.70</td>\n",
       "      <td>never_smoked</td>\n",
       "      <td>0</td>\n",
       "    </tr>\n",
       "    <tr>\n",
       "      <th>3</th>\n",
       "      <td>Female</td>\n",
       "      <td>36.0</td>\n",
       "      <td>0</td>\n",
       "      <td>0</td>\n",
       "      <td>Yes</td>\n",
       "      <td>Govt_job</td>\n",
       "      <td>Urban</td>\n",
       "      <td>72.63</td>\n",
       "      <td>24.70</td>\n",
       "      <td>smokes</td>\n",
       "      <td>0</td>\n",
       "    </tr>\n",
       "    <tr>\n",
       "      <th>4</th>\n",
       "      <td>Female</td>\n",
       "      <td>62.0</td>\n",
       "      <td>0</td>\n",
       "      <td>0</td>\n",
       "      <td>Yes</td>\n",
       "      <td>Self-employed</td>\n",
       "      <td>Rural</td>\n",
       "      <td>85.52</td>\n",
       "      <td>31.20</td>\n",
       "      <td>formerly smoked</td>\n",
       "      <td>0</td>\n",
       "    </tr>\n",
       "    <tr>\n",
       "      <th>5</th>\n",
       "      <td>Female</td>\n",
       "      <td>82.0</td>\n",
       "      <td>0</td>\n",
       "      <td>0</td>\n",
       "      <td>Yes</td>\n",
       "      <td>Private</td>\n",
       "      <td>Rural</td>\n",
       "      <td>59.32</td>\n",
       "      <td>33.20</td>\n",
       "      <td>smokes</td>\n",
       "      <td>1</td>\n",
       "    </tr>\n",
       "  </tbody>\n",
       "</table>\n",
       "</div>"
      ],
      "text/plain": [
       "   gender   age  hypertension  heart_disease ever_married      work_type  \\\n",
       "0                                                                          \n",
       "1  Female  18.0             0              0           No        Private   \n",
       "2    Male  58.0             1              0          Yes        Private   \n",
       "3  Female  36.0             0              0          Yes       Govt_job   \n",
       "4  Female  62.0             0              0          Yes  Self-employed   \n",
       "5  Female  82.0             0              0          Yes        Private   \n",
       "\n",
       "  Residence_type  avg_glucose_level    bmi   smoking_status  stroke  \n",
       "0                                                                    \n",
       "1          Urban              94.19  12.12           smokes       1  \n",
       "2          Rural             154.24  33.70     never_smoked       0  \n",
       "3          Urban              72.63  24.70           smokes       0  \n",
       "4          Rural              85.52  31.20  formerly smoked       0  \n",
       "5          Rural              59.32  33.20           smokes       1  "
      ]
     },
     "execution_count": 33,
     "metadata": {},
     "output_type": "execute_result"
    }
   ],
   "source": [
    "df = pd.read_csv(\"stroke_data.csv\", index_col= \"0\")\n",
    "df.head()"
   ]
  },
  {
   "cell_type": "code",
   "execution_count": 34,
   "id": "db201f1a-46f8-467a-8d37-46424c669b46",
   "metadata": {},
   "outputs": [],
   "source": [
    "# Separando os dados com as variaveis em x e o alvo em y\n",
    " \n",
    "x = df.drop('stroke', axis=1)\n",
    "y = df['stroke']"
   ]
  },
  {
   "cell_type": "code",
   "execution_count": 35,
   "id": "15aa1779-ba3d-4b6a-8a47-120e3a37dda3",
   "metadata": {},
   "outputs": [],
   "source": [
    "var = [\"age\", \"hypertension\", \"heart_disease\", \"avg_glucose_level\", \"bmi\"]\n",
    "x = df[var]"
   ]
  },
  {
   "cell_type": "code",
   "execution_count": 36,
   "id": "5acba327-6029-46bc-b285-024e26b42e49",
   "metadata": {},
   "outputs": [],
   "source": [
    "from sklearn.model_selection import train_test_split\n",
    "\n",
    "x_train, x_test, y_train, y_test = train_test_split(x, y, test_size=0.30)"
   ]
  },
  {
   "cell_type": "code",
   "execution_count": 37,
   "id": "2a921d47-1116-4226-8575-c76d161517be",
   "metadata": {},
   "outputs": [
    {
     "data": {
      "text/plain": [
       "DecisionTreeClassifier()"
      ]
     },
     "execution_count": 37,
     "metadata": {},
     "output_type": "execute_result"
    }
   ],
   "source": [
    "from sklearn.tree import DecisionTreeClassifier\n",
    "\n",
    "mod_arvore1 = DecisionTreeClassifier()\n",
    "\n",
    "mod_arvore1.fit(x_train, y_train) # essa é a linha que treina o modelo!!!!"
   ]
  },
  {
   "cell_type": "code",
   "execution_count": 38,
   "id": "ae4c8e20-f887-4894-9823-84496b291f60",
   "metadata": {},
   "outputs": [],
   "source": [
    "# Prediçoes para o teste\n",
    "\n",
    "y_pred_test1 = mod_arvore1.predict(x_test)"
   ]
  },
  {
   "cell_type": "code",
   "execution_count": 39,
   "id": "6cf82083-99b8-41d5-abbf-1c6d48d0dd08",
   "metadata": {},
   "outputs": [
    {
     "name": "stdout",
     "output_type": "stream",
     "text": [
      "[[5192 2766]\n",
      " [2822 9361]]\n",
      "\n",
      "--------------------------------------------------------------------------------\n",
      "\n",
      "              precision    recall  f1-score   support\n",
      "\n",
      "           0       0.65      0.65      0.65      7958\n",
      "           1       0.77      0.77      0.77     12183\n",
      "\n",
      "    accuracy                           0.72     20141\n",
      "   macro avg       0.71      0.71      0.71     20141\n",
      "weighted avg       0.72      0.72      0.72     20141\n",
      "\n"
     ]
    }
   ],
   "source": [
    "# Como availar os resultados?\n",
    "\n",
    "from sklearn.metrics import classification_report, confusion_matrix\n",
    "\n",
    "print(confusion_matrix(y_test, y_pred_test1))\n",
    "print()\n",
    "print(\"--------------------------------------------------------------------------------\")\n",
    "print()\n",
    "print(classification_report(y_test, y_pred_test1))"
   ]
  },
  {
   "cell_type": "code",
   "execution_count": 40,
   "id": "60ba6347-6fca-4fb6-be08-8d1485986b91",
   "metadata": {},
   "outputs": [
    {
     "name": "stdout",
     "output_type": "stream",
     "text": [
      "Acuracia: 0.723\n"
     ]
    }
   ],
   "source": [
    "# Acuràcia do modelo\n",
    "import sklearn.metrics as metrics\n",
    "\n",
    "print(\"Acuracia:\", round(metrics.accuracy_score(y_test, y_pred_test1),3))"
   ]
  },
  {
   "cell_type": "code",
   "execution_count": null,
   "id": "e955746e-3e6b-43e8-8747-62dd0dd8e314",
   "metadata": {},
   "outputs": [],
   "source": []
  }
 ],
 "metadata": {
  "kernelspec": {
   "display_name": "Python 3 (ipykernel)",
   "language": "python",
   "name": "python3"
  },
  "language_info": {
   "codemirror_mode": {
    "name": "ipython",
    "version": 3
   },
   "file_extension": ".py",
   "mimetype": "text/x-python",
   "name": "python",
   "nbconvert_exporter": "python",
   "pygments_lexer": "ipython3",
   "version": "3.10.4"
  }
 },
 "nbformat": 4,
 "nbformat_minor": 5
}
