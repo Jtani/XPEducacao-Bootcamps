{
 "cells": [
  {
   "cell_type": "markdown",
   "id": "de732f2b-6fae-4690-9e8a-9109ebce3897",
   "metadata": {},
   "source": [
    "# Trabalho Prático 2 - Ciência de Dados - XP Educação"
   ]
  },
  {
   "cell_type": "markdown",
   "id": "9e3a94b5-a993-4697-969c-2a84cae9d9ee",
   "metadata": {},
   "source": [
    "## Carregando as bibliotecas"
   ]
  },
  {
   "cell_type": "code",
   "execution_count": 1,
   "id": "79c4573a-4c3b-45ab-90e8-0484f0e71588",
   "metadata": {},
   "outputs": [],
   "source": [
    "import sys\n",
    "from operator import add\n",
    "\n",
    "from pyspark.sql import SparkSession\n",
    "import os"
   ]
  },
  {
   "cell_type": "code",
   "execution_count": 2,
   "id": "0170b6ca-81bf-4c51-8fad-2cafb052b650",
   "metadata": {},
   "outputs": [],
   "source": [
    "os.chdir(\"C:\\\\Users\\\\jooji\\\\OMNP\\\\XP-Cursos\\\\CienciaDados-R\")"
   ]
  },
  {
   "cell_type": "code",
   "execution_count": 8,
   "id": "dde66b8c-135c-4522-affc-273a733b728a",
   "metadata": {},
   "outputs": [],
   "source": [
    "spark = SparkSession.builder\\\n",
    "            .master(\"local[*]\")\\\n",
    "          .getOrCreate()\n",
    "\n",
    "df = (spark.read\n",
    "  .format(\"csv\")\n",
    "  .option(\"header\", \"true\")\n",
    "  .option(\"inferSchema\", \"true\")\n",
    "  .load(\"all_stocks_5yr.csv\")\n",
    ")\n"
   ]
  },
  {
   "cell_type": "code",
   "execution_count": 9,
   "id": "33f77756-74e0-42c6-a354-b34691cd99e6",
   "metadata": {},
   "outputs": [
    {
     "name": "stdout",
     "output_type": "stream",
     "text": [
      "root\n",
      " |-- date: timestamp (nullable = true)\n",
      " |-- open: double (nullable = true)\n",
      " |-- high: double (nullable = true)\n",
      " |-- low: double (nullable = true)\n",
      " |-- close: double (nullable = true)\n",
      " |-- volume: integer (nullable = true)\n",
      " |-- Name: string (nullable = true)\n",
      "\n"
     ]
    }
   ],
   "source": [
    "df.printSchema()"
   ]
  },
  {
   "cell_type": "code",
   "execution_count": 4,
   "id": "f33f9ba3-ff14-4e9c-8ebd-7b28ef50bed7",
   "metadata": {},
   "outputs": [
    {
     "name": "stdout",
     "output_type": "stream",
     "text": [
      "+-------------------+-----+-----+-----+-----+--------+----+\n",
      "|               date| open| high|  low|close|  volume|Name|\n",
      "+-------------------+-----+-----+-----+-----+--------+----+\n",
      "|2013-02-08 00:00:00|15.07|15.12|14.63|14.75| 8407500| AAL|\n",
      "|2013-02-11 00:00:00|14.89|15.01|14.26|14.46| 8882000| AAL|\n",
      "|2013-02-12 00:00:00|14.45|14.51| 14.1|14.27| 8126000| AAL|\n",
      "|2013-02-13 00:00:00| 14.3|14.94|14.25|14.66|10259500| AAL|\n",
      "|2013-02-14 00:00:00|14.94|14.96|13.16|13.99|31879900| AAL|\n",
      "|2013-02-15 00:00:00|13.93|14.61|13.93| 14.5|15628000| AAL|\n",
      "|2013-02-19 00:00:00|14.33|14.56|14.08|14.26|11354400| AAL|\n",
      "|2013-02-20 00:00:00|14.17|14.26|13.15|13.33|14725200| AAL|\n",
      "|2013-02-21 00:00:00|13.62|13.95| 12.9|13.37|11922100| AAL|\n",
      "|2013-02-22 00:00:00|13.57| 13.6|13.21|13.57| 6071400| AAL|\n",
      "|2013-02-25 00:00:00| 13.6|13.76| 13.0|13.02| 7186400| AAL|\n",
      "|2013-02-26 00:00:00|13.14|13.42| 12.7|13.26| 9419000| AAL|\n",
      "|2013-02-27 00:00:00|13.28|13.62|13.18|13.41| 7390500| AAL|\n",
      "|2013-02-28 00:00:00|13.49|13.63|13.39|13.43| 6143600| AAL|\n",
      "|2013-03-01 00:00:00|13.37|13.95|13.32|13.61| 7376800| AAL|\n",
      "|2013-03-04 00:00:00| 13.5|14.07|13.47| 13.9| 8174800| AAL|\n",
      "|2013-03-05 00:00:00|14.01|14.05|13.71|14.05| 7676100| AAL|\n",
      "|2013-03-06 00:00:00|14.52|14.68|14.25|14.57|13243200| AAL|\n",
      "|2013-03-07 00:00:00| 14.7|14.93| 14.5|14.82| 9125300| AAL|\n",
      "|2013-03-08 00:00:00|14.99| 15.2|14.84|14.92|10593700| AAL|\n",
      "+-------------------+-----+-----+-----+-----+--------+----+\n",
      "only showing top 20 rows\n",
      "\n"
     ]
    }
   ],
   "source": [
    "df.show()"
   ]
  },
  {
   "cell_type": "code",
   "execution_count": 5,
   "id": "c0c92e69-679e-4b4c-a50c-139f18882ed0",
   "metadata": {},
   "outputs": [
    {
     "data": {
      "text/html": [
       "<div>\n",
       "<style scoped>\n",
       "    .dataframe tbody tr th:only-of-type {\n",
       "        vertical-align: middle;\n",
       "    }\n",
       "\n",
       "    .dataframe tbody tr th {\n",
       "        vertical-align: top;\n",
       "    }\n",
       "\n",
       "    .dataframe thead th {\n",
       "        text-align: right;\n",
       "    }\n",
       "</style>\n",
       "<table border=\"1\" class=\"dataframe\">\n",
       "  <thead>\n",
       "    <tr style=\"text-align: right;\">\n",
       "      <th></th>\n",
       "      <th>date</th>\n",
       "      <th>open</th>\n",
       "      <th>high</th>\n",
       "      <th>low</th>\n",
       "      <th>close</th>\n",
       "      <th>volume</th>\n",
       "      <th>Name</th>\n",
       "    </tr>\n",
       "  </thead>\n",
       "  <tbody>\n",
       "    <tr>\n",
       "      <th>0</th>\n",
       "      <td>2013-02-08</td>\n",
       "      <td>15.07</td>\n",
       "      <td>15.12</td>\n",
       "      <td>14.63</td>\n",
       "      <td>14.75</td>\n",
       "      <td>8407500</td>\n",
       "      <td>AAL</td>\n",
       "    </tr>\n",
       "    <tr>\n",
       "      <th>1</th>\n",
       "      <td>2013-02-11</td>\n",
       "      <td>14.89</td>\n",
       "      <td>15.01</td>\n",
       "      <td>14.26</td>\n",
       "      <td>14.46</td>\n",
       "      <td>8882000</td>\n",
       "      <td>AAL</td>\n",
       "    </tr>\n",
       "    <tr>\n",
       "      <th>2</th>\n",
       "      <td>2013-02-12</td>\n",
       "      <td>14.45</td>\n",
       "      <td>14.51</td>\n",
       "      <td>14.10</td>\n",
       "      <td>14.27</td>\n",
       "      <td>8126000</td>\n",
       "      <td>AAL</td>\n",
       "    </tr>\n",
       "    <tr>\n",
       "      <th>3</th>\n",
       "      <td>2013-02-13</td>\n",
       "      <td>14.30</td>\n",
       "      <td>14.94</td>\n",
       "      <td>14.25</td>\n",
       "      <td>14.66</td>\n",
       "      <td>10259500</td>\n",
       "      <td>AAL</td>\n",
       "    </tr>\n",
       "    <tr>\n",
       "      <th>4</th>\n",
       "      <td>2013-02-14</td>\n",
       "      <td>14.94</td>\n",
       "      <td>14.96</td>\n",
       "      <td>13.16</td>\n",
       "      <td>13.99</td>\n",
       "      <td>31879900</td>\n",
       "      <td>AAL</td>\n",
       "    </tr>\n",
       "    <tr>\n",
       "      <th>5</th>\n",
       "      <td>2013-02-15</td>\n",
       "      <td>13.93</td>\n",
       "      <td>14.61</td>\n",
       "      <td>13.93</td>\n",
       "      <td>14.50</td>\n",
       "      <td>15628000</td>\n",
       "      <td>AAL</td>\n",
       "    </tr>\n",
       "    <tr>\n",
       "      <th>6</th>\n",
       "      <td>2013-02-19</td>\n",
       "      <td>14.33</td>\n",
       "      <td>14.56</td>\n",
       "      <td>14.08</td>\n",
       "      <td>14.26</td>\n",
       "      <td>11354400</td>\n",
       "      <td>AAL</td>\n",
       "    </tr>\n",
       "    <tr>\n",
       "      <th>7</th>\n",
       "      <td>2013-02-20</td>\n",
       "      <td>14.17</td>\n",
       "      <td>14.26</td>\n",
       "      <td>13.15</td>\n",
       "      <td>13.33</td>\n",
       "      <td>14725200</td>\n",
       "      <td>AAL</td>\n",
       "    </tr>\n",
       "    <tr>\n",
       "      <th>8</th>\n",
       "      <td>2013-02-21</td>\n",
       "      <td>13.62</td>\n",
       "      <td>13.95</td>\n",
       "      <td>12.90</td>\n",
       "      <td>13.37</td>\n",
       "      <td>11922100</td>\n",
       "      <td>AAL</td>\n",
       "    </tr>\n",
       "    <tr>\n",
       "      <th>9</th>\n",
       "      <td>2013-02-22</td>\n",
       "      <td>13.57</td>\n",
       "      <td>13.60</td>\n",
       "      <td>13.21</td>\n",
       "      <td>13.57</td>\n",
       "      <td>6071400</td>\n",
       "      <td>AAL</td>\n",
       "    </tr>\n",
       "  </tbody>\n",
       "</table>\n",
       "</div>"
      ],
      "text/plain": [
       "        date   open   high    low  close    volume Name\n",
       "0 2013-02-08  15.07  15.12  14.63  14.75   8407500  AAL\n",
       "1 2013-02-11  14.89  15.01  14.26  14.46   8882000  AAL\n",
       "2 2013-02-12  14.45  14.51  14.10  14.27   8126000  AAL\n",
       "3 2013-02-13  14.30  14.94  14.25  14.66  10259500  AAL\n",
       "4 2013-02-14  14.94  14.96  13.16  13.99  31879900  AAL\n",
       "5 2013-02-15  13.93  14.61  13.93  14.50  15628000  AAL\n",
       "6 2013-02-19  14.33  14.56  14.08  14.26  11354400  AAL\n",
       "7 2013-02-20  14.17  14.26  13.15  13.33  14725200  AAL\n",
       "8 2013-02-21  13.62  13.95  12.90  13.37  11922100  AAL\n",
       "9 2013-02-22  13.57  13.60  13.21  13.57   6071400  AAL"
      ]
     },
     "execution_count": 5,
     "metadata": {},
     "output_type": "execute_result"
    }
   ],
   "source": [
    "df.limit(10).toPandas()"
   ]
  },
  {
   "cell_type": "markdown",
   "id": "934ac55c-670a-4296-ac85-eb1e3b504fc5",
   "metadata": {},
   "source": [
    "## 1) Quantos registros há na planilha?"
   ]
  },
  {
   "cell_type": "code",
   "execution_count": 6,
   "id": "4f7d4dd3-701f-452d-a4bf-2d89911c7dd2",
   "metadata": {},
   "outputs": [
    {
     "name": "stdout",
     "output_type": "stream",
     "text": [
      "+-------+-----------------+-----------------+-----------------+-----------------+-----------------+------+\n",
      "|summary|             open|             high|              low|            close|           volume|  Name|\n",
      "+-------+-----------------+-----------------+-----------------+-----------------+-----------------+------+\n",
      "|  count|           619029|           619032|           619032|           619040|           619040|619040|\n",
      "|   mean|83.02333431454738| 83.7783106934728|82.25609641375341|83.04376276476505|4321823.395568945|  null|\n",
      "| stddev|97.37876904332335|98.20751890446381|96.50742105809039|97.38974800165816|8693609.511967558|  null|\n",
      "|    min|             1.62|             1.69|              1.5|             1.59|                0|     A|\n",
      "|    max|           2044.0|          2067.99|          2035.11|           2049.0|        618237630|   ZTS|\n",
      "+-------+-----------------+-----------------+-----------------+-----------------+-----------------+------+\n",
      "\n"
     ]
    }
   ],
   "source": [
    "df.describe().show()"
   ]
  },
  {
   "cell_type": "code",
   "execution_count": 7,
   "id": "67b268de-4481-4d12-8a61-4f539f672298",
   "metadata": {},
   "outputs": [
    {
     "data": {
      "text/plain": [
       "619040"
      ]
     },
     "execution_count": 7,
     "metadata": {},
     "output_type": "execute_result"
    }
   ],
   "source": [
    "totalRegistros = df.cache().count()\n",
    "totalRegistros"
   ]
  },
  {
   "cell_type": "markdown",
   "id": "5a38ce70-d7a9-47f0-9b35-49a05ac96eaa",
   "metadata": {},
   "source": [
    "### Resposta: 619040"
   ]
  },
  {
   "cell_type": "markdown",
   "id": "a6a860f2-2ce0-49f0-90e5-d161f3a9fa13",
   "metadata": {},
   "source": [
    "## 2) Quantos registros há na planilha para a ação da Apple (AAPL)?"
   ]
  },
  {
   "cell_type": "code",
   "execution_count": 8,
   "id": "49c328d1-1659-4127-a9ca-5a17b5ce248d",
   "metadata": {},
   "outputs": [
    {
     "name": "stdout",
     "output_type": "stream",
     "text": [
      "+-------+------------------+------------------+------------------+------------------+-------------------+----+\n",
      "|summary|              open|              high|               low|             close|             volume|Name|\n",
      "+-------+------------------+------------------+------------------+------------------+-------------------+----+\n",
      "|  count|              1259|              1259|              1259|              1259|               1259|1259|\n",
      "|   mean|109.05542891183475|109.95111834789516|108.14158888006372|109.06669849086583|5.404789973550437E7|null|\n",
      "| stddev| 30.54922002458826|30.686186407983914|30.376223585852472|30.556811676964696|  3.3468353335784E7|null|\n",
      "|    min|           55.4242|           57.0857|           55.0142|           55.7899|           11475922|AAPL|\n",
      "|    max|            179.37|             180.1|            178.25|            179.26|          266833581|AAPL|\n",
      "+-------+------------------+------------------+------------------+------------------+-------------------+----+\n",
      "\n"
     ]
    }
   ],
   "source": [
    "df.filter(df.Name=='AAPL').describe().show()"
   ]
  },
  {
   "cell_type": "markdown",
   "id": "70c2a794-d8ec-4778-85f0-e48b2f62de29",
   "metadata": {},
   "source": [
    "### Resposta: 1259"
   ]
  },
  {
   "cell_type": "markdown",
   "id": "ee815dbd-b85b-4d2c-b358-f026398d4734",
   "metadata": {},
   "source": [
    "## 3) Quantas empresas distintas têm registros nessa planilha?"
   ]
  },
  {
   "cell_type": "code",
   "execution_count": 83,
   "id": "e7b2fe08-3ca1-4145-acf9-27a58cc88ace",
   "metadata": {},
   "outputs": [
    {
     "name": "stdout",
     "output_type": "stream",
     "text": [
      "+----+-----+\n",
      "|Name|count|\n",
      "+----+-----+\n",
      "|ALXN| 1259|\n",
      "| AIV| 1259|\n",
      "| AVY| 1259|\n",
      "|BF.B| 1259|\n",
      "| AXP| 1259|\n",
      "| BLK| 1259|\n",
      "|AAPL| 1259|\n",
      "| ALL| 1259|\n",
      "| ADI| 1259|\n",
      "| AGN| 1259|\n",
      "|AMGN| 1259|\n",
      "|ANTM| 1259|\n",
      "| AOS| 1259|\n",
      "|ANDV| 1259|\n",
      "| ACN| 1259|\n",
      "| ARE| 1259|\n",
      "| AIG| 1259|\n",
      "| AFL| 1259|\n",
      "| APH| 1259|\n",
      "| AME| 1259|\n",
      "+----+-----+\n",
      "only showing top 20 rows\n",
      "\n"
     ]
    }
   ],
   "source": [
    "df.groupBy([\"Name\"]).count().show()"
   ]
  },
  {
   "cell_type": "code",
   "execution_count": 85,
   "id": "d7046863-6a9c-4c6c-be17-1ed9ea8552d8",
   "metadata": {},
   "outputs": [
    {
     "data": {
      "text/plain": [
       "505"
      ]
     },
     "execution_count": 85,
     "metadata": {},
     "output_type": "execute_result"
    }
   ],
   "source": [
    "df.select('Name').distinct().count()"
   ]
  },
  {
   "cell_type": "markdown",
   "id": "863de3ce-c4db-4607-aa3b-6c1d30e5a4bc",
   "metadata": {},
   "source": [
    "### Resposta: 505"
   ]
  },
  {
   "cell_type": "markdown",
   "id": "781174f4-5fc2-422e-8d1e-4d2499bfd850",
   "metadata": {},
   "source": [
    "## 4) Com qual frequência o preço de uma ação no fechamento é maior do que o preço na abertura?\n"
   ]
  },
  {
   "cell_type": "code",
   "execution_count": 11,
   "id": "539e8617-8327-45d7-9354-38dad56abddc",
   "metadata": {},
   "outputs": [],
   "source": [
    "fechamentoMaior = df.filter(df.close > df.open).count()"
   ]
  },
  {
   "cell_type": "code",
   "execution_count": 12,
   "id": "6f5e92e4-1176-4ea6-9953-13eabf1d0a58",
   "metadata": {},
   "outputs": [
    {
     "data": {
      "text/plain": [
       "51.52655724993538"
      ]
     },
     "execution_count": 12,
     "metadata": {},
     "output_type": "execute_result"
    }
   ],
   "source": [
    "fechamentoMaior/totalRegistros*100"
   ]
  },
  {
   "cell_type": "markdown",
   "id": "53aeb494-1408-49b9-8921-ead83baf6f5e",
   "metadata": {},
   "source": [
    "#### Resposta: 51.5%"
   ]
  },
  {
   "cell_type": "markdown",
   "id": "104d5d81-942d-49b1-b367-9e0bf06f7a01",
   "metadata": {},
   "source": [
    "## 5) Qual o maior valor das ações da Apple (AAPL) na história?\n"
   ]
  },
  {
   "cell_type": "code",
   "execution_count": 13,
   "id": "2646546b-d5c7-4568-98b2-1a9147015e47",
   "metadata": {},
   "outputs": [
    {
     "name": "stdout",
     "output_type": "stream",
     "text": [
      "+-------+------------------+\n",
      "|summary|              high|\n",
      "+-------+------------------+\n",
      "|  count|              1259|\n",
      "|   mean|109.95111834789516|\n",
      "| stddev|30.686186407983914|\n",
      "|    min|           57.0857|\n",
      "|    max|             180.1|\n",
      "+-------+------------------+\n",
      "\n"
     ]
    }
   ],
   "source": [
    "df.filter(df.Name=='AAPL').describe('high').show()"
   ]
  },
  {
   "cell_type": "markdown",
   "id": "b384b880-f506-4c68-9485-17c23fa62c88",
   "metadata": {},
   "source": [
    "#### Resposta: 180,1"
   ]
  },
  {
   "cell_type": "markdown",
   "id": "e8d047ce-df89-44d2-a87a-7a5fd030b01e",
   "metadata": {},
   "source": [
    "## 6) Qual ação tem a maior volatilidade? Uma forma é medir o desvio-padrão do preço de fechamento de cada ação e considerar a ação de maior desvio-padrão.\n"
   ]
  },
  {
   "cell_type": "code",
   "execution_count": 14,
   "id": "9d7f8d29-0c51-42a6-af15-97ec2b3faad0",
   "metadata": {},
   "outputs": [
    {
     "name": "stdout",
     "output_type": "stream",
     "text": [
      "+----+------------------+\n",
      "|Name|     stddev(close)|\n",
      "+----+------------------+\n",
      "|ALXN|29.230294072399754|\n",
      "| AIV| 6.048727635117268|\n",
      "| AVY|19.555249297434845|\n",
      "|BF.B| 7.065456533842545|\n",
      "| AXP|  10.8940649082697|\n",
      "| BLK| 62.33688426948667|\n",
      "|AAPL|30.556811676964696|\n",
      "| ALL|14.197124571786505|\n",
      "| ADI|13.383630814638682|\n",
      "| AGN|59.026349830314544|\n",
      "|AMGN| 25.63637154050681|\n",
      "|ANTM| 40.54382034234016|\n",
      "| AOS|13.361741183670283|\n",
      "|ANDV|19.454173558876906|\n",
      "| ACN|22.129030550592894|\n",
      "| ARE| 19.33966502189914|\n",
      "| AIG| 6.678354356273762|\n",
      "| AFL| 8.820823784419913|\n",
      "| APH| 14.20236142838615|\n",
      "| AME| 7.353821534987904|\n",
      "+----+------------------+\n",
      "only showing top 20 rows\n",
      "\n"
     ]
    }
   ],
   "source": [
    "df.groupBy(\"Name\").agg({'close': 'stddev'}).show()"
   ]
  },
  {
   "cell_type": "code",
   "execution_count": 15,
   "id": "9a0c55a8-3748-429f-9d99-57d93e12553b",
   "metadata": {},
   "outputs": [],
   "source": [
    "std = df.groupBy(\"Name\").agg({'close': 'stddev'})"
   ]
  },
  {
   "cell_type": "code",
   "execution_count": 16,
   "id": "c3f9379c-6b20-4f93-b23c-b3d48bfafbe0",
   "metadata": {},
   "outputs": [
    {
     "data": {
      "text/plain": [
       "pyspark.sql.dataframe.DataFrame"
      ]
     },
     "execution_count": 16,
     "metadata": {},
     "output_type": "execute_result"
    }
   ],
   "source": [
    "type(std)"
   ]
  },
  {
   "cell_type": "code",
   "execution_count": 17,
   "id": "0435ac1f-90ec-4033-b52a-88e080ff6d5e",
   "metadata": {},
   "outputs": [
    {
     "name": "stdout",
     "output_type": "stream",
     "text": [
      "+-------+----+------------------+\n",
      "|summary|Name|     stddev(close)|\n",
      "+-------+----+------------------+\n",
      "|  count| 505|               505|\n",
      "|   mean|null| 18.39633820909574|\n",
      "| stddev|null| 26.28239093960824|\n",
      "|    min|   A|1.4871795570849995|\n",
      "|    max| ZTS|  320.533473018748|\n",
      "+-------+----+------------------+\n",
      "\n"
     ]
    }
   ],
   "source": [
    "std.describe().show()"
   ]
  },
  {
   "cell_type": "code",
   "execution_count": 18,
   "id": "b0270e30-129a-4d60-a7ad-2614c21942de",
   "metadata": {},
   "outputs": [
    {
     "name": "stdout",
     "output_type": "stream",
     "text": [
      "+----+----------------+\n",
      "|Name|   stddev(close)|\n",
      "+----+----------------+\n",
      "|PCLN|320.533473018748|\n",
      "+----+----------------+\n",
      "\n"
     ]
    }
   ],
   "source": [
    "std.filter(std[\"stddev(close)\"] > 320).show()"
   ]
  },
  {
   "cell_type": "markdown",
   "id": "57cf1c1c-5e91-43ee-81f1-c32d88a627fa",
   "metadata": {},
   "source": [
    "#### Resposta: PCLN   \n",
    "*OBS: Encontrar uma solução melhor"
   ]
  },
  {
   "cell_type": "markdown",
   "id": "fc8786df-7447-4af2-98d2-b18ab6abdbbd",
   "metadata": {},
   "source": [
    "## 7) Qual o dia com maior volume total de negociação da bolsa?"
   ]
  },
  {
   "cell_type": "code",
   "execution_count": 19,
   "id": "d00586c2-4e68-4eb7-bc6d-1d4cd6cc9165",
   "metadata": {},
   "outputs": [
    {
     "name": "stdout",
     "output_type": "stream",
     "text": [
      "+-------------------+-----+----+-----+-----+---------+----+\n",
      "|               date| open|high|  low|close|   volume|Name|\n",
      "+-------------------+-----+----+-----+-----+---------+----+\n",
      "|2014-02-24 00:00:00|47.02|47.2|46.23|46.23|618237630|  VZ|\n",
      "+-------------------+-----+----+-----+-----+---------+----+\n",
      "\n"
     ]
    }
   ],
   "source": [
    "df.filter(df.volume >= 600237630).show()"
   ]
  },
  {
   "cell_type": "code",
   "execution_count": 20,
   "id": "55a28b72-fa0c-4494-a9e6-46c3d76f584e",
   "metadata": {},
   "outputs": [
    {
     "name": "stdout",
     "output_type": "stream",
     "text": [
      "+-------+-----------------+\n",
      "|summary|           volume|\n",
      "+-------+-----------------+\n",
      "|  count|           619040|\n",
      "|   mean|4321823.395568945|\n",
      "| stddev|8693609.511967558|\n",
      "|    min|                0|\n",
      "|    max|        618237630|\n",
      "+-------+-----------------+\n",
      "\n"
     ]
    }
   ],
   "source": [
    "df.describe('volume').show()"
   ]
  },
  {
   "cell_type": "code",
   "execution_count": 21,
   "id": "e7b958cb-67cc-4bd4-b466-42889e7ce025",
   "metadata": {},
   "outputs": [
    {
     "name": "stdout",
     "output_type": "stream",
     "text": [
      "+-------------------+-----------+\n",
      "|               date|sum(volume)|\n",
      "+-------------------+-----------+\n",
      "|2014-04-09 00:00:00| 2189076732|\n",
      "|2014-06-09 00:00:00| 1649692496|\n",
      "|2014-07-29 00:00:00| 2021459803|\n",
      "|2014-10-21 00:00:00| 2431568981|\n",
      "|2015-04-09 00:00:00| 1698700851|\n",
      "|2015-07-31 00:00:00| 2051524948|\n",
      "|2015-12-10 00:00:00| 2085765987|\n",
      "|2016-01-06 00:00:00| 2715403317|\n",
      "|2016-05-31 00:00:00| 2526836839|\n",
      "|2017-08-14 00:00:00| 1585742854|\n",
      "|2013-10-22 00:00:00| 2686834831|\n",
      "|2014-05-08 00:00:00| 2005271846|\n",
      "|2016-07-13 00:00:00| 1850951381|\n",
      "|2017-06-13 00:00:00| 1892639852|\n",
      "|2014-03-14 00:00:00| 2094511873|\n",
      "|2014-06-04 00:00:00| 1648315892|\n",
      "|2014-06-12 00:00:00| 1877809458|\n",
      "|2015-05-11 00:00:00| 1750884938|\n",
      "|2017-05-16 00:00:00| 1994864591|\n",
      "|2016-07-08 00:00:00| 2107410018|\n",
      "+-------------------+-----------+\n",
      "only showing top 20 rows\n",
      "\n"
     ]
    }
   ],
   "source": [
    "maxvol = df.groupBy(\"date\").sum('volume').show()"
   ]
  },
  {
   "cell_type": "code",
   "execution_count": 22,
   "id": "ec7bffbe-f34a-4b79-90e8-6f04ed331fc0",
   "metadata": {},
   "outputs": [],
   "source": [
    "maxvol = df.groupBy(\"date\").sum('volume')"
   ]
  },
  {
   "cell_type": "code",
   "execution_count": 23,
   "id": "9b98a9f0-b766-40cd-8abc-4eddf1b8187f",
   "metadata": {},
   "outputs": [
    {
     "name": "stdout",
     "output_type": "stream",
     "text": [
      "+-------+--------------------+\n",
      "|summary|         sum(volume)|\n",
      "+-------+--------------------+\n",
      "|  count|                1259|\n",
      "|   mean|2.1250052063486893E9|\n",
      "| stddev| 4.547218850679499E8|\n",
      "|    min|           728261080|\n",
      "|    max|          4607945196|\n",
      "+-------+--------------------+\n",
      "\n"
     ]
    }
   ],
   "source": [
    "maxvol.describe().show()"
   ]
  },
  {
   "cell_type": "code",
   "execution_count": 24,
   "id": "59912737-aa68-4852-9740-e94eb3a2cfa8",
   "metadata": {},
   "outputs": [
    {
     "name": "stdout",
     "output_type": "stream",
     "text": [
      "+-------------------+-----------+\n",
      "|               date|sum(volume)|\n",
      "+-------------------+-----------+\n",
      "|2015-08-24 00:00:00| 4607945196|\n",
      "+-------------------+-----------+\n",
      "\n"
     ]
    }
   ],
   "source": [
    "maxvol.filter(maxvol[\"sum(volume)\"] >= 4607945196).show()"
   ]
  },
  {
   "cell_type": "markdown",
   "id": "0bbc6abf-cbf8-42eb-89d2-0bff76e53814",
   "metadata": {},
   "source": [
    "#### Resposta: 24/08/2015"
   ]
  },
  {
   "cell_type": "markdown",
   "id": "fcf6d34c-fc6b-404a-834a-7facf0e4d9ef",
   "metadata": {},
   "source": [
    "## 8) Qual a ação mais negociada da bolsa, em volume de transações?\n"
   ]
  },
  {
   "cell_type": "code",
   "execution_count": 70,
   "id": "66e4e0e1-885a-4a22-8630-b1dc936bcfc7",
   "metadata": {},
   "outputs": [],
   "source": [
    "dfAcoes = df.groupBy(\"Name\").agg({'volume': 'sum'})"
   ]
  },
  {
   "cell_type": "code",
   "execution_count": 71,
   "id": "0337f95c-7990-4c75-828b-7387e78f268b",
   "metadata": {},
   "outputs": [
    {
     "name": "stdout",
     "output_type": "stream",
     "text": [
      "+----+-----------+\n",
      "|Name|sum(volume)|\n",
      "+----+-----------+\n",
      "|ALXN| 2218905439|\n",
      "| AIV| 1509190118|\n",
      "| AVY|  957891856|\n",
      "|BF.B| 1229412140|\n",
      "| AXP| 6009726906|\n",
      "| BLK|  805429681|\n",
      "|AAPL|68046305767|\n",
      "| ALL| 3030542511|\n",
      "| ADI| 3086738254|\n",
      "| AGN| 3626016707|\n",
      "|AMGN| 4362944349|\n",
      "|ANTM| 2371104335|\n",
      "| AOS| 1585840935|\n",
      "|ANDV| 3295440590|\n",
      "| ACN| 3268663766|\n",
      "| ARE|  664155083|\n",
      "| AIG|10600109436|\n",
      "| AFL| 2664486567|\n",
      "| APH| 1541910519|\n",
      "| AME| 1646958499|\n",
      "+----+-----------+\n",
      "only showing top 20 rows\n",
      "\n"
     ]
    }
   ],
   "source": [
    "dfAcoes.show()"
   ]
  },
  {
   "cell_type": "code",
   "execution_count": 72,
   "id": "d0d9ae14-00b2-469a-81a6-5ab17f50a802",
   "metadata": {},
   "outputs": [
    {
     "name": "stdout",
     "output_type": "stream",
     "text": [
      "+-------+----+--------------------+\n",
      "|summary|Name|         sum(volume)|\n",
      "+-------+----+--------------------+\n",
      "|  count| 505|                 505|\n",
      "|   mean|null|5.2977852570158415E9|\n",
      "| stddev|null| 8.836941751469303E9|\n",
      "|    min|   A|            92947779|\n",
      "|    max| ZTS|        117884953591|\n",
      "+-------+----+--------------------+\n",
      "\n"
     ]
    }
   ],
   "source": [
    "dfAcoes.describe().show()"
   ]
  },
  {
   "cell_type": "code",
   "execution_count": 74,
   "id": "7f814a0b-e478-407b-b336-edf3e0d912b3",
   "metadata": {},
   "outputs": [
    {
     "name": "stdout",
     "output_type": "stream",
     "text": [
      "+----+------------+\n",
      "|Name| sum(volume)|\n",
      "+----+------------+\n",
      "| BAC|117884953591|\n",
      "+----+------------+\n",
      "\n"
     ]
    }
   ],
   "source": [
    "dfAcoes.filter(dfAcoes[\"sum(volume)\"] >= 117884953591).show()"
   ]
  },
  {
   "cell_type": "markdown",
   "id": "1da51af0-f60f-4c69-a747-9c521df32b16",
   "metadata": {},
   "source": [
    "#### Resposta: BAC"
   ]
  },
  {
   "cell_type": "markdown",
   "id": "47cafc93-a8ea-45bc-bbba-a165b13f7b61",
   "metadata": {},
   "source": [
    "## 9) Quantas ações começam com a letra “A”?\n"
   ]
  },
  {
   "cell_type": "code",
   "execution_count": 135,
   "id": "298d6475-886b-4305-9613-b459c804371d",
   "metadata": {},
   "outputs": [],
   "source": [
    "acoes = df.select('Name').distinct()\n",
    "acoesA = df.filter(acoes['Name'].rlike(\"^[A]\"))"
   ]
  },
  {
   "cell_type": "code",
   "execution_count": 136,
   "id": "f42c9a34-e89a-44dd-9623-e8de0c816c81",
   "metadata": {
    "tags": []
   },
   "outputs": [
    {
     "data": {
      "text/plain": [
       "59"
      ]
     },
     "execution_count": 136,
     "metadata": {},
     "output_type": "execute_result"
    }
   ],
   "source": [
    "acoesA.select(\"Name\").distinct().count()"
   ]
  },
  {
   "cell_type": "markdown",
   "id": "8a6a1d27-2b7f-4251-bf99-384d5cdc6739",
   "metadata": {},
   "source": [
    "### Resposta: 59"
   ]
  },
  {
   "cell_type": "markdown",
   "id": "d6beb19f-4067-440f-82bd-5529b6cdebb4",
   "metadata": {},
   "source": [
    "---"
   ]
  },
  {
   "cell_type": "markdown",
   "id": "7011d769-5895-41a4-abba-8b3f8543cd76",
   "metadata": {},
   "source": [
    "## 10) Com qual frequência o preço mais alto do dia da ação também é o preço de fechamento?\n"
   ]
  },
  {
   "cell_type": "code",
   "execution_count": 38,
   "id": "3fa71686-b1d9-4935-aece-147fb26aa41a",
   "metadata": {},
   "outputs": [
    {
     "data": {
      "text/plain": [
       "1.2"
      ]
     },
     "execution_count": 38,
     "metadata": {},
     "output_type": "execute_result"
    }
   ],
   "source": [
    "altaIgualFechamento = df.filter(df.high == df.close).cache().count()\n",
    "frequencia = altaIgualFechamento/totalRegistros*100\n",
    "round(frequencia,2)"
   ]
  },
  {
   "cell_type": "markdown",
   "id": "683c0a6d-9c01-4d39-b436-aad31d90aa45",
   "metadata": {
    "tags": []
   },
   "source": [
    "#### Resposta: 1,2%"
   ]
  },
  {
   "cell_type": "markdown",
   "id": "9e8a7965-2162-44bd-8ba1-561bdb5f7993",
   "metadata": {},
   "source": [
    "---"
   ]
  },
  {
   "cell_type": "markdown",
   "id": "90135343-6fb4-4170-ad03-87ec8331d577",
   "metadata": {},
   "source": [
    "## 11) Em qual dia a ação da Apple mais subiu entre a abertura e o fechamento, de forma absoluta?\n"
   ]
  },
  {
   "cell_type": "code",
   "execution_count": 40,
   "id": "24857c69-9009-4cb7-9772-680c0980bca0",
   "metadata": {},
   "outputs": [],
   "source": [
    "dfApple = df.filter(df.Name=='AAPL')"
   ]
  },
  {
   "cell_type": "code",
   "execution_count": 56,
   "id": "276860e1-8356-4d47-a445-10764775bc24",
   "metadata": {},
   "outputs": [],
   "source": [
    "dfApple = dfApple.withColumn(\"Retorno\", dfApple.close - dfApple.open)\n"
   ]
  },
  {
   "cell_type": "code",
   "execution_count": 58,
   "id": "e4b019f1-38e7-421d-8b8c-9d6b9160adf0",
   "metadata": {},
   "outputs": [
    {
     "name": "stdout",
     "output_type": "stream",
     "text": [
      "+-------------------+-------+-------+-------+-------+---------+----+--------------------+\n",
      "|               date|   open|   high|    low|  close|   volume|Name|             Retorno|\n",
      "+-------------------+-------+-------+-------+-------+---------+----+--------------------+\n",
      "|2013-02-08 00:00:00|67.7142|68.4014|66.8928|67.8542|158168416|AAPL| 0.14000000000000057|\n",
      "|2013-02-11 00:00:00|68.0714|69.2771|67.6071|68.5614|129029425|AAPL|  0.4900000000000091|\n",
      "|2013-02-12 00:00:00|68.5014|68.9114|66.8205|66.8428|151829363|AAPL|  -1.658600000000007|\n",
      "|2013-02-13 00:00:00|66.7442|67.6628|66.1742|66.7156|118721995|AAPL|-0.02860000000001...|\n",
      "|2013-02-14 00:00:00|66.3599|67.3771|66.2885|66.6556| 88809154|AAPL| 0.29570000000001073|\n",
      "|2013-02-15 00:00:00|66.9785|67.1656|65.7028|65.7371| 97924631|AAPL| -1.2413999999999987|\n",
      "|2013-02-19 00:00:00|65.8714|66.1042|64.8356|65.7128|108854046|AAPL|-0.15859999999999275|\n",
      "|2013-02-20 00:00:00|65.3842|65.3842|64.1142|64.1214|118891367|AAPL| -1.2628000000000128|\n",
      "|2013-02-21 00:00:00|63.7142|64.1671|63.2599|63.7228|111596821|AAPL|0.008600000000001273|\n",
      "|2013-02-22 00:00:00|64.1785|64.5142|63.7999|64.4014| 82583823|AAPL| 0.22289999999999566|\n",
      "|2013-02-25 00:00:00|64.8356|65.0171|63.2242|63.2571| 92899597|AAPL| -1.5784999999999982|\n",
      "|2013-02-26 00:00:00|63.4028|64.5056|62.5228|64.1385|125096657|AAPL|  0.7356999999999942|\n",
      "|2013-02-27 00:00:00|64.0614|64.6342|62.9499|63.5099|146674682|AAPL| -0.5515000000000043|\n",
      "|2013-02-28 00:00:00|63.4357|63.9814|63.0571|63.0571| 80532382|AAPL| -0.3785999999999987|\n",
      "|2013-03-01 00:00:00|62.5714|62.5971|61.4257|61.4957|137899041|AAPL| -1.0756999999999977|\n",
      "|2013-03-04 00:00:00|61.1142|61.1714|59.8571|60.0071|145406366|AAPL| -1.1070999999999955|\n",
      "|2013-03-05 00:00:00|60.2114|62.1699|60.1071|61.5919|159298020|AAPL|   1.380500000000005|\n",
      "|2013-03-06 00:00:00|62.0728|62.1785|60.6328|60.8088|114903180|AAPL|  -1.264000000000003|\n",
      "|2013-03-07 00:00:00|60.6428|61.7157|60.1514|61.5117|116992841|AAPL|  0.8688999999999965|\n",
      "|2013-03-08 00:00:00|61.3999|62.2042|61.2299|61.6742| 97854442|AAPL| 0.27429999999999666|\n",
      "+-------------------+-------+-------+-------+-------+---------+----+--------------------+\n",
      "only showing top 20 rows\n",
      "\n"
     ]
    }
   ],
   "source": [
    "dfApple.show()"
   ]
  },
  {
   "cell_type": "code",
   "execution_count": 62,
   "id": "791b795e-b8fd-481a-89b1-4f25757c4595",
   "metadata": {},
   "outputs": [
    {
     "name": "stdout",
     "output_type": "stream",
     "text": [
      "+-------+------------------+------------------+------------------+------------------+-------------------+----+--------------------+\n",
      "|summary|              open|              high|               low|             close|             volume|Name|             Retorno|\n",
      "+-------+------------------+------------------+------------------+------------------+-------------------+----+--------------------+\n",
      "|  count|              1259|              1259|              1259|              1259|               1259|1259|                1259|\n",
      "|   mean|109.05542891183475|109.95111834789516|108.14158888006372|109.06669849086583|5.404789973550437E7|null|0.011269579030976617|\n",
      "| stddev| 30.54922002458826|30.686186407983914|30.376223585852472|30.556811676964696|  3.3468353335784E7|null|  1.2835876682697762|\n",
      "|    min|           55.4242|           57.0857|           55.0142|           55.7899|           11475922|AAPL| -7.3700000000000045|\n",
      "|    max|            179.37|             180.1|            178.25|            179.26|          266833581|AAPL|                8.25|\n",
      "+-------+------------------+------------------+------------------+------------------+-------------------+----+--------------------+\n",
      "\n"
     ]
    }
   ],
   "source": [
    "dfApple.describe().show()"
   ]
  },
  {
   "cell_type": "code",
   "execution_count": 66,
   "id": "80ae5525-cb94-45f4-93b9-9ea820fa9cb2",
   "metadata": {},
   "outputs": [
    {
     "name": "stdout",
     "output_type": "stream",
     "text": [
      "+-------------------+-----+-----+----+------+---------+----+-------+\n",
      "|               date| open| high| low| close|   volume|Name|Retorno|\n",
      "+-------------------+-----+-----+----+------+---------+----+-------+\n",
      "|2015-08-24 00:00:00|94.87|108.8|92.0|103.12|162206292|AAPL|   8.25|\n",
      "+-------------------+-----+-----+----+------+---------+----+-------+\n",
      "\n"
     ]
    }
   ],
   "source": [
    "dfApple.filter(dfApple.Retorno >= 8.25).show()"
   ]
  },
  {
   "cell_type": "markdown",
   "id": "5f230dec-92d2-4524-8fc1-2835dd29c9b2",
   "metadata": {
    "tags": []
   },
   "source": [
    "### Resposta: 25/08/2015"
   ]
  },
  {
   "cell_type": "markdown",
   "id": "0b424b39-ad14-41fb-b731-43feac1c23e0",
   "metadata": {
    "tags": []
   },
   "source": [
    "-------------------------------------------------------------------"
   ]
  },
  {
   "cell_type": "markdown",
   "id": "7fb2e90a-ed5d-4387-b83c-e19d833ba292",
   "metadata": {
    "tags": []
   },
   "source": [
    "## 12) Em média, qual o volume diário de transações das ações da AAPL?\n"
   ]
  },
  {
   "cell_type": "code",
   "execution_count": 68,
   "id": "811931f0-5bf3-4dc1-b651-e572cd62799a",
   "metadata": {},
   "outputs": [
    {
     "name": "stdout",
     "output_type": "stream",
     "text": [
      "+-------+-------------------+\n",
      "|summary|             volume|\n",
      "+-------+-------------------+\n",
      "|  count|               1259|\n",
      "|   mean|5.404789973550437E7|\n",
      "| stddev|  3.3468353335784E7|\n",
      "|    min|           11475922|\n",
      "|    max|          266833581|\n",
      "+-------+-------------------+\n",
      "\n"
     ]
    }
   ],
   "source": [
    "dfApple.describe(\"volume\").show()"
   ]
  },
  {
   "cell_type": "code",
   "execution_count": 69,
   "id": "ae0b052e-dcff-4eaa-86d0-dadc9aeb0f6b",
   "metadata": {},
   "outputs": [
    {
     "data": {
      "text/plain": [
       "54047899.73550437"
      ]
     },
     "execution_count": 69,
     "metadata": {},
     "output_type": "execute_result"
    }
   ],
   "source": [
    "5.404789973550437E7"
   ]
  },
  {
   "cell_type": "markdown",
   "id": "1658e8b1-e7f9-405b-9c9f-04682eeede14",
   "metadata": {},
   "source": [
    "### Resposta: ~54 milhões"
   ]
  },
  {
   "cell_type": "markdown",
   "id": "b09aa5d3-4a37-48ef-aa2a-508a2bbec3e1",
   "metadata": {},
   "source": [
    "----------------"
   ]
  },
  {
   "cell_type": "markdown",
   "id": "4d974e55-1f68-4af6-ad27-015821459ecd",
   "metadata": {},
   "source": [
    "## 13) Quantas ações tem 1, 2, 3, 4 e 5 caracteres em seu nome, respectivamente?\n"
   ]
  },
  {
   "cell_type": "code",
   "execution_count": 205,
   "id": "ccf49f3a-fd75-4d5d-8a92-bd121b51cb12",
   "metadata": {},
   "outputs": [
    {
     "name": "stdout",
     "output_type": "stream",
     "text": [
      "+----+\n",
      "|Name|\n",
      "+----+\n",
      "|ALXN|\n",
      "| AIV|\n",
      "| AVY|\n",
      "|BF.B|\n",
      "| AXP|\n",
      "| BLK|\n",
      "|AAPL|\n",
      "| ALL|\n",
      "| ADI|\n",
      "| AGN|\n",
      "|AMGN|\n",
      "|ANTM|\n",
      "| AOS|\n",
      "|ANDV|\n",
      "| ACN|\n",
      "| ARE|\n",
      "| AIG|\n",
      "| AFL|\n",
      "| APH|\n",
      "| AME|\n",
      "+----+\n",
      "only showing top 20 rows\n",
      "\n"
     ]
    }
   ],
   "source": [
    "acoes = df.select('Name').distinct()\n",
    "acoes.show()"
   ]
  },
  {
   "cell_type": "code",
   "execution_count": 206,
   "id": "cd529fa2-b684-49e0-95c5-e4aef10daa2a",
   "metadata": {},
   "outputs": [
    {
     "name": "stdout",
     "output_type": "stream",
     "text": [
      "+----+-------+\n",
      "|Name|QtdChar|\n",
      "+----+-------+\n",
      "|ALXN|      4|\n",
      "| AIV|      3|\n",
      "| AVY|      3|\n",
      "|BF.B|      4|\n",
      "| AXP|      3|\n",
      "| BLK|      3|\n",
      "|AAPL|      4|\n",
      "| ALL|      3|\n",
      "| ADI|      3|\n",
      "| AGN|      3|\n",
      "|AMGN|      4|\n",
      "|ANTM|      4|\n",
      "| AOS|      3|\n",
      "|ANDV|      4|\n",
      "| ACN|      3|\n",
      "| ARE|      3|\n",
      "| AIG|      3|\n",
      "| AFL|      3|\n",
      "| APH|      3|\n",
      "| AME|      3|\n",
      "+----+-------+\n",
      "only showing top 20 rows\n",
      "\n"
     ]
    }
   ],
   "source": [
    "import pyspark.sql.functions as F\n",
    "dfChar = acoes.withColumn(\"QtdChar\", F.length(\"Name\"))\n",
    "dfChar.show()"
   ]
  },
  {
   "cell_type": "code",
   "execution_count": 207,
   "id": "9c44613e-9974-4d9b-9824-4debf571756a",
   "metadata": {},
   "outputs": [],
   "source": [
    "dfQtdChar = dfChar.groupBy(\"QtdChar\").agg({'Name': 'count'})"
   ]
  },
  {
   "cell_type": "code",
   "execution_count": 208,
   "id": "d946cb45-c72a-4e8a-b071-5af64584e11b",
   "metadata": {},
   "outputs": [
    {
     "name": "stdout",
     "output_type": "stream",
     "text": [
      "+-------+-----------+\n",
      "|QtdChar|count(Name)|\n",
      "+-------+-----------+\n",
      "|      1|         10|\n",
      "|      3|        323|\n",
      "|      5|          5|\n",
      "|      4|        117|\n",
      "|      2|         50|\n",
      "+-------+-----------+\n",
      "\n"
     ]
    }
   ],
   "source": [
    "dfQtdChar.show()"
   ]
  },
  {
   "cell_type": "markdown",
   "id": "90f93141-cef8-45f0-90de-f79a812bf98f",
   "metadata": {},
   "source": [
    "### Resposta: 10, 50, 323, 117, 5"
   ]
  },
  {
   "cell_type": "markdown",
   "id": "e366e3a7-7599-4ba1-b737-d4b668d005f8",
   "metadata": {},
   "source": [
    "----"
   ]
  },
  {
   "cell_type": "markdown",
   "id": "6a7ed543-c8ff-4f2c-adbc-fd2a3a79b623",
   "metadata": {},
   "source": [
    "## 14) Qual a ação menos negociada da bolsa, em volume de transações?\n"
   ]
  },
  {
   "cell_type": "code",
   "execution_count": 79,
   "id": "9fe63f0c-7f83-4b83-bed1-a571230ac085",
   "metadata": {},
   "outputs": [
    {
     "name": "stdout",
     "output_type": "stream",
     "text": [
      "+-------+----+--------------------+\n",
      "|summary|Name|         sum(volume)|\n",
      "+-------+----+--------------------+\n",
      "|  count| 505|                 505|\n",
      "|   mean|null|5.2977852570158415E9|\n",
      "| stddev|null| 8.836941751469303E9|\n",
      "|    min|   A|            92947779|\n",
      "|    max| ZTS|        117884953591|\n",
      "+-------+----+--------------------+\n",
      "\n"
     ]
    }
   ],
   "source": [
    "# Usando o dataframe da questão 8\n",
    "dfAcoes.describe().show()"
   ]
  },
  {
   "cell_type": "code",
   "execution_count": 78,
   "id": "f03f75d7-9b8b-4684-8ab4-d330ef8bbaa2",
   "metadata": {},
   "outputs": [
    {
     "name": "stdout",
     "output_type": "stream",
     "text": [
      "+----+-----------+\n",
      "|Name|sum(volume)|\n",
      "+----+-----------+\n",
      "|APTV|   92947779|\n",
      "+----+-----------+\n",
      "\n"
     ]
    }
   ],
   "source": [
    "dfAcoes.filter(dfAcoes[\"sum(volume)\"] <= 92947779).show()"
   ]
  },
  {
   "cell_type": "markdown",
   "id": "b5980bfb-b117-4c6f-87da-f93a5f4bc3e6",
   "metadata": {},
   "source": [
    "### *Resposta: APTV*"
   ]
  },
  {
   "cell_type": "markdown",
   "id": "4a80c400-ab97-4fa5-81e5-f6d7cfffccb8",
   "metadata": {},
   "source": [
    "----"
   ]
  },
  {
   "cell_type": "markdown",
   "id": "d59715a9-06ea-40b5-b8ce-13dba7030894",
   "metadata": {},
   "source": [
    "## 15) Com qual frequência o preço de fechamento é também o mais alto do dia?\n"
   ]
  },
  {
   "cell_type": "markdown",
   "id": "0a0e0119-c4c6-4202-8d19-89d8d8606e9d",
   "metadata": {},
   "source": [
    "#### Igual a pergunta 10???"
   ]
  },
  {
   "cell_type": "code",
   "execution_count": null,
   "id": "1961c996-521d-499a-a2af-957d19c27ff6",
   "metadata": {},
   "outputs": [],
   "source": []
  }
 ],
 "metadata": {
  "kernelspec": {
   "display_name": "Python 3 (ipykernel)",
   "language": "python",
   "name": "python3"
  },
  "language_info": {
   "codemirror_mode": {
    "name": "ipython",
    "version": 3
   },
   "file_extension": ".py",
   "mimetype": "text/x-python",
   "name": "python",
   "nbconvert_exporter": "python",
   "pygments_lexer": "ipython3",
   "version": "3.10.4"
  }
 },
 "nbformat": 4,
 "nbformat_minor": 5
}
