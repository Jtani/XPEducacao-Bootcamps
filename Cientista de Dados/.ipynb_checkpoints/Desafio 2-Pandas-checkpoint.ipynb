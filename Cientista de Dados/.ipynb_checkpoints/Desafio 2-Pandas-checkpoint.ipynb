{
 "cells": [
  {
   "cell_type": "markdown",
   "id": "a6f8bde6-0a01-4312-8f78-021833ce431e",
   "metadata": {},
   "source": [
    "# Desafio do Módulo 2 - Cientista de Dados - XP Educação"
   ]
  },
  {
   "cell_type": "markdown",
   "id": "41d664e2-364a-4179-b2c7-00b061540004",
   "metadata": {},
   "source": [
    "## Passos iniciais\n",
    "- Importando as bibliotecas\n",
    "- Carregando o dataset (stroke_data.csv)\n",
    "- Verificando informações do dataset"
   ]
  },
  {
   "cell_type": "code",
   "execution_count": 1,
   "id": "1deb98dd-d788-48fb-9b6b-24d58d5c66a9",
   "metadata": {},
   "outputs": [],
   "source": [
    "from pyspark.sql import SparkSession\n",
    "import os"
   ]
  },
  {
   "cell_type": "code",
   "execution_count": 2,
   "id": "0b729825-5780-4145-a832-dc3ec8616652",
   "metadata": {},
   "outputs": [],
   "source": [
    "spark = SparkSession.builder\\\n",
    "          .getOrCreate()\n",
    "\n",
    "df = (spark.read\n",
    "  .format(\"csv\")\n",
    "  .option(\"header\", \"true\")\n",
    "  .option(\"inferSchema\", \"true\")\n",
    "  .load(\"stroke_data.csv\")\n",
    ")"
   ]
  },
  {
   "cell_type": "code",
   "execution_count": 3,
   "id": "c9d01c3b-8296-4180-beb3-8ed7b47804ce",
   "metadata": {},
   "outputs": [
    {
     "name": "stdout",
     "output_type": "stream",
     "text": [
      "+---+------+----+------------+-------------+------------+-------------+--------------+-----------------+-----+---------------+------+\n",
      "|  0|gender| age|hypertension|heart_disease|ever_married|    work_type|Residence_type|avg_glucose_level|  bmi| smoking_status|stroke|\n",
      "+---+------+----+------------+-------------+------------+-------------+--------------+-----------------+-----+---------------+------+\n",
      "|  1|Female|18.0|           0|            0|          No|      Private|         Urban|            94.19|12.12|         smokes|     1|\n",
      "|  2|  Male|58.0|           1|            0|         Yes|      Private|         Rural|           154.24| 33.7|   never_smoked|     0|\n",
      "|  3|Female|36.0|           0|            0|         Yes|     Govt_job|         Urban|            72.63| 24.7|         smokes|     0|\n",
      "|  4|Female|62.0|           0|            0|         Yes|Self-employed|         Rural|            85.52| 31.2|formerly smoked|     0|\n",
      "|  5|Female|82.0|           0|            0|         Yes|      Private|         Rural|            59.32| 33.2|         smokes|     1|\n",
      "|  6|Female|82.0|           0|            0|          No|     Govt_job|         Urban|            234.5| 24.0|formerly smoked|     0|\n",
      "|  7|Female|33.0|           0|            0|         Yes|Self-employed|         Urban|           193.42| 29.9|         smokes|     0|\n",
      "|  8|Female|37.0|           0|            0|         Yes|      Private|         Rural|            156.7| 36.9|         smokes|     1|\n",
      "|  9|Female|41.0|           0|            0|         Yes|     Govt_job|         Rural|            64.06| 33.8|         smokes|     1|\n",
      "| 10|Female|70.0|           0|            0|         Yes|Self-employed|         Rural|            76.34| 24.4|formerly smoked|     1|\n",
      "| 11|Female|25.0|           0|            0|          No|      Private|         Urban|            91.15| 28.7|         smokes|     1|\n",
      "| 12|Female|43.0|           1|            0|          No|Self-employed|         Rural|            60.12| 34.2|formerly smoked|     0|\n",
      "| 13|  Male|72.0|           0|            1|         Yes|      Private|         Rural|           235.22| 40.3|formerly smoked|     1|\n",
      "| 14|Female|20.0|           0|            0|          No|      Private|         Rural|           106.47| 33.7|         smokes|     1|\n",
      "| 15|  Male|20.0|           0|            0|          No|      Private|         Urban|           104.78| 20.3|         smokes|     1|\n",
      "| 16|  Male|41.0|           0|            0|         Yes|Self-employed|         Urban|            159.3| 34.6|         smokes|     1|\n",
      "| 17|Female|23.0|           0|            0|          No|      Private|         Urban|           116.95| 23.8|         smokes|     1|\n",
      "| 18|  Male|22.0|           0|            0|          No|Self-employed|         Rural|            72.05| 31.9|         smokes|     1|\n",
      "| 19|  Male|69.0|           0|            0|         Yes|      Private|         Rural|            64.06| 35.1|formerly smoked|     0|\n",
      "| 20|Female|44.0|           0|            0|         Yes|Self-employed|         Rural|           135.03| 36.1|         smokes|     1|\n",
      "+---+------+----+------------+-------------+------------+-------------+--------------+-----------------+-----+---------------+------+\n",
      "only showing top 20 rows\n",
      "\n"
     ]
    }
   ],
   "source": [
    "# Analisando o carregamento do dataset e suas características\n",
    "df.show()"
   ]
  },
  {
   "cell_type": "code",
   "execution_count": 4,
   "id": "f22ff8ad-562a-4f02-9fde-40032618a57e",
   "metadata": {},
   "outputs": [
    {
     "name": "stdout",
     "output_type": "stream",
     "text": [
      "root\n",
      " |-- 0: integer (nullable = true)\n",
      " |-- gender: string (nullable = true)\n",
      " |-- age: double (nullable = true)\n",
      " |-- hypertension: integer (nullable = true)\n",
      " |-- heart_disease: integer (nullable = true)\n",
      " |-- ever_married: string (nullable = true)\n",
      " |-- work_type: string (nullable = true)\n",
      " |-- Residence_type: string (nullable = true)\n",
      " |-- avg_glucose_level: double (nullable = true)\n",
      " |-- bmi: double (nullable = true)\n",
      " |-- smoking_status: string (nullable = true)\n",
      " |-- stroke: integer (nullable = true)\n",
      "\n"
     ]
    }
   ],
   "source": [
    "# Analisando os tipos das variáveis\n",
    "df.printSchema() "
   ]
  },
  {
   "cell_type": "code",
   "execution_count": 5,
   "id": "120d6c3c-bbb5-4761-9bf4-60a64415a757",
   "metadata": {},
   "outputs": [
    {
     "name": "stdout",
     "output_type": "stream",
     "text": [
      "+-------+------------------+------+------------------+-------------------+-------------------+------------+---------+--------------+------------------+------------------+---------------+-------------------+\n",
      "|summary|                 0|gender|               age|       hypertension|      heart_disease|ever_married|work_type|Residence_type| avg_glucose_level|               bmi| smoking_status|             stroke|\n",
      "+-------+------------------+------+------------------+-------------------+-------------------+------------+---------+--------------+------------------+------------------+---------------+-------------------+\n",
      "|  count|             67135| 67135|             67135|              67135|              67135|       67135|    67135|         67135|             67135|             67135|          67135|              67135|\n",
      "|   mean|           33568.0|  null| 51.95950845311693|0.16410218217025396|0.10142250688910405|        null|     null|          null|113.41439606762462| 29.16154047813857|           null|  0.600089372160572|\n",
      "| stddev|19380.349498052576|  null|23.413054156327913|0.37037102916366954| 0.3018896147748789|        null|     null|          null| 51.25881719094036|7.1020570070927205|           null|0.48988334555668295|\n",
      "|    min|                 1|Female|              0.08|                  0|                  0|          No| Govt_job|         Rural|              55.0|              10.1|formerly smoked|                  0|\n",
      "|    max|             67135| Other|              82.0|                  1|                  1|         Yes| children|         Urban|            291.05|              97.6|         smokes|                  1|\n",
      "+-------+------------------+------+------------------+-------------------+-------------------+------------+---------+--------------+------------------+------------------+---------------+-------------------+\n",
      "\n"
     ]
    }
   ],
   "source": [
    "df.describe().show()"
   ]
  },
  {
   "cell_type": "markdown",
   "id": "07d00b7c-254b-4c5d-9631-4cffbea97786",
   "metadata": {},
   "source": [
    "## 1) Quantos registros existem no arquivo?"
   ]
  },
  {
   "cell_type": "code",
   "execution_count": 6,
   "id": "6ed0d20f-6b12-4449-b378-4d8502bf0c19",
   "metadata": {},
   "outputs": [
    {
     "data": {
      "text/plain": [
       "67135"
      ]
     },
     "execution_count": 6,
     "metadata": {},
     "output_type": "execute_result"
    }
   ],
   "source": [
    "totalRegistros = df.cache().count()\n",
    "totalRegistros"
   ]
  },
  {
   "cell_type": "markdown",
   "id": "96876344-4305-40b4-8ff4-9e99a9b76970",
   "metadata": {},
   "source": [
    "### Resposta: 67135\n",
    "---"
   ]
  },
  {
   "cell_type": "markdown",
   "id": "ff4e1289-40aa-40b9-a3e7-7a672d45e714",
   "metadata": {},
   "source": [
    "## 2) Quantas colunas existem no arquivo? Quantas são numéricas? Ao ler o arquivo com spark.read.csv, habilite inferSchema=True. Use a função printSchema() da API de Dataframes."
   ]
  },
  {
   "cell_type": "code",
   "execution_count": 60,
   "id": "209cd2f3-8065-4e79-b432-802c8f3a165e",
   "metadata": {},
   "outputs": [
    {
     "name": "stdout",
     "output_type": "stream",
     "text": [
      "12\n",
      "root\n",
      " |-- 0: integer (nullable = true)\n",
      " |-- gender: string (nullable = true)\n",
      " |-- age: double (nullable = true)\n",
      " |-- hypertension: integer (nullable = true)\n",
      " |-- heart_disease: integer (nullable = true)\n",
      " |-- ever_married: string (nullable = true)\n",
      " |-- work_type: string (nullable = true)\n",
      " |-- Residence_type: string (nullable = true)\n",
      " |-- avg_glucose_level: double (nullable = true)\n",
      " |-- bmi: double (nullable = true)\n",
      " |-- smoking_status: string (nullable = true)\n",
      " |-- stroke: integer (nullable = true)\n",
      "\n"
     ]
    }
   ],
   "source": [
    "print(len(df.columns)) # Total de colunas\n",
    "df.printSchema() # Analisando o tipo das variáveis"
   ]
  },
  {
   "cell_type": "markdown",
   "id": "85ec56a4-7ed9-4de5-ad5c-e2b4396845bd",
   "metadata": {},
   "source": [
    "### Resposta: 12, 7\n",
    "---"
   ]
  },
  {
   "cell_type": "markdown",
   "id": "737384c9-83a2-43bc-a751-bfceafb5d8ef",
   "metadata": {},
   "source": [
    "## 3) No conjunto de dados, quantos pacientes sofreram e não sofreram derrame (stroke), respectivamente?\n"
   ]
  },
  {
   "cell_type": "code",
   "execution_count": 8,
   "id": "7812fb32-d521-4d61-ac81-73044e13f4b8",
   "metadata": {},
   "outputs": [],
   "source": [
    "# # Total de dados da coluna \"stroke\"\n",
    "#  df.select(\"stroke\").count()\n",
    "\n",
    "# # Total de pacientes que sofreram derrame\n",
    "# df.groupBy().sum(\"stroke\").show()\n",
    "\n",
    "# df.agg({'stroke': 'sum'}).show()\n",
    "# # Total de pacientes que não sofreram derrame\n",
    "# 67135-40287"
   ]
  },
  {
   "cell_type": "code",
   "execution_count": 61,
   "id": "878f15da-2159-48db-a2e5-8dd72c60d386",
   "metadata": {},
   "outputs": [
    {
     "name": "stdout",
     "output_type": "stream",
     "text": [
      "+------+-----+\n",
      "|stroke|count|\n",
      "+------+-----+\n",
      "|     1|40287|\n",
      "|     0|26848|\n",
      "+------+-----+\n",
      "\n"
     ]
    }
   ],
   "source": [
    "# Melhor\n",
    "df.groupby(\"stroke\").count().show()"
   ]
  },
  {
   "cell_type": "markdown",
   "id": "b0bbece2-422a-4835-aa8a-90e949fccb71",
   "metadata": {},
   "source": [
    "### Resposta: 40287, 26848 "
   ]
  },
  {
   "cell_type": "markdown",
   "id": "678733c6-4f97-4529-bd8d-80f9da48914d",
   "metadata": {},
   "source": [
    "## 4) A partir do dataframe, crie uma tabela temporária usando df.createOrReplaceTempView('table') e a seguir use spark.sql para escrever uma consulta SQL que obtenha quantos pacientes tiveram derrame por tipo de trabalho (work_type). Quantos pacientes sofreram derrame e trabalhavam respectivamente, no setor privado, de forma independente, no governo e quantas são crianças?"
   ]
  },
  {
   "cell_type": "code",
   "execution_count": 10,
   "id": "d41aeaf9-160f-4114-a5d4-864d9a17c4b7",
   "metadata": {},
   "outputs": [],
   "source": [
    "df.createOrReplaceTempView('table')"
   ]
  },
  {
   "cell_type": "code",
   "execution_count": 11,
   "id": "09f711d6-2c43-443f-aea9-e17ea1ab246d",
   "metadata": {},
   "outputs": [
    {
     "name": "stdout",
     "output_type": "stream",
     "text": [
      "+-------------+-----------+\n",
      "|    work_type|sum(stroke)|\n",
      "+-------------+-----------+\n",
      "| Never_worked|         85|\n",
      "|Self-employed|      10807|\n",
      "|      Private|      23711|\n",
      "|     children|        520|\n",
      "|     Govt_job|       5164|\n",
      "+-------------+-----------+\n",
      "\n"
     ]
    }
   ],
   "source": [
    "spark.sql(\"SELECT work_type, sum(stroke) FROM table GROUP BY work_type\").show()"
   ]
  },
  {
   "cell_type": "markdown",
   "id": "8fc43c7d-3ca7-4ec7-9abb-97b5bc68ee38",
   "metadata": {},
   "source": [
    "### Resposta: 23711, 10807, 5164, 520"
   ]
  },
  {
   "cell_type": "markdown",
   "id": "1e10c6ec-02fb-4d27-ad7b-d4e3bd278ac0",
   "metadata": {},
   "source": [
    "## 5)Escreva uma consulta com spark.sql para determinar a proporção, por gênero, de participantes do estudo. A maioria dos participantes é:\n"
   ]
  },
  {
   "cell_type": "code",
   "execution_count": 12,
   "id": "5718f625-8880-45ed-88cb-79cecfbc9bff",
   "metadata": {},
   "outputs": [
    {
     "name": "stdout",
     "output_type": "stream",
     "text": [
      "+------+-------------+\n",
      "|gender|count(gender)|\n",
      "+------+-------------+\n",
      "|Female|        39530|\n",
      "| Other|           11|\n",
      "|  Male|        27594|\n",
      "+------+-------------+\n",
      "\n"
     ]
    }
   ],
   "source": [
    "spark.sql(\"SELECT gender, count(gender) FROM table GROUP BY gender\").show()"
   ]
  },
  {
   "cell_type": "markdown",
   "id": "89ba11a5-d617-478e-a8d0-a8cbb04091ab",
   "metadata": {},
   "source": [
    "### Resposta: Feminina"
   ]
  },
  {
   "cell_type": "markdown",
   "id": "6a17b7e0-717b-4a93-8ba9-3423a6bc2940",
   "metadata": {},
   "source": [
    "## 6) Escreva uma consulta com spark.sql para determinar quem tem mais probabilidade de sofrer derrame: hipertensos ou não-hipertensos. Você pode escrever uma consulta para cada grupo. A partir das probabilidades que você obteve, você conclui que:\n"
   ]
  },
  {
   "cell_type": "code",
   "execution_count": 98,
   "id": "57c24d58-01df-4ab9-beb3-2bbc5683d137",
   "metadata": {},
   "outputs": [
    {
     "name": "stdout",
     "output_type": "stream",
     "text": [
      "+------------+-----------+\n",
      "|hypertension|sum(stroke)|\n",
      "+------------+-----------+\n",
      "|           1|       8817|\n",
      "|           0|      31470|\n",
      "+------------+-----------+\n",
      "\n"
     ]
    }
   ],
   "source": [
    "# Casos de derrame com hipertensão e sem hipertensão\n",
    "spark.sql(\"SELECT hypertension, sum(stroke) FROM table GROUP BY hypertension\").show()"
   ]
  },
  {
   "cell_type": "code",
   "execution_count": 99,
   "id": "5997bcd3-079b-46bc-9693-7e8a817938d9",
   "metadata": {},
   "outputs": [
    {
     "name": "stdout",
     "output_type": "stream",
     "text": [
      "+------------+--------+\n",
      "|hypertension|count(1)|\n",
      "+------------+--------+\n",
      "|           1|   11017|\n",
      "|           0|   56118|\n",
      "+------------+--------+\n",
      "\n"
     ]
    }
   ],
   "source": [
    "# Casos totais de hipertensos e não hipertensos\n",
    "spark.sql(\"SELECT hypertension, count(*) FROM table GROUP BY hypertension\").show()"
   ]
  },
  {
   "cell_type": "code",
   "execution_count": 102,
   "id": "3c131bb6-b54e-4f8d-9cff-acc077674413",
   "metadata": {},
   "outputs": [
    {
     "data": {
      "text/plain": [
       "80.03"
      ]
     },
     "execution_count": 102,
     "metadata": {},
     "output_type": "execute_result"
    }
   ],
   "source": [
    "# Probabilidade de sofrer derrame e ser hipertenso\n",
    "pHyperStroke = round(8817/(11017)*100,2)\n",
    "pHyperStroke"
   ]
  },
  {
   "cell_type": "code",
   "execution_count": 103,
   "id": "15f02bd6-b8ff-4b2a-b215-22dbb056ab0d",
   "metadata": {},
   "outputs": [
    {
     "data": {
      "text/plain": [
       "56.08"
      ]
     },
     "execution_count": 103,
     "metadata": {},
     "output_type": "execute_result"
    }
   ],
   "source": [
    "# Probabilidade de sofrer derrame e não ser hipertenso\n",
    "pNotHyperStroke = round(31470/(56118)*100,2)\n",
    "pNotHyperStroke"
   ]
  },
  {
   "cell_type": "markdown",
   "id": "cb524a85-4b7d-45db-8f3c-c90e996797e8",
   "metadata": {},
   "source": [
    "### Resposta: A hipertensão, neste conjunto de dados, aumenta a probabilidade de derrame."
   ]
  },
  {
   "cell_type": "markdown",
   "id": "af598fed-f9f9-4647-84fd-9c9554cc422d",
   "metadata": {},
   "source": [
    "## 7) Escreva uma consulta com spark.sql que determine o número de pessoas que sofreram derrame por idade. Com qual idade o maior número de pessoas do conjunto de dados sofreu derrame?\n"
   ]
  },
  {
   "cell_type": "code",
   "execution_count": 104,
   "id": "3bb1bf49-3cd1-46d7-b076-827578099d46",
   "metadata": {},
   "outputs": [
    {
     "name": "stdout",
     "output_type": "stream",
     "text": [
      "+----+-----------+\n",
      "| age|sum(stroke)|\n",
      "+----+-----------+\n",
      "|79.0|       2916|\n",
      "|78.0|       2279|\n",
      "|80.0|       1858|\n",
      "|81.0|       1738|\n",
      "|82.0|       1427|\n",
      "|77.0|        994|\n",
      "|74.0|        987|\n",
      "|63.0|        942|\n",
      "|76.0|        892|\n",
      "|70.0|        881|\n",
      "|66.0|        848|\n",
      "|75.0|        809|\n",
      "|67.0|        801|\n",
      "|57.0|        775|\n",
      "|73.0|        759|\n",
      "|65.0|        716|\n",
      "|72.0|        709|\n",
      "|68.0|        688|\n",
      "|69.0|        677|\n",
      "|71.0|        667|\n",
      "+----+-----------+\n",
      "only showing top 20 rows\n",
      "\n"
     ]
    }
   ],
   "source": [
    "spark.sql(\"SELECT age, sum(stroke) FROM table GROUP BY age ORDER BY sum(stroke) DESC\").show()"
   ]
  },
  {
   "cell_type": "markdown",
   "id": "24a54602-52e5-42f7-9dcc-54073f671da9",
   "metadata": {},
   "source": [
    "### Resposta: 79 anos"
   ]
  },
  {
   "cell_type": "markdown",
   "id": "f86b33ff-1b5f-4046-8753-fcb36bc3f0fb",
   "metadata": {},
   "source": [
    "## 8) Usando a API de dataframes, determine quantas pessoas sofreram derrames após os 50 anos.\n"
   ]
  },
  {
   "cell_type": "code",
   "execution_count": 17,
   "id": "49307d1c-66bd-41d7-a1d1-027e60de1563",
   "metadata": {},
   "outputs": [
    {
     "name": "stdout",
     "output_type": "stream",
     "text": [
      "+-----------+\n",
      "|sum(stroke)|\n",
      "+-----------+\n",
      "|      28938|\n",
      "+-----------+\n",
      "\n"
     ]
    }
   ],
   "source": [
    "df.filter(df.age > 50).agg({\"stroke\": \"sum\"}).show()"
   ]
  },
  {
   "cell_type": "markdown",
   "id": "48e7b06f-4f47-44aa-a8a3-7b5a8d3e9861",
   "metadata": {},
   "source": [
    "### Resposta: 28938"
   ]
  },
  {
   "cell_type": "markdown",
   "id": "74f45480-169f-4a48-bec0-d832d255e98f",
   "metadata": {},
   "source": [
    "## 9) Usando spark.sql, determine qual o nível médio de glicose para pessoas que, respectivamente, sofreram e não sofreram derrame.\n"
   ]
  },
  {
   "cell_type": "code",
   "execution_count": 105,
   "id": "205dfd3e-df68-40fe-a448-4a971fa290e7",
   "metadata": {},
   "outputs": [
    {
     "name": "stdout",
     "output_type": "stream",
     "text": [
      "+------+-----------------------+\n",
      "|stroke|mean(avg_glucose_level)|\n",
      "+------+-----------------------+\n",
      "|     1|     119.95307046938272|\n",
      "|     0|     103.60273130214506|\n",
      "+------+-----------------------+\n",
      "\n"
     ]
    }
   ],
   "source": [
    "spark.sql(\"SELECT stroke, mean(avg_glucose_level) FROM table GROUP BY stroke\").show()"
   ]
  },
  {
   "cell_type": "markdown",
   "id": "4c6f5d57-7ff1-4042-9bef-df557ab2c3b6",
   "metadata": {},
   "source": [
    "### Resposta: 119 e 103"
   ]
  },
  {
   "cell_type": "markdown",
   "id": "51e494ee-eb7f-4480-b5aa-ca316e1f4d44",
   "metadata": {},
   "source": [
    "## 10) Qual é o BMI (IMC = índice de massa corpórea) médio de quem sofreu e não sofreu derrame?\n"
   ]
  },
  {
   "cell_type": "code",
   "execution_count": 106,
   "id": "f379027a-097e-4480-bd5c-9ef9a2b347ee",
   "metadata": {},
   "outputs": [
    {
     "name": "stdout",
     "output_type": "stream",
     "text": [
      "+------+-------------------+\n",
      "|stroke|round(mean(bmi), 2)|\n",
      "+------+-------------------+\n",
      "|     1|              29.94|\n",
      "|     0|              27.99|\n",
      "+------+-------------------+\n",
      "\n"
     ]
    }
   ],
   "source": [
    "spark.sql(\"SELECT stroke, round(mean(bmi),2) FROM table GROUP BY stroke\").show()"
   ]
  },
  {
   "cell_type": "markdown",
   "id": "e2d9d4cc-0546-4fda-9ff6-5a383245a95c",
   "metadata": {},
   "source": [
    "### Resposta: 29,94 e 27,99"
   ]
  },
  {
   "cell_type": "markdown",
   "id": "434ca93d-a356-4285-a727-fa46fada1ef2",
   "metadata": {},
   "source": [
    "## 11) Crie um modelo de árvore de decisão que prevê a chance de derrame (stroke) a partir das variáveis contínuas/categóricas: idade, BMI, hipertensão, doença do coração, nível médio de glicose. Use o conteúdo da segunda aula interativa para criar e avaliar o modelo. Qual a acurácia de um modelo construído?\n",
    "\n",
    "\n"
   ]
  },
  {
   "cell_type": "code",
   "execution_count": 107,
   "id": "e6bee74e-c4c1-4600-99bb-f17dc54fdb24",
   "metadata": {},
   "outputs": [],
   "source": [
    "from pyspark.ml.feature import VectorAssembler\n",
    "\n",
    "assembler = VectorAssembler(inputCols=['age', 'bmi', 'hypertension', 'heart_disease', 'avg_glucose_level'], outputCol='features')"
   ]
  },
  {
   "cell_type": "code",
   "execution_count": 108,
   "id": "89e50c11-3140-4ec7-81ba-4e91b814daf8",
   "metadata": {},
   "outputs": [],
   "source": [
    "train_data, test_data = df.randomSplit([0.7, 0.3])"
   ]
  },
  {
   "cell_type": "code",
   "execution_count": 109,
   "id": "eae07961-0ab9-4d42-b451-17bae1de51bd",
   "metadata": {},
   "outputs": [],
   "source": [
    "from pyspark.ml.classification import DecisionTreeClassifier\n",
    "\n",
    "classifier = DecisionTreeClassifier(labelCol='stroke', featuresCol='features')"
   ]
  },
  {
   "cell_type": "code",
   "execution_count": 110,
   "id": "8335e23e-5f9c-4289-bfe7-fc52a029c898",
   "metadata": {},
   "outputs": [],
   "source": [
    "from pyspark.ml import Pipeline\n",
    "\n",
    "pipeline = Pipeline(stages=[assembler, classifier])\n"
   ]
  },
  {
   "cell_type": "code",
   "execution_count": 111,
   "id": "77661651-aefa-4c14-8c36-ea95c02c2d9f",
   "metadata": {},
   "outputs": [],
   "source": [
    "model = pipeline.fit(train_data)"
   ]
  },
  {
   "cell_type": "code",
   "execution_count": 112,
   "id": "5195a59e-ea91-49a7-a017-de147a494fa9",
   "metadata": {},
   "outputs": [],
   "source": [
    "predictions = model.transform(test_data)"
   ]
  },
  {
   "cell_type": "code",
   "execution_count": 113,
   "id": "56d8b4fc-736e-4748-b927-81ec81fbd7b5",
   "metadata": {},
   "outputs": [
    {
     "data": {
      "text/plain": [
       "0.6832632299716326"
      ]
     },
     "execution_count": 113,
     "metadata": {},
     "output_type": "execute_result"
    }
   ],
   "source": [
    "from pyspark.ml.evaluation import MulticlassClassificationEvaluator\n",
    "\n",
    "evaluator = MulticlassClassificationEvaluator(labelCol='stroke', predictionCol='prediction', metricName='accuracy')\n",
    "accuracy = evaluator.evaluate(predictions)\n",
    "\n",
    "accuracy"
   ]
  },
  {
   "cell_type": "markdown",
   "id": "29656b46-fa08-454b-8910-3bf42a6916be",
   "metadata": {},
   "source": [
    "### Resposta: 68%"
   ]
  },
  {
   "cell_type": "markdown",
   "id": "c4647c4a-1c1b-4e4e-a542-17caf1c57660",
   "metadata": {},
   "source": [
    "## 12) Adicione ao modelo as variáveis categóricas: gênero e status de fumante. Use o conteúdo da aula interativa para lidar com as variáveis categóricas.  A acurácia (qualidade) do modelo aumentou para:\n"
   ]
  },
  {
   "cell_type": "code",
   "execution_count": 157,
   "id": "4beabc83-19ea-4f08-875a-e307f1c2a8a1",
   "metadata": {},
   "outputs": [],
   "source": [
    "from pyspark.ml.feature import StringIndexer, OneHotEncoder\n",
    "\n",
    "gender_indexer = StringIndexer(inputCol='gender', outputCol='GenderIndex')\n",
    "gender_encoder = OneHotEncoder(inputCol='GenderIndex', outputCol='GenderVector')\n",
    "\n",
    "smoking_indexer = StringIndexer(inputCol='smoking_status', outputCol='SmokingIndex')\n",
    "smoking_encoder = OneHotEncoder(inputCol='SmokingIndex', outputCol='SmokingVector')"
   ]
  },
  {
   "cell_type": "code",
   "execution_count": 217,
   "id": "d8ff61d0-74ce-490c-9894-da248809f41c",
   "metadata": {},
   "outputs": [],
   "source": [
    "assembler2 = VectorAssembler(inputCols=['age', 'bmi', 'hypertension', 'heart_disease', 'avg_glucose_level', 'GenderVector', 'SmokingIndex'], outputCol='features2')"
   ]
  },
  {
   "cell_type": "code",
   "execution_count": 218,
   "id": "b8fa1fef-375e-4489-b338-5100a7588745",
   "metadata": {},
   "outputs": [],
   "source": [
    "from pyspark.ml.classification import DecisionTreeClassifier\n",
    "\n",
    "classifier2 = DecisionTreeClassifier(labelCol='stroke', featuresCol='features2')"
   ]
  },
  {
   "cell_type": "code",
   "execution_count": 219,
   "id": "3c56b1f9-40a3-40c9-a2c9-94d4d3a1a339",
   "metadata": {},
   "outputs": [],
   "source": [
    "from pyspark.ml import Pipeline\n",
    "\n",
    "pipeline2 = Pipeline(stages=[gender_indexer, gender_encoder, smoking_indexer, smoking_encoder, assembler2, classifier2])"
   ]
  },
  {
   "cell_type": "code",
   "execution_count": 220,
   "id": "c6baadf8-2ab8-475d-b6ad-9428edc79063",
   "metadata": {},
   "outputs": [],
   "source": [
    "model2 = pipeline2.fit(train_data)"
   ]
  },
  {
   "cell_type": "code",
   "execution_count": 221,
   "id": "59fde7d6-076f-49e8-9f7d-05468a7e9a1e",
   "metadata": {},
   "outputs": [],
   "source": [
    "predictions2 = model2.transform(test_data)"
   ]
  },
  {
   "cell_type": "code",
   "execution_count": 222,
   "id": "06c85d83-0d04-46f0-8981-c25735a37489",
   "metadata": {},
   "outputs": [
    {
     "data": {
      "text/plain": [
       "0.8332192115817275"
      ]
     },
     "execution_count": 222,
     "metadata": {},
     "output_type": "execute_result"
    }
   ],
   "source": [
    "evaluator2 = MulticlassClassificationEvaluator(labelCol='stroke', predictionCol='prediction', metricName='accuracy')\n",
    "accuracy2 = evaluator2.evaluate(predictions2)\n",
    "\n",
    "accuracy2"
   ]
  },
  {
   "cell_type": "code",
   "execution_count": 223,
   "id": "62dbe741-2fdd-4ea0-b926-bc1b98bcd8c2",
   "metadata": {},
   "outputs": [
    {
     "data": {
      "text/plain": [
       "0.8332192115817275"
      ]
     },
     "execution_count": 223,
     "metadata": {},
     "output_type": "execute_result"
    }
   ],
   "source": [
    "0.8332192115817275"
   ]
  },
  {
   "cell_type": "code",
   "execution_count": 224,
   "id": "c1408ada-d069-4f63-a61f-73a85060195f",
   "metadata": {},
   "outputs": [
    {
     "data": {
      "text/plain": [
       "0.8330235742932603"
      ]
     },
     "execution_count": 224,
     "metadata": {},
     "output_type": "execute_result"
    }
   ],
   "source": [
    "0.8330235742932603"
   ]
  },
  {
   "cell_type": "markdown",
   "id": "4d9fccdc-38a6-4173-8a3e-e04946f0bf2c",
   "metadata": {},
   "source": [
    "### Resposta:"
   ]
  },
  {
   "cell_type": "markdown",
   "id": "3db1a134-7873-49f5-946b-a15a207d1e5a",
   "metadata": {},
   "source": [
    "## 13) Qual dessas variáveis é mais importante no modelo de árvore de decisão que você construiu na questão (12)?\n"
   ]
  },
  {
   "cell_type": "code",
   "execution_count": 225,
   "id": "83a912b2-987d-4395-bc20-5a6341054641",
   "metadata": {},
   "outputs": [
    {
     "data": {
      "text/plain": [
       "DecisionTreeClassificationModel: uid=DecisionTreeClassifier_f0785bfde5b3, depth=5, numNodes=17, numClasses=2, numFeatures=8"
      ]
     },
     "metadata": {},
     "output_type": "display_data"
    },
    {
     "data": {
      "text/plain": [
       "[('age', 0.16896413540358615),\n",
       " ('bmi', 0.0007689150089890677),\n",
       " ('hypertension', 0.0),\n",
       " ('heart_disease', 0.0),\n",
       " ('avg_glucose_level', 0.007163114912717079),\n",
       " ('GenderVector', 0.0),\n",
       " ('SmokingIndex', 0.0)]"
      ]
     },
     "execution_count": 225,
     "metadata": {},
     "output_type": "execute_result"
    }
   ],
   "source": [
    "va = model2.stages[-2]\n",
    "tree = model2.stages[-1]\n",
    "display(tree) #visualize the decision tree model\n",
    "# print(tree.toDebugString) #print the nodes of the decision tree model\n",
    "list(zip(va.getInputCols(), tree.featureImportances))"
   ]
  },
  {
   "cell_type": "code",
   "execution_count": 226,
   "id": "2a538b97-78e6-45df-a6e3-ea9e9085e760",
   "metadata": {},
   "outputs": [
    {
     "data": {
      "text/plain": [
       "SparseVector(8, {0: 0.169, 1: 0.0008, 4: 0.0072, 7: 0.8231})"
      ]
     },
     "execution_count": 226,
     "metadata": {},
     "output_type": "execute_result"
    }
   ],
   "source": [
    "tree.featureImportances"
   ]
  },
  {
   "cell_type": "code",
   "execution_count": 227,
   "id": "bd22a206-a9fc-4dc9-b19e-fdafd37ed38c",
   "metadata": {},
   "outputs": [],
   "source": [
    "va = ('age', 'bmi', 'hypertension', 'heart_disease', 'avg_glucose_level', 'GenderIndex','GenderVector', 'SmokingIndex', 'SmokingVector')"
   ]
  },
  {
   "cell_type": "code",
   "execution_count": 228,
   "id": "39673f8b-d6f2-4a05-85ea-4d53176ae0f5",
   "metadata": {},
   "outputs": [
    {
     "data": {
      "text/plain": [
       "[('age', 0.16896413540358615),\n",
       " ('bmi', 0.0007689150089890677),\n",
       " ('hypertension', 0.0),\n",
       " ('heart_disease', 0.0),\n",
       " ('avg_glucose_level', 0.007163114912717079),\n",
       " ('GenderIndex', 0.0),\n",
       " ('GenderVector', 0.0),\n",
       " ('SmokingIndex', 0.8231038346747077)]"
      ]
     },
     "execution_count": 228,
     "metadata": {},
     "output_type": "execute_result"
    }
   ],
   "source": [
    "list(zip(va, tree.featureImportances))"
   ]
  },
  {
   "cell_type": "code",
   "execution_count": 229,
   "id": "9cd594dc-0235-4d13-86ca-63c1ce6b43b2",
   "metadata": {},
   "outputs": [
    {
     "data": {
      "text/plain": [
       "0.8229974731256099"
      ]
     },
     "execution_count": 229,
     "metadata": {},
     "output_type": "execute_result"
    }
   ],
   "source": [
    "0.487351310374862+0.3356461627507479"
   ]
  },
  {
   "cell_type": "code",
   "execution_count": 230,
   "id": "5a4ed854-a1ad-4ca3-ae3e-a0920ab9a99a",
   "metadata": {},
   "outputs": [
    {
     "data": {
      "text/plain": [
       "0.8231038346747077"
      ]
     },
     "execution_count": 230,
     "metadata": {},
     "output_type": "execute_result"
    }
   ],
   "source": [
    "0.8231038346747077"
   ]
  },
  {
   "cell_type": "markdown",
   "id": "0a4611db-49c3-4511-a9ec-2ddecb1beb1d",
   "metadata": {},
   "source": [
    "### Resposta:"
   ]
  },
  {
   "cell_type": "markdown",
   "id": "44a3dbe0-0110-41cb-bdc9-6c631e145549",
   "metadata": {},
   "source": [
    "## 14) Qual a profundidade da árvore de decisão da questão (12)?\n"
   ]
  },
  {
   "cell_type": "code",
   "execution_count": 231,
   "id": "23cdbd2b-2f84-4aaf-bf68-5c9f3dca2e15",
   "metadata": {},
   "outputs": [
    {
     "data": {
      "text/plain": [
       "5"
      ]
     },
     "execution_count": 231,
     "metadata": {},
     "output_type": "execute_result"
    }
   ],
   "source": [
    "tree.depth"
   ]
  },
  {
   "cell_type": "markdown",
   "id": "abdd065d-b896-4918-b738-70105b8242c1",
   "metadata": {},
   "source": [
    "### Resposta: 5"
   ]
  },
  {
   "cell_type": "markdown",
   "id": "6ac5db55-b5ed-47ec-82e5-7779d2c6231b",
   "metadata": {},
   "source": [
    "## 15) Quantos nodos a árvore de decisão possui?\n"
   ]
  },
  {
   "cell_type": "code",
   "execution_count": 232,
   "id": "9856cd55-7f82-48e8-9aea-dbb9a2241423",
   "metadata": {},
   "outputs": [
    {
     "data": {
      "text/plain": [
       "17"
      ]
     },
     "execution_count": 232,
     "metadata": {},
     "output_type": "execute_result"
    }
   ],
   "source": [
    "tree.numNodes"
   ]
  },
  {
   "cell_type": "markdown",
   "id": "5171554e-131c-42e6-a52b-9812275e266e",
   "metadata": {},
   "source": [
    "### Resposta: 19"
   ]
  }
 ],
 "metadata": {
  "kernelspec": {
   "display_name": "Python 3 (ipykernel)",
   "language": "python",
   "name": "python3"
  },
  "language_info": {
   "codemirror_mode": {
    "name": "ipython",
    "version": 3
   },
   "file_extension": ".py",
   "mimetype": "text/x-python",
   "name": "python",
   "nbconvert_exporter": "python",
   "pygments_lexer": "ipython3",
   "version": "3.10.4"
  }
 },
 "nbformat": 4,
 "nbformat_minor": 5
}
