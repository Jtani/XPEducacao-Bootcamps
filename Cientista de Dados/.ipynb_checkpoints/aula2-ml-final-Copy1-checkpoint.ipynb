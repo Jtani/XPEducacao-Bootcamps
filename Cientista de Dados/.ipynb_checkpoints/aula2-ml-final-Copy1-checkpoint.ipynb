{
 "cells": [
  {
   "cell_type": "code",
   "execution_count": 4,
   "id": "a3550062",
   "metadata": {},
   "outputs": [
    {
     "data": {
      "text/plain": [
       "'3.3.0'"
      ]
     },
     "execution_count": 4,
     "metadata": {},
     "output_type": "execute_result"
    }
   ],
   "source": [
    "from pyspark.sql import SparkSession\n",
    "\n",
    "spark = SparkSession \\\n",
    "        .builder \\\n",
    "        .appName(\"Aula Interativa 2 - ML\") \\\n",
    "        .getOrCreate()\n",
    "\n",
    "spark.version"
   ]
  },
  {
   "cell_type": "code",
   "execution_count": 5,
   "id": "502cdf73",
   "metadata": {},
   "outputs": [
    {
     "name": "stdout",
     "output_type": "stream",
     "text": [
      "root\n",
      " |-- PassengerId: integer (nullable = true)\n",
      " |-- Survived: integer (nullable = true)\n",
      " |-- Pclass: integer (nullable = true)\n",
      " |-- Name: string (nullable = true)\n",
      " |-- Sex: string (nullable = true)\n",
      " |-- Age: double (nullable = true)\n",
      " |-- SibSp: integer (nullable = true)\n",
      " |-- Parch: integer (nullable = true)\n",
      " |-- Ticket: string (nullable = true)\n",
      " |-- Fare: double (nullable = true)\n",
      " |-- Cabin: string (nullable = true)\n",
      " |-- Embarked: string (nullable = true)\n",
      "\n"
     ]
    }
   ],
   "source": [
    "titanic_df = spark.read.csv('titanic.csv', header='True', inferSchema='True')\n",
    "\n",
    "titanic_df.printSchema()"
   ]
  },
  {
   "cell_type": "code",
   "execution_count": 6,
   "id": "e0422a38",
   "metadata": {},
   "outputs": [],
   "source": [
    "from pyspark.ml.feature import StringIndexer, OneHotEncoder\n",
    "\n",
    "sex_indexer = StringIndexer(inputCol='Sex', outputCol='SexIndex')\n",
    "sex_encoder = OneHotEncoder(inputCol='SexIndex', outputCol='SexVector')\n"
   ]
  },
  {
   "cell_type": "code",
   "execution_count": 7,
   "id": "ef8f8785",
   "metadata": {},
   "outputs": [],
   "source": [
    "from pyspark.ml.feature import VectorAssembler\n",
    "\n",
    "assembler = VectorAssembler(inputCols=['Age', 'Pclass', 'Fare', 'SexVector'], outputCol='features')\n"
   ]
  },
  {
   "cell_type": "code",
   "execution_count": 8,
   "id": "09e22b83",
   "metadata": {},
   "outputs": [
    {
     "data": {
      "text/plain": [
       "DecisionTreeClassifier_41c1d1b89e13"
      ]
     },
     "execution_count": 8,
     "metadata": {},
     "output_type": "execute_result"
    }
   ],
   "source": [
    "from pyspark.ml.classification import DecisionTreeClassifier\n",
    "\n",
    "classifier = DecisionTreeClassifier(labelCol='Survived', featuresCol='features')\n",
    "\n",
    "classifier"
   ]
  },
  {
   "cell_type": "code",
   "execution_count": 9,
   "id": "eb650f0b",
   "metadata": {},
   "outputs": [],
   "source": [
    "from pyspark.ml import Pipeline\n",
    "\n",
    "pipeline = Pipeline(stages=[sex_indexer, sex_encoder, assembler, classifier])"
   ]
  },
  {
   "cell_type": "code",
   "execution_count": 10,
   "id": "73bb9205",
   "metadata": {},
   "outputs": [],
   "source": [
    "train_data, test_data = titanic_df.randomSplit([0.7, 0.3])"
   ]
  },
  {
   "cell_type": "code",
   "execution_count": 25,
   "id": "72c9332d",
   "metadata": {},
   "outputs": [],
   "source": [
    "# predictSurvivedModel = pipeline.fit(train_data)"
   ]
  },
  {
   "cell_type": "code",
   "execution_count": 12,
   "id": "6563e950",
   "metadata": {},
   "outputs": [
    {
     "data": {
      "text/plain": [
       "29.69911764705882"
      ]
     },
     "execution_count": 12,
     "metadata": {},
     "output_type": "execute_result"
    }
   ],
   "source": [
    "mean_age = titanic_df.agg({'Age': 'mean'}).collect()[0][0]\n",
    "mean_age"
   ]
  },
  {
   "cell_type": "code",
   "execution_count": 13,
   "id": "ca6af02a",
   "metadata": {},
   "outputs": [],
   "source": [
    "titanic_df = titanic_df.fillna(mean_age, subset=['Age'])"
   ]
  },
  {
   "cell_type": "code",
   "execution_count": 14,
   "id": "d40cc60a",
   "metadata": {},
   "outputs": [
    {
     "name": "stdout",
     "output_type": "stream",
     "text": [
      "+------+-----+\n",
      "|   Sex|count|\n",
      "+------+-----+\n",
      "|female|  314|\n",
      "|  male|  577|\n",
      "+------+-----+\n",
      "\n"
     ]
    }
   ],
   "source": [
    "train_data, test_data = titanic_df.randomSplit([0.7, 0.3])\n",
    "predictSurvivedModel = pipeline.fit(train_data)\n",
    "\n",
    "titanic_df.groupBy('Sex').count().show()"
   ]
  },
  {
   "cell_type": "code",
   "execution_count": null,
   "id": "aa3f15c1-3378-4747-9beb-40801c8baf27",
   "metadata": {},
   "outputs": [],
   "source": []
  },
  {
   "cell_type": "code",
   "execution_count": 26,
   "id": "afcd4bb2",
   "metadata": {},
   "outputs": [
    {
     "name": "stdout",
     "output_type": "stream",
     "text": [
      "+-----------+------+--------+-------------+-------------+----------+\n",
      "|passengerId|   sex|sexIndex|    sexVector|rawPrediction|prediction|\n",
      "+-----------+------+--------+-------------+-------------+----------+\n",
      "|          4|female|     1.0|    (1,[],[])|  [4.0,115.0]|       1.0|\n",
      "|          6|  male|     0.0|(1,[0],[1.0])| [304.0,58.0]|       0.0|\n",
      "|          7|  male|     0.0|(1,[0],[1.0])| [304.0,58.0]|       0.0|\n",
      "|         10|female|     1.0|    (1,[],[])|  [4.0,115.0]|       1.0|\n",
      "|         17|  male|     0.0|(1,[0],[1.0])|   [10.0,1.0]|       0.0|\n",
      "+-----------+------+--------+-------------+-------------+----------+\n",
      "only showing top 5 rows\n",
      "\n"
     ]
    }
   ],
   "source": [
    "predictions = predictSurvivedModel.transform(test_data)\n",
    "predictions.select('passengerId', 'sex', 'sexIndex', 'sexVector', 'rawPrediction', 'prediction').show(5)\n",
    "\n"
   ]
  },
  {
   "cell_type": "code",
   "execution_count": null,
   "id": "f29fe164-9c82-466a-9e58-c2c24fdb30fd",
   "metadata": {},
   "outputs": [],
   "source": []
  },
  {
   "cell_type": "code",
   "execution_count": 30,
   "id": "cd06f5de-cfe4-4bdd-bb40-4186ea83802a",
   "metadata": {},
   "outputs": [
    {
     "name": "stdout",
     "output_type": "stream",
     "text": [
      "+-----------+--------+------+--------------------+------+-----------------+-----+-----+----------+-------+-----+--------+--------+-------------+--------------------+-------------+--------------------+----------+\n",
      "|PassengerId|Survived|Pclass|                Name|   Sex|              Age|SibSp|Parch|    Ticket|   Fare|Cabin|Embarked|SexIndex|    SexVector|            features|rawPrediction|         probability|prediction|\n",
      "+-----------+--------+------+--------------------+------+-----------------+-----+-----+----------+-------+-----+--------+--------+-------------+--------------------+-------------+--------------------+----------+\n",
      "|          4|       1|     1|Futrelle, Mrs. Ja...|female|             35.0|    1|    0|    113803|   53.1| C123|       S|     1.0|    (1,[],[])| [35.0,1.0,53.1,0.0]|  [4.0,115.0]|[0.03361344537815...|       1.0|\n",
      "|          6|       0|     3|    Moran, Mr. James|  male|29.69911764705882|    0|    0|    330877| 8.4583| null|       Q|     0.0|(1,[0],[1.0])|[29.6991176470588...| [304.0,58.0]|[0.83977900552486...|       0.0|\n",
      "|          7|       0|     1|McCarthy, Mr. Tim...|  male|             54.0|    0|    0|     17463|51.8625|  E46|       S|     0.0|(1,[0],[1.0])|[54.0,1.0,51.8625...| [304.0,58.0]|[0.83977900552486...|       0.0|\n",
      "|         10|       1|     2|Nasser, Mrs. Nich...|female|             14.0|    1|    0|    237736|30.0708| null|       C|     1.0|    (1,[],[])|[14.0,2.0,30.0708...|  [4.0,115.0]|[0.03361344537815...|       1.0|\n",
      "|         17|       0|     3|Rice, Master. Eugene|  male|              2.0|    4|    1|    382652| 29.125| null|       Q|     0.0|(1,[0],[1.0])|[2.0,3.0,29.125,1.0]|   [10.0,1.0]|[0.90909090909090...|       0.0|\n",
      "|         18|       1|     2|Williams, Mr. Cha...|  male|29.69911764705882|    0|    0|    244373|   13.0| null|       S|     0.0|(1,[0],[1.0])|[29.6991176470588...| [304.0,58.0]|[0.83977900552486...|       0.0|\n",
      "|         19|       0|     3|Vander Planke, Mr...|female|             31.0|    1|    0|    345763|   18.0| null|       S|     1.0|    (1,[],[])| [31.0,3.0,18.0,0.0]|  [31.0,54.0]|[0.36470588235294...|       1.0|\n",
      "|         23|       1|     3|\"McGowan, Miss. A...|female|             15.0|    0|    0|    330923| 8.0292| null|       Q|     1.0|    (1,[],[])|[15.0,3.0,8.0292,...|  [31.0,54.0]|[0.36470588235294...|       1.0|\n",
      "|         24|       1|     1|Sloper, Mr. Willi...|  male|             28.0|    0|    0|    113788|   35.5|   A6|       S|     0.0|(1,[0],[1.0])| [28.0,1.0,35.5,1.0]| [304.0,58.0]|[0.83977900552486...|       0.0|\n",
      "|         26|       1|     3|Asplund, Mrs. Car...|female|             38.0|    1|    5|    347077|31.3875| null|       S|     1.0|    (1,[],[])|[38.0,3.0,31.3875...|   [11.0,0.0]|           [1.0,0.0]|       0.0|\n",
      "|         29|       1|     3|\"O'Dwyer, Miss. E...|female|29.69911764705882|    0|    0|    330959| 7.8792| null|       Q|     1.0|    (1,[],[])|[29.6991176470588...|  [31.0,54.0]|[0.36470588235294...|       1.0|\n",
      "|         30|       0|     3| Todoroff, Mr. Lalio|  male|29.69911764705882|    0|    0|    349216| 7.8958| null|       S|     0.0|(1,[0],[1.0])|[29.6991176470588...| [304.0,58.0]|[0.83977900552486...|       0.0|\n",
      "|         31|       0|     1|Uruchurtu, Don. M...|  male|             40.0|    0|    0|  PC 17601|27.7208| null|       C|     0.0|(1,[0],[1.0])|[40.0,1.0,27.7208...| [304.0,58.0]|[0.83977900552486...|       0.0|\n",
      "|         35|       0|     1|Meyer, Mr. Edgar ...|  male|             28.0|    1|    0|  PC 17604|82.1708| null|       C|     0.0|(1,[0],[1.0])|[28.0,1.0,82.1708...| [304.0,58.0]|[0.83977900552486...|       0.0|\n",
      "|         42|       0|     2|Turpin, Mrs. Will...|female|             27.0|    1|    0|     11668|   21.0| null|       S|     1.0|    (1,[],[])| [27.0,2.0,21.0,0.0]|  [4.0,115.0]|[0.03361344537815...|       1.0|\n",
      "|         51|       0|     3|Panula, Master. J...|  male|              7.0|    4|    1|   3101295|39.6875| null|       S|     0.0|(1,[0],[1.0])|[7.0,3.0,39.6875,...|   [10.0,1.0]|[0.90909090909090...|       0.0|\n",
      "|         53|       1|     1|Harper, Mrs. Henr...|female|             49.0|    1|    0|  PC 17572|76.7292|  D33|       C|     1.0|    (1,[],[])|[49.0,1.0,76.7292...|  [4.0,115.0]|[0.03361344537815...|       1.0|\n",
      "|         56|       1|     1|   Woolner, Mr. Hugh|  male|29.69911764705882|    0|    0|     19947|   35.5|  C52|       S|     0.0|(1,[0],[1.0])|[29.6991176470588...| [304.0,58.0]|[0.83977900552486...|       0.0|\n",
      "|         57|       1|     2|   Rugg, Miss. Emily|female|             21.0|    0|    0|C.A. 31026|   10.5| null|       S|     1.0|    (1,[],[])| [21.0,2.0,10.5,0.0]|  [4.0,115.0]|[0.03361344537815...|       1.0|\n",
      "|         62|       1|     1| Icard, Miss. Amelie|female|             38.0|    0|    0|    113572|   80.0|  B28|    null|     1.0|    (1,[],[])| [38.0,1.0,80.0,0.0]|  [4.0,115.0]|[0.03361344537815...|       1.0|\n",
      "+-----------+--------+------+--------------------+------+-----------------+-----+-----+----------+-------+-----+--------+--------+-------------+--------------------+-------------+--------------------+----------+\n",
      "only showing top 20 rows\n",
      "\n"
     ]
    }
   ],
   "source": [
    "predictions.show()"
   ]
  },
  {
   "cell_type": "code",
   "execution_count": 16,
   "id": "f2187111",
   "metadata": {},
   "outputs": [
    {
     "data": {
      "text/plain": [
       "0.8057553956834532"
      ]
     },
     "execution_count": 16,
     "metadata": {},
     "output_type": "execute_result"
    }
   ],
   "source": [
    "from pyspark.ml.evaluation import MulticlassClassificationEvaluator\n",
    "\n",
    "evaluator = MulticlassClassificationEvaluator(labelCol='Survived', predictionCol='prediction', metricName='accuracy')\n",
    "accuracy = evaluator.evaluate(predictions)\n",
    "\n",
    "accuracy\n",
    "\n"
   ]
  },
  {
   "cell_type": "code",
   "execution_count": 28,
   "id": "9516aac0-2bdf-478f-b7e8-dc7d8361ac9e",
   "metadata": {},
   "outputs": [
    {
     "data": {
      "text/plain": [
       "DecisionTreeClassificationModel: uid=DecisionTreeClassifier_41c1d1b89e13, depth=5, numNodes=25, numClasses=2, numFeatures=4"
      ]
     },
     "execution_count": 28,
     "metadata": {},
     "output_type": "execute_result"
    }
   ],
   "source": [
    "predictSurvivedModel.stages[-1]\n"
   ]
  },
  {
   "cell_type": "code",
   "execution_count": 27,
   "id": "03b11af2",
   "metadata": {},
   "outputs": [
    {
     "data": {
      "text/plain": [
       "5"
      ]
     },
     "execution_count": 27,
     "metadata": {},
     "output_type": "execute_result"
    }
   ],
   "source": [
    "decisionTreeModel = predictSurvivedModel.stages[-1]\n",
    "decisionTreeModel.depth"
   ]
  },
  {
   "cell_type": "code",
   "execution_count": 22,
   "id": "125ac7cb",
   "metadata": {},
   "outputs": [
    {
     "data": {
      "text/plain": [
       "'DecisionTreeClassificationModel: uid=DecisionTreeClassifier_41c1d1b89e13, depth=5, numNodes=25, numClasses=2, numFeatures=4\\n  If (feature 3 in {1.0})\\n   If (feature 0 <= 14.5)\\n    If (feature 1 <= 2.5)\\n     Predict: 1.0\\n    Else (feature 1 > 2.5)\\n     If (feature 2 <= 20.7875)\\n      Predict: 1.0\\n     Else (feature 2 > 20.7875)\\n      Predict: 0.0\\n   Else (feature 0 > 14.5)\\n    Predict: 0.0\\n  Else (feature 3 not in {1.0})\\n   If (feature 1 <= 2.5)\\n    If (feature 0 <= 2.5)\\n     If (feature 1 <= 1.5)\\n      Predict: 0.0\\n     Else (feature 1 > 1.5)\\n      Predict: 1.0\\n    Else (feature 0 > 2.5)\\n     Predict: 1.0\\n   Else (feature 1 > 2.5)\\n    If (feature 2 <= 25.527099999999997)\\n     If (feature 0 <= 33.5)\\n      Predict: 1.0\\n     Else (feature 0 > 33.5)\\n      If (feature 0 <= 48.5)\\n       Predict: 0.0\\n      Else (feature 0 > 48.5)\\n       Predict: 1.0\\n    Else (feature 2 > 25.527099999999997)\\n     If (feature 0 <= 7.5)\\n      If (feature 2 <= 31.331249999999997)\\n       Predict: 0.0\\n      Else (feature 2 > 31.331249999999997)\\n       Predict: 1.0\\n     Else (feature 0 > 7.5)\\n      Predict: 0.0\\n'"
      ]
     },
     "execution_count": 22,
     "metadata": {},
     "output_type": "execute_result"
    }
   ],
   "source": [
    "decisionTreeModel.toDebugString"
   ]
  },
  {
   "cell_type": "code",
   "execution_count": 23,
   "id": "b6c857a2",
   "metadata": {},
   "outputs": [
    {
     "data": {
      "text/plain": [
       "SparseVector(4, {0: 0.0989, 1: 0.1736, 2: 0.0803, 3: 0.6473})"
      ]
     },
     "execution_count": 23,
     "metadata": {},
     "output_type": "execute_result"
    }
   ],
   "source": [
    "decisionTreeModel.featureImportances"
   ]
  },
  {
   "cell_type": "code",
   "execution_count": 24,
   "id": "5a5789da",
   "metadata": {},
   "outputs": [
    {
     "data": {
      "text/plain": [
       "[('Age', 0.09885218781275795),\n",
       " ('Pclass', 0.17357724994481527),\n",
       " ('Fare', 0.08027004487359246),\n",
       " ('SexVector', 0.6473005173688343)]"
      ]
     },
     "execution_count": 24,
     "metadata": {},
     "output_type": "execute_result"
    }
   ],
   "source": [
    "list(zip(assembler.getInputCols(), decisionTreeModel.featureImportances))"
   ]
  },
  {
   "cell_type": "code",
   "execution_count": null,
   "id": "4ea1a62b",
   "metadata": {},
   "outputs": [],
   "source": []
  },
  {
   "cell_type": "code",
   "execution_count": null,
   "id": "21b9373d-9c3a-40bc-96ea-83d9d7ae7ba2",
   "metadata": {},
   "outputs": [],
   "source": []
  }
 ],
 "metadata": {
  "kernelspec": {
   "display_name": "Python 3 (ipykernel)",
   "language": "python",
   "name": "python3"
  },
  "language_info": {
   "codemirror_mode": {
    "name": "ipython",
    "version": 3
   },
   "file_extension": ".py",
   "mimetype": "text/x-python",
   "name": "python",
   "nbconvert_exporter": "python",
   "pygments_lexer": "ipython3",
   "version": "3.10.4"
  }
 },
 "nbformat": 4,
 "nbformat_minor": 5
}
