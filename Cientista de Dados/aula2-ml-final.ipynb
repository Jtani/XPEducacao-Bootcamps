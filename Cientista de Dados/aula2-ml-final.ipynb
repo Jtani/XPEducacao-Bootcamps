{
 "cells": [
  {
   "cell_type": "code",
   "execution_count": 31,
   "id": "a3550062",
   "metadata": {},
   "outputs": [
    {
     "data": {
      "text/plain": [
       "'3.3.0'"
      ]
     },
     "execution_count": 31,
     "metadata": {},
     "output_type": "execute_result"
    }
   ],
   "source": [
    "from pyspark.sql import SparkSession\n",
    "\n",
    "spark = SparkSession \\\n",
    "        .builder \\\n",
    "        .appName(\"Aula Interativa 2 - ML\") \\\n",
    "        .getOrCreate()\n",
    "\n",
    "spark.version"
   ]
  },
  {
   "cell_type": "code",
   "execution_count": 32,
   "id": "502cdf73",
   "metadata": {},
   "outputs": [
    {
     "name": "stdout",
     "output_type": "stream",
     "text": [
      "root\n",
      " |-- PassengerId: integer (nullable = true)\n",
      " |-- Survived: integer (nullable = true)\n",
      " |-- Pclass: integer (nullable = true)\n",
      " |-- Name: string (nullable = true)\n",
      " |-- Sex: string (nullable = true)\n",
      " |-- Age: double (nullable = true)\n",
      " |-- SibSp: integer (nullable = true)\n",
      " |-- Parch: integer (nullable = true)\n",
      " |-- Ticket: string (nullable = true)\n",
      " |-- Fare: double (nullable = true)\n",
      " |-- Cabin: string (nullable = true)\n",
      " |-- Embarked: string (nullable = true)\n",
      "\n"
     ]
    }
   ],
   "source": [
    "titanic_df = spark.read.csv('titanic.csv', header='True', inferSchema='True')\n",
    "\n",
    "titanic_df.printSchema()"
   ]
  },
  {
   "cell_type": "code",
   "execution_count": 33,
   "id": "e0422a38",
   "metadata": {},
   "outputs": [],
   "source": [
    "from pyspark.ml.feature import StringIndexer, OneHotEncoder\n",
    "\n",
    "sex_indexer = StringIndexer(inputCol='Sex', outputCol='SexIndex')\n",
    "sex_encoder = OneHotEncoder(inputCol='SexIndex', outputCol='SexVector')\n"
   ]
  },
  {
   "cell_type": "code",
   "execution_count": 34,
   "id": "ef8f8785",
   "metadata": {},
   "outputs": [],
   "source": [
    "from pyspark.ml.feature import VectorAssembler\n",
    "\n",
    "assembler = VectorAssembler(inputCols=['Age', 'Pclass', 'Fare', 'SexVector'], outputCol='features')\n"
   ]
  },
  {
   "cell_type": "code",
   "execution_count": 35,
   "id": "09e22b83",
   "metadata": {},
   "outputs": [
    {
     "data": {
      "text/plain": [
       "DecisionTreeClassifier_f116875a6bc2"
      ]
     },
     "execution_count": 35,
     "metadata": {},
     "output_type": "execute_result"
    }
   ],
   "source": [
    "from pyspark.ml.classification import DecisionTreeClassifier\n",
    "\n",
    "classifier = DecisionTreeClassifier(labelCol='Survived', featuresCol='features')\n",
    "\n",
    "classifier"
   ]
  },
  {
   "cell_type": "code",
   "execution_count": 36,
   "id": "eb650f0b",
   "metadata": {},
   "outputs": [],
   "source": [
    "from pyspark.ml import Pipeline\n",
    "\n",
    "pipeline = Pipeline(stages=[sex_indexer, sex_encoder, assembler, classifier])"
   ]
  },
  {
   "cell_type": "code",
   "execution_count": 37,
   "id": "73bb9205",
   "metadata": {},
   "outputs": [],
   "source": [
    "train_data, test_data = titanic_df.randomSplit([0.7, 0.3])"
   ]
  },
  {
   "cell_type": "code",
   "execution_count": 38,
   "id": "72c9332d",
   "metadata": {},
   "outputs": [],
   "source": [
    "# predictSurvivedModel = pipeline.fit(train_data)"
   ]
  },
  {
   "cell_type": "code",
   "execution_count": 39,
   "id": "6563e950",
   "metadata": {},
   "outputs": [
    {
     "data": {
      "text/plain": [
       "29.69911764705882"
      ]
     },
     "execution_count": 39,
     "metadata": {},
     "output_type": "execute_result"
    }
   ],
   "source": [
    "mean_age = titanic_df.agg({'Age': 'mean'}).collect()[0][0]\n",
    "mean_age"
   ]
  },
  {
   "cell_type": "code",
   "execution_count": 43,
   "id": "ca6af02a",
   "metadata": {},
   "outputs": [],
   "source": [
    "titanic_df = titanic_df.fillna(mean_age, subset=['Age'])"
   ]
  },
  {
   "cell_type": "code",
   "execution_count": 44,
   "id": "d40cc60a",
   "metadata": {},
   "outputs": [
    {
     "name": "stdout",
     "output_type": "stream",
     "text": [
      "+------+-----+\n",
      "|   Sex|count|\n",
      "+------+-----+\n",
      "|female|  314|\n",
      "|  male|  577|\n",
      "+------+-----+\n",
      "\n"
     ]
    }
   ],
   "source": [
    "train_data, test_data = titanic_df.randomSplit([0.7, 0.3])\n",
    "predictSurvivedModel = pipeline.fit(train_data)\n",
    "\n",
    "titanic_df.groupBy('Sex').count().show()"
   ]
  },
  {
   "cell_type": "code",
   "execution_count": null,
   "id": "aa3f15c1-3378-4747-9beb-40801c8baf27",
   "metadata": {},
   "outputs": [],
   "source": []
  },
  {
   "cell_type": "code",
   "execution_count": 54,
   "id": "afcd4bb2",
   "metadata": {},
   "outputs": [
    {
     "name": "stdout",
     "output_type": "stream",
     "text": [
      "+----+------+--------+-------------+-------------+----------+--------------------+\n",
      "| age|   sex|sexIndex|    sexVector|rawPrediction|prediction|            features|\n",
      "+----+------+--------+-------------+-------------+----------+--------------------+\n",
      "|22.0|  male|     0.0|(1,[0],[1.0])| [255.0,27.0]|       0.0| [22.0,3.0,7.25,1.0]|\n",
      "|26.0|female|     1.0|    (1,[],[])|  [26.0,21.0]|       0.0|[26.0,3.0,7.925,0.0]|\n",
      "|35.0|  male|     0.0|(1,[0],[1.0])| [255.0,27.0]|       0.0| [35.0,3.0,8.05,1.0]|\n",
      "|39.0|  male|     0.0|(1,[0],[1.0])| [255.0,27.0]|       0.0|[39.0,3.0,31.275,...|\n",
      "|34.0|  male|     0.0|(1,[0],[1.0])| [255.0,27.0]|       0.0| [34.0,2.0,13.0,1.0]|\n",
      "+----+------+--------+-------------+-------------+----------+--------------------+\n",
      "only showing top 5 rows\n",
      "\n"
     ]
    }
   ],
   "source": [
    "predictions = predictSurvivedModel.transform(test_data)\n",
    "predictions.select('age', 'sex', 'sexIndex', 'sexVector', 'rawPrediction', 'prediction','features').show(5)\n",
    "\n"
   ]
  },
  {
   "cell_type": "code",
   "execution_count": null,
   "id": "f29fe164-9c82-466a-9e58-c2c24fdb30fd",
   "metadata": {},
   "outputs": [],
   "source": []
  },
  {
   "cell_type": "code",
   "execution_count": 50,
   "id": "cd06f5de-cfe4-4bdd-bb40-4186ea83802a",
   "metadata": {},
   "outputs": [
    {
     "name": "stdout",
     "output_type": "stream",
     "text": [
      "+-------------+\n",
      "|    sexVector|\n",
      "+-------------+\n",
      "|(1,[0],[1.0])|\n",
      "|    (1,[],[])|\n",
      "+-------------+\n",
      "\n"
     ]
    }
   ],
   "source": [
    "predictions.select('sexVector').distinct().show()"
   ]
  },
  {
   "cell_type": "code",
   "execution_count": 47,
   "id": "f2187111",
   "metadata": {},
   "outputs": [
    {
     "data": {
      "text/plain": [
       "0.8235294117647058"
      ]
     },
     "execution_count": 47,
     "metadata": {},
     "output_type": "execute_result"
    }
   ],
   "source": [
    "from pyspark.ml.evaluation import MulticlassClassificationEvaluator\n",
    "\n",
    "evaluator = MulticlassClassificationEvaluator(labelCol='Survived', predictionCol='prediction', metricName='accuracy')\n",
    "accuracy = evaluator.evaluate(predictions)\n",
    "\n",
    "accuracy\n",
    "\n"
   ]
  },
  {
   "cell_type": "code",
   "execution_count": 48,
   "id": "9516aac0-2bdf-478f-b7e8-dc7d8361ac9e",
   "metadata": {},
   "outputs": [
    {
     "data": {
      "text/plain": [
       "DecisionTreeClassificationModel: uid=DecisionTreeClassifier_f116875a6bc2, depth=5, numNodes=35, numClasses=2, numFeatures=4"
      ]
     },
     "execution_count": 48,
     "metadata": {},
     "output_type": "execute_result"
    }
   ],
   "source": [
    "predictSurvivedModel.stages[-1]\n"
   ]
  },
  {
   "cell_type": "code",
   "execution_count": 49,
   "id": "03b11af2",
   "metadata": {},
   "outputs": [
    {
     "data": {
      "text/plain": [
       "5"
      ]
     },
     "execution_count": 49,
     "metadata": {},
     "output_type": "execute_result"
    }
   ],
   "source": [
    "decisionTreeModel = predictSurvivedModel.stages[-1]\n",
    "decisionTreeModel.depth"
   ]
  },
  {
   "cell_type": "code",
   "execution_count": 22,
   "id": "125ac7cb",
   "metadata": {},
   "outputs": [
    {
     "data": {
      "text/plain": [
       "'DecisionTreeClassificationModel: uid=DecisionTreeClassifier_41c1d1b89e13, depth=5, numNodes=25, numClasses=2, numFeatures=4\\n  If (feature 3 in {1.0})\\n   If (feature 0 <= 14.5)\\n    If (feature 1 <= 2.5)\\n     Predict: 1.0\\n    Else (feature 1 > 2.5)\\n     If (feature 2 <= 20.7875)\\n      Predict: 1.0\\n     Else (feature 2 > 20.7875)\\n      Predict: 0.0\\n   Else (feature 0 > 14.5)\\n    Predict: 0.0\\n  Else (feature 3 not in {1.0})\\n   If (feature 1 <= 2.5)\\n    If (feature 0 <= 2.5)\\n     If (feature 1 <= 1.5)\\n      Predict: 0.0\\n     Else (feature 1 > 1.5)\\n      Predict: 1.0\\n    Else (feature 0 > 2.5)\\n     Predict: 1.0\\n   Else (feature 1 > 2.5)\\n    If (feature 2 <= 25.527099999999997)\\n     If (feature 0 <= 33.5)\\n      Predict: 1.0\\n     Else (feature 0 > 33.5)\\n      If (feature 0 <= 48.5)\\n       Predict: 0.0\\n      Else (feature 0 > 48.5)\\n       Predict: 1.0\\n    Else (feature 2 > 25.527099999999997)\\n     If (feature 0 <= 7.5)\\n      If (feature 2 <= 31.331249999999997)\\n       Predict: 0.0\\n      Else (feature 2 > 31.331249999999997)\\n       Predict: 1.0\\n     Else (feature 0 > 7.5)\\n      Predict: 0.0\\n'"
      ]
     },
     "execution_count": 22,
     "metadata": {},
     "output_type": "execute_result"
    }
   ],
   "source": [
    "decisionTreeModel.toDebugString"
   ]
  },
  {
   "cell_type": "code",
   "execution_count": 23,
   "id": "b6c857a2",
   "metadata": {},
   "outputs": [
    {
     "data": {
      "text/plain": [
       "SparseVector(4, {0: 0.0989, 1: 0.1736, 2: 0.0803, 3: 0.6473})"
      ]
     },
     "execution_count": 23,
     "metadata": {},
     "output_type": "execute_result"
    }
   ],
   "source": [
    "decisionTreeModel.featureImportances"
   ]
  },
  {
   "cell_type": "code",
   "execution_count": 24,
   "id": "5a5789da",
   "metadata": {},
   "outputs": [
    {
     "data": {
      "text/plain": [
       "[('Age', 0.09885218781275795),\n",
       " ('Pclass', 0.17357724994481527),\n",
       " ('Fare', 0.08027004487359246),\n",
       " ('SexVector', 0.6473005173688343)]"
      ]
     },
     "execution_count": 24,
     "metadata": {},
     "output_type": "execute_result"
    }
   ],
   "source": [
    "list(zip(assembler.getInputCols(), decisionTreeModel.featureImportances))"
   ]
  },
  {
   "cell_type": "code",
   "execution_count": null,
   "id": "4ea1a62b",
   "metadata": {},
   "outputs": [],
   "source": []
  },
  {
   "cell_type": "code",
   "execution_count": null,
   "id": "21b9373d-9c3a-40bc-96ea-83d9d7ae7ba2",
   "metadata": {},
   "outputs": [],
   "source": []
  }
 ],
 "metadata": {
  "kernelspec": {
   "display_name": "Python 3 (ipykernel)",
   "language": "python",
   "name": "python3"
  },
  "language_info": {
   "codemirror_mode": {
    "name": "ipython",
    "version": 3
   },
   "file_extension": ".py",
   "mimetype": "text/x-python",
   "name": "python",
   "nbconvert_exporter": "python",
   "pygments_lexer": "ipython3",
   "version": "3.10.4"
  }
 },
 "nbformat": 4,
 "nbformat_minor": 5
}
